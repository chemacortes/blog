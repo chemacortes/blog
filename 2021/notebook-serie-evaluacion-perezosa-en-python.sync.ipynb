{
 "cells": [
  {
   "cell_type": "markdown",
   "id": "unknown-flashing",
   "metadata": {
    "toc": true
   },
   "source": [
    "<h1>Tabla de Contenidos<span class=\"tocSkip\"></span></h1>\n",
    "<div class=\"toc\"><ul class=\"toc-item\"><li><span><a href=\"#Introducción-a-la-Evaluación-Perezosa\" data-toc-modified-id=\"Introducción-a-la-Evaluación-Perezosa-1\"><span class=\"toc-item-num\">1&nbsp;&nbsp;</span>Introducción a la <em>Evaluación Perezosa</em></a></span><ul class=\"toc-item\"><li><span><a href=\"#Tipo-Range\" data-toc-modified-id=\"Tipo-Range-1.1\"><span class=\"toc-item-num\">1.1&nbsp;&nbsp;</span>Tipo Range</a></span></li><li><span><a href=\"#Secuencias-con-elemento-genérico-conocido\" data-toc-modified-id=\"Secuencias-con-elemento-genérico-conocido-1.2\"><span class=\"toc-item-num\">1.2&nbsp;&nbsp;</span>Secuencias con elemento genérico conocido</a></span></li><li><span><a href=\"#Resumen\" data-toc-modified-id=\"Resumen-1.3\"><span class=\"toc-item-num\">1.3&nbsp;&nbsp;</span>Resumen</a></span></li></ul></li><li><span><a href=\"#Secuencias-infinitas\" data-toc-modified-id=\"Secuencias-infinitas-2\"><span class=\"toc-item-num\">2&nbsp;&nbsp;</span>Secuencias infinitas</a></span><ul class=\"toc-item\"><li><span><a href=\"#Algunas-definiciones\" data-toc-modified-id=\"Algunas-definiciones-2.1\"><span class=\"toc-item-num\">2.1&nbsp;&nbsp;</span>Algunas definiciones</a></span></li><li><span><a href=\"#Secuencias-infinitas\" data-toc-modified-id=\"Secuencias-infinitas-2.2\"><span class=\"toc-item-num\">2.2&nbsp;&nbsp;</span>Secuencias infinitas</a></span></li><li><span><a href=\"#Ejemplo:-sucesión-de-Fibonacci\" data-toc-modified-id=\"Ejemplo:-sucesión-de-Fibonacci-2.3\"><span class=\"toc-item-num\">2.3&nbsp;&nbsp;</span>Ejemplo: sucesión de Fibonacci</a></span></li><li><span><a href=\"#Resumen\" data-toc-modified-id=\"Resumen-2.4\"><span class=\"toc-item-num\">2.4&nbsp;&nbsp;</span>Resumen</a></span></li></ul></li><li><span><a href=\"#Memoización\" data-toc-modified-id=\"Memoización-3\"><span class=\"toc-item-num\">3&nbsp;&nbsp;</span><em>Memoización</em></a></span><ul class=\"toc-item\"><li><span><a href=\"#Cachés-y-Memoización\" data-toc-modified-id=\"Cachés-y-Memoización-3.1\"><span class=\"toc-item-num\">3.1&nbsp;&nbsp;</span>Cachés y Memoización</a></span></li><li><span><a href=\"#Resumen\" data-toc-modified-id=\"Resumen-3.2\"><span class=\"toc-item-num\">3.2&nbsp;&nbsp;</span>Resumen</a></span></li></ul></li></ul></div>"
   ]
  },
  {
   "cell_type": "markdown",
   "id": "dominican-liquid",
   "metadata": {},
   "source": [
    "## Introducción a la _Evaluación Perezosa_\n",
    "\n",
    "Podemos definir _\"Evaluación Perezosa\"_ como aquella evaluación que realiza los\n",
    "mínimos cálculos imprecindibles para obtener el resultado final.\n",
    "\n",
    "La evaluación perezosa es una de las característica del languaje haskell, aunque\n",
    "vamos a ver que también se puede hacer en otros lenguajes como python.\n",
    "\n",
    "Por ejemplo, imaginemos que queremos obtener todos los número cuadrados menores\n",
    "de 100:"
   ]
  },
  {
   "cell_type": "code",
   "execution_count": null,
   "id": "cooperative-meter",
   "metadata": {},
   "outputs": [],
   "source": [
    "cuadrados = [x**2 for x in range(1, 100)]\n",
    "resultado = [y for y in cuadrados if y < 100]"
   ]
  },
  {
   "cell_type": "markdown",
   "id": "greek-fruit",
   "metadata": {},
   "source": [
    "Para obtener el `resultado`, antes hemos calculado la lista completa\n",
    "`cuadrados`, a pesar de que sólo necesitábamos unos 10 elementos.\n",
    "\n",
    "Una posible mejora sería usar una expresión generadora:"
   ]
  },
  {
   "cell_type": "code",
   "execution_count": null,
   "id": "prescription-diabetes",
   "metadata": {},
   "outputs": [],
   "source": [
    "cuadrados = (x**2 for x in range(1, 100))\n",
    "resultado = [y for y in cuadrados if y < 100]"
   ]
  },
  {
   "cell_type": "markdown",
   "id": "separate-smile",
   "metadata": {},
   "source": [
    "Aquí los elementos de la lista `cuadrados` se calculan a medida que son\n",
    "necesarios, sin gastar memoria para almacenar la secuencia a medida que se\n",
    "obtiene, algo que pasaba con el ejemplo anterior. Aún así, se vuelven a calcular\n",
    "los 100 cuadrados, ya que no se corta la iteración en ningún momento.\n",
    "Necesitamos un modo de limitarnos únicamente a los elementos que vamos a\n",
    "utilizar.\n",
    "\n",
    "Para quedarnos sólo con los primeros elementos vamos a usar la función\n",
    "`itertools.takewhile`:"
   ]
  },
  {
   "cell_type": "code",
   "execution_count": null,
   "id": "distant-india",
   "metadata": {},
   "outputs": [],
   "source": [
    "from itertools import takewhile\n",
    "\n",
    "cuadrados = (x**2 for x in range(1, 100))\n",
    "resultado = list(takewhile(lambda y: y<100, cuadrados))"
   ]
  },
  {
   "cell_type": "markdown",
   "id": "referenced-paste",
   "metadata": {},
   "source": [
    "En este caso, obtenemos únicamente los cuadrados necesarios, lo que supone un\n",
    "importante ahorro de tiempo de cálculo.\n",
    "\n",
    "Si no se tiene cuidado, es muy fácil hacer más cálculos de la cuenta, e incluso\n",
    "acabar en bucles infinitos o agotando los recursos de la máquina. Como veremos\n",
    "en esta serie de artículos, en python se puede tener evaluación perezosa usando\n",
    "correctamente iteradores y generadores."
   ]
  },
  {
   "cell_type": "markdown",
   "id": "still-limit",
   "metadata": {},
   "source": [
    "### Tipo Range\n",
    "\n",
    "Veamos el siguiente código:"
   ]
  },
  {
   "cell_type": "code",
   "execution_count": null,
   "id": "careful-survey",
   "metadata": {},
   "outputs": [],
   "source": [
    "r = range(2,100,3)\n",
    "r[10]"
   ]
  },
  {
   "cell_type": "markdown",
   "id": "limited-kernel",
   "metadata": {},
   "source": [
    "Normalmente, se usa la función `range` para crear bucles sin tener en cuenta que\n",
    "realmente es un constructor de objetos de tipo `Range`. Estos objetos responden\n",
    "a los mismos métodos que una lista, permitiendo obtener un elemento de cualquier\n",
    "posición de la secuencia sin necesidad de generar la secuencia completa. También\n",
    "se pueden hacer otras operaciones habituales con listas:"
   ]
  },
  {
   "cell_type": "code",
   "execution_count": null,
   "id": "intermediate-campus",
   "metadata": {},
   "outputs": [],
   "source": [
    "# obtener el tamaño\n",
    "len(r)"
   ]
  },
  {
   "cell_type": "code",
   "execution_count": null,
   "id": "indonesian-vector",
   "metadata": {},
   "outputs": [],
   "source": [
    "# obtener un rango\n",
    "r[20:30]"
   ]
  },
  {
   "cell_type": "code",
   "execution_count": null,
   "id": "finnish-australia",
   "metadata": {},
   "outputs": [],
   "source": [
    "# obtener un rango inverso\n",
    "r[30:20:-1]"
   ]
  },
  {
   "cell_type": "code",
   "execution_count": null,
   "id": "unlike-satin",
   "metadata": {},
   "outputs": [],
   "source": [
    "# la misma secuencia invertida\n",
    "r[::-1]"
   ]
  },
  {
   "cell_type": "code",
   "execution_count": null,
   "id": "subjective-right",
   "metadata": {},
   "outputs": [],
   "source": [
    "# umm, secuencia vacía???\n",
    "r[20:30:-1]"
   ]
  },
  {
   "cell_type": "code",
   "execution_count": null,
   "id": "premium-jerusalem",
   "metadata": {},
   "outputs": [],
   "source": [
    "# una nueva secuencia con distinto paso\n",
    "r[::2]"
   ]
  },
  {
   "cell_type": "code",
   "execution_count": null,
   "id": "growing-maximum",
   "metadata": {},
   "outputs": [],
   "source": [
    "# comprobar si contiene un elemento\n",
    "3 in r"
   ]
  },
  {
   "cell_type": "code",
   "execution_count": null,
   "id": "iraqi-holly",
   "metadata": {},
   "outputs": [],
   "source": [
    "# buscar la posición de un elemento\n",
    "r.index(65)"
   ]
  },
  {
   "cell_type": "markdown",
   "id": "positive-performer",
   "metadata": {},
   "source": [
    "Como vemos, de algún modo calcula los nuevos rangos y los pasos según\n",
    "necesitemos. Es suficientemente inteligente para cambiar el elemento final por\n",
    "otro que considere más apropiado.\n",
    "\n",
    "Digamos que un objeto de tipo `Range` conoce cómo operar con secuencias\n",
    "aritméticas, pudiendo obtener un elemento cualquiera de la secuencia sin tener\n",
    "que calcular el resto."
   ]
  },
  {
   "cell_type": "markdown",
   "id": "warming-frontier",
   "metadata": {},
   "source": [
    "### Secuencias con elemento genérico conocido\n",
    "\n",
    "Probemos a crear algo similar a `Range` para la secuencia de cuadrados. Derivará\n",
    "de la clase abstracta `Sequence`, por lo que tenemos que definir, por lo menos,\n",
    "los métodos `__len__` y `_getitem__`. Nos apoyaremos en un objeto _range_ para\n",
    "esta labor (patrón _Delegate_):"
   ]
  },
  {
   "cell_type": "code",
   "execution_count": null,
   "id": "adequate-brave",
   "metadata": {},
   "outputs": [],
   "source": [
    "from collections.abc import Sequence\n",
    "from typing import Union\n",
    "\n",
    "\n",
    "class SquaresRange(Sequence):\n",
    "    def __init__(self, start=0, stop=None, step=1) -> None:\n",
    "        if stop is None:\n",
    "            start, stop = 0, start\n",
    "        self._range = range(start, stop, step)\n",
    "\n",
    "    @staticmethod\n",
    "    def from_range(rng: range) -> \"SquaresRange\":\n",
    "        \"\"\"\n",
    "        Constructor de SquaresRange a partir de un rango\n",
    "        \"\"\"\n",
    "        instance = SquaresRange()\n",
    "        instance._range = rng\n",
    "        return instance\n",
    "\n",
    "    def __len__(self) -> int:\n",
    "        return len(self._range)\n",
    "\n",
    "    def __getitem__(self, idx: Union[int, slice]) -> Union[int, \"SquaresRange\"]:\n",
    "        i = self._range[idx]\n",
    "        return i ** 2 if isinstance(i, int) else SquaresRange.from_range(i)\n",
    "\n",
    "    def __repr__(self) -> str:\n",
    "        r = self._range\n",
    "        return f\"SquaresRange({r.start}, {r.stop}, {r.step})\""
   ]
  },
  {
   "cell_type": "markdown",
   "id": "different-renaissance",
   "metadata": {},
   "source": [
    "Podemos probar su funcionamiento:"
   ]
  },
  {
   "cell_type": "code",
   "execution_count": null,
   "id": "developed-cedar",
   "metadata": {},
   "outputs": [],
   "source": [
    "for i in SquaresRange(-10, 1, 3):\n",
    "    print(i)"
   ]
  },
  {
   "cell_type": "code",
   "execution_count": null,
   "id": "manufactured-enforcement",
   "metadata": {},
   "outputs": [],
   "source": [
    "list(SquaresRange(-1, 50, 4)[:30:2])"
   ]
  },
  {
   "cell_type": "code",
   "execution_count": null,
   "id": "persistent-racing",
   "metadata": {},
   "outputs": [],
   "source": [
    "SquaresRange(100)[::-1]"
   ]
  },
  {
   "cell_type": "code",
   "execution_count": null,
   "id": "ecological-chorus",
   "metadata": {},
   "outputs": [],
   "source": [
    "16 in SquaresRange(-10, 1, 3)"
   ]
  },
  {
   "cell_type": "markdown",
   "id": "adult-brazil",
   "metadata": {},
   "source": [
    "Hay que tener en cuenta que, a diferencia de un iterador, este rango no se\n",
    "_\"agota\"_ por lo que se puede usar repetidas veces sin ningún problema.\n",
    "\n",
    "Siguiendo más allá, podemos generalizar esta secuencia para se usar cualquier\n",
    "función. Creamos la siguiente _clase abstracta_:"
   ]
  },
  {
   "cell_type": "code",
   "execution_count": null,
   "id": "speaking-impact",
   "metadata": {},
   "outputs": [],
   "source": [
    "from abc import abstractmethod\n",
    "from collections.abc import Sequence\n",
    "from typing import Type, Union\n",
    "\n",
    "\n",
    "class GenericRange(Sequence):\n",
    "    def __init__(self, start=0, stop=None, step=1) -> None:\n",
    "        if stop is None:\n",
    "            start, stop = 0, start\n",
    "        self._range = range(start, stop, step)\n",
    "\n",
    "    @abstractmethod\n",
    "    def getitem(self, pos: int) -> int:\n",
    "        \"\"\"\n",
    "        Método abstracto.\n",
    "          Función para calcular un elemento a partir de la posición\n",
    "        \"\"\"\n",
    "        return pos\n",
    "\n",
    "    @classmethod\n",
    "    def from_range(cls: Type[\"GenericRange\"], rng: range) -> \"GenericRange\":\n",
    "        \"\"\"\n",
    "        Constructor de un GenericRange a partir de un rango\n",
    "        \"\"\"\n",
    "        instance = cls()\n",
    "        instance._range = rng\n",
    "        return instance\n",
    "\n",
    "    def __len__(self) -> int:\n",
    "        return len(self._range)\n",
    "\n",
    "    def __getitem__(self, idx: Union[int, slice]) -> Union[int, \"GenericRange\"]:\n",
    "        i = self._range[idx]\n",
    "        return self.getitem(i) if isinstance(i, int) else self.from_range(i)\n",
    "\n",
    "    def __repr__(self) -> str:\n",
    "        classname = self.__class__.__name__\n",
    "        r = self._range\n",
    "        return f\"{classname}({r.start}, {r.stop}, {r.step})\""
   ]
  },
  {
   "cell_type": "markdown",
   "id": "portable-gentleman",
   "metadata": {},
   "source": [
    "Con esta clase abstracta creamos dos clases concretas, definiendo el método\n",
    "abstracto `.getitem()` con la función genérica:"
   ]
  },
  {
   "cell_type": "code",
   "execution_count": null,
   "id": "disturbed-trainer",
   "metadata": {},
   "outputs": [],
   "source": [
    "class SquaresRange(GenericRange):\n",
    "    def getitem(self, i):\n",
    "        return i ** 2\n",
    "\n",
    "class CubicsRange(GenericRange):\n",
    "    def getitem(self, i):\n",
    "        return i ** 3"
   ]
  },
  {
   "cell_type": "markdown",
   "id": "hourly-violence",
   "metadata": {},
   "source": [
    "Que podemos emplear de este modo:"
   ]
  },
  {
   "cell_type": "code",
   "execution_count": null,
   "id": "asian-cherry",
   "metadata": {},
   "outputs": [],
   "source": [
    "for i in SquaresRange(-10, 1, 3):\n",
    "    print(i)"
   ]
  },
  {
   "cell_type": "code",
   "execution_count": null,
   "id": "suspended-bathroom",
   "metadata": {},
   "outputs": [],
   "source": [
    "for i in CubicsRange(-10, 1, 3):\n",
    "    print(i)"
   ]
  },
  {
   "cell_type": "code",
   "execution_count": null,
   "id": "legendary-covering",
   "metadata": {},
   "outputs": [],
   "source": [
    "list(CubicsRange(-1, 50, 4)[:30:2])"
   ]
  },
  {
   "cell_type": "code",
   "execution_count": null,
   "id": "english-evidence",
   "metadata": {},
   "outputs": [],
   "source": [
    "SquaresRange(100)[::-1]"
   ]
  },
  {
   "cell_type": "code",
   "execution_count": null,
   "id": "approved-specialist",
   "metadata": {},
   "outputs": [],
   "source": [
    "SquaresRange(100).index(81)"
   ]
  },
  {
   "cell_type": "markdown",
   "id": "unexpected-universe",
   "metadata": {},
   "source": [
    "### Resumen\n",
    "\n",
    "La _Evaluación Perezosa_ realiza únicamente aquellos cálculos que son necesarios\n",
    "para obtener el resultado final, evitando así malgastar tiempo y recursos en\n",
    "resultados intermedios que no se van a usar.\n",
    "\n",
    "El tipo _Range_ es algo más que una facilidad para realizar iteraciones. A\n",
    "partir de un objeto _range_ se pueden crear nuevos rangos sin necesidad de\n",
    "generar ningún elementos de la secuencia.\n",
    "\n",
    "Si conocemos el modo de obtener cualquier elemento de una secuencia a partir de\n",
    "su posición, entonces podemos crear secuencias para operar con ellas igual que\n",
    "haríamos con un _rango_, sin necesidad de generar sus elementos.\n",
    "\n",
    "En el próximo artículo veremos cómo podemos ir más lejos para crear y trabajar\n",
    "con _secuencias infinitas_ de elementos."
   ]
  },
  {
   "cell_type": "markdown",
   "id": "forty-flour",
   "metadata": {},
   "source": [
    "## Secuencias infinitas"
   ]
  },
  {
   "cell_type": "markdown",
   "id": "certified-dodge",
   "metadata": {},
   "source": [
    "### Algunas definiciones\n",
    "\n",
    "Puede ser interesante dejar claras algunas definiciones para distinguir entre\n",
    "iteradores e iterables (se pueden ver las definiciones completas en el\n",
    "[glosario][] de python):\n",
    "\n",
    "**Iterable**\n",
    ": cualquier objeto capaz de devolver sus miembros de uno en uno\n",
    "\n",
    "**Iterador**\n",
    ": _iterable_ que representa un flujo de datos, cuyos elementos se\n",
    ": obtienen uno detrás de otro\n",
    "\n",
    "**Secuencia**\n",
    ": _iterable_ con acceso eficiente a sus elementos mediante un índice entero\n",
    "\n",
    "**Generador**\n",
    ": función que devuelve un _iterador_\n",
    "\n",
    "**Expresión generadora**\n",
    ": expresión que devuelve un _iterador_\n",
    "\n",
    "Lo importante a tener en cuenta es que tenemos dos grandes _grupos de\n",
    "iterables_: los _iteradores_ y las _secuencias_.\n",
    "\n",
    "Los elementos de una _secuencia_ son accesibles por su posición, mientras que\n",
    "los elementos de un _iterador_ sólo se pueden acceder en serie. _Iterable_ sería\n",
    "el concepto más general que englobaría ambos términos.\n",
    "\n",
    "En el resto del artículo hablaremos de _\"secuencias\"_ como término matemático,\n",
    "aunque su implementación podría corresponder con cualquier iterable de los\n",
    "mencionados.\n",
    "\n",
    "[glosario]: https://docs.python.org/3.9/glossary.html"
   ]
  },
  {
   "cell_type": "markdown",
   "id": "surface-james",
   "metadata": {},
   "source": [
    "### Secuencias infinitas\n",
    "\n",
    "En python, para crear secuencias infinitas se suelen usar _generadores_. Por\n",
    "ejemplo, para obtener la secuencia de _Números Naturales_ se podría hacer así:"
   ]
  },
  {
   "cell_type": "code",
   "execution_count": null,
   "id": "thick-flashing",
   "metadata": {},
   "outputs": [],
   "source": [
    "from collections.abc import Iterable\n",
    "\n",
    "def ℕ() -> Iterable[int]:\n",
    "    n = 0\n",
    "    while 1:\n",
    "        yield n\n",
    "        n += 1"
   ]
  },
  {
   "cell_type": "markdown",
   "id": "bright-glass",
   "metadata": {},
   "source": [
    "No podemos tratar las secuencias infinitas del mismo modo que con una lista.\n",
    "Necesitamos las funciones del módulo [itertools][] capaces de operar con\n",
    "iteradores para pasar a una lista en el momento que realmente la necesitemos. Al\n",
    "final de la documentación del módulo se incluyen algunas\n",
    "[recetas][itertools-recipes] que dan idea de lo que pueden hacer.\n",
    "\n",
    "Por ejemplo, podríamos redefinir la secuencia de número naturales con\n",
    "`itertools.count`:\n",
    "\n",
    "[itertools]: https://docs.python.org/3.9/library/itertools.html\n",
    "[itertools-recipes]: https://docs.python.org/3.9/library/itertools.html#itertools-recipes"
   ]
  },
  {
   "cell_type": "code",
   "execution_count": null,
   "id": "beginning-american",
   "metadata": {},
   "outputs": [],
   "source": [
    "from itertools import count\n",
    "\n",
    "ℕ = count(0)"
   ]
  },
  {
   "cell_type": "markdown",
   "id": "editorial-siemens",
   "metadata": {},
   "source": [
    "Para obtener los primeros 100 números naturales"
   ]
  },
  {
   "cell_type": "code",
   "execution_count": null,
   "id": "skilled-fitness",
   "metadata": {},
   "outputs": [],
   "source": [
    "from itertools import islice\n",
    "\n",
    "print(list(islice(ℕ, 100)))"
   ]
  },
  {
   "cell_type": "markdown",
   "id": "selected-october",
   "metadata": {},
   "source": [
    "Emular la función `enumerate`:"
   ]
  },
  {
   "cell_type": "code",
   "execution_count": null,
   "id": "funky-pendant",
   "metadata": {},
   "outputs": [],
   "source": [
    "from collections.abc import Iterable, Iterator\n",
    "\n",
    "def enumerate(it: Iterable) -> Iterator:\n",
    "    ℕ = count(0)\n",
    "    return zip(ℕ, it)"
   ]
  },
  {
   "cell_type": "markdown",
   "id": "moved-education",
   "metadata": {},
   "source": [
    "¿Y si quisiéramos obtener la lista de cuadrados en el intérvalo `[100, 200)`.\n",
    "Veamos (NO PROBAR):"
   ]
  },
  {
   "cell_type": "raw",
   "id": "russian-flashing",
   "metadata": {
    "tags": [
     "active-md"
    ]
   },
   "source": [
    "ℕ = count(0)\n",
    "cuadrados = (n**2 for n in ℕ)\n",
    "res = [x for x in cuadrados if 100<=x<200]"
   ]
  },
  {
   "cell_type": "markdown",
   "id": "written-david",
   "metadata": {},
   "source": [
    "Si probabos es posible que se quede en un bucle infinito. Necesita comprobar todos los elementos, por lo que se pondrá a calcular todos lo elementos de la sucesión para ver si cumplen la condición.\n",
    "\n",
    "Como sabemos que la sucesión de cuadrados es creciente, podemos pararla en el momento que se salga de límites:"
   ]
  },
  {
   "cell_type": "code",
   "execution_count": null,
   "id": "surrounded-living",
   "metadata": {},
   "outputs": [],
   "source": [
    "from itertools import dropwhile, takewhile\n",
    "\n",
    "ℕ = count(0)\n",
    "cuadrados = (n ** 2 for n in ℕ)\n",
    "mayores_100 = dropwhile(lambda x: x < 100, cuadrados)\n",
    "menores_200 = takewhile(lambda x: x <= 200, mayores_100)\n",
    "list(menores_200)"
   ]
  },
  {
   "cell_type": "markdown",
   "id": "smaller-context",
   "metadata": {},
   "source": [
    "En definitiva, hemos encadenado varias funciones hasta conseguir el iterador que\n",
    "necesitábamos. En _programación funcional_, a este encadenado de funciones se\n",
    "denomina como _composición de funciones_ y es bastante utilizado.\n",
    "Lamentablemente, en python no existe este tipo de operaciones."
   ]
  },
  {
   "cell_type": "markdown",
   "id": "infinite-stationery",
   "metadata": {},
   "source": [
    "### Ejemplo: sucesión de Fibonacci\n",
    "\n",
    "La sucesión de _Fibonacci_ se define de la siguiente manera:\n",
    "\n",
    "$$f_0=1$$\n",
    "$$f_1=1$$\n",
    "$$f_n = f_{n-1} + f_{n-2}$$\n",
    "\n",
    "Operando, podemos obtener la sencuencia:\n",
    "\n",
    "```haskell\n",
    "1\n",
    "1\n",
    "1+1 -> 2\n",
    "1+2 -> 3\n",
    "2+3 -> 5\n",
    "...\n",
    "```"
   ]
  },
  {
   "cell_type": "markdown",
   "id": "stainless-therapy",
   "metadata": {},
   "source": [
    "\n",
    "La lista de los 20 primeros:\n",
    "\n",
    "```python\n",
    "[1, 1, 2, 3, 5, 8, 13, 21, 34, 55, 89, 144, 233, 377, 610, 987, 1597, 2584, 4181, 6765]\n",
    "```\n",
    "\n",
    "Un modo simple de construir la serie es usar un generador:\n"
   ]
  },
  {
   "cell_type": "code",
   "execution_count": null,
   "id": "interracial-discount",
   "metadata": {},
   "outputs": [],
   "source": [
    "from collections.abc import Iterator\n",
    "from itertools import islice\n",
    "\n",
    "def fib() -> Iterator[int]:\n",
    "    a, b = 1, 1\n",
    "    while True:\n",
    "        yield a\n",
    "        a, b = b, a+b\n",
    "\n",
    "# primeros 20 elementos\n",
    "print(list(islice(fib(), 20)))"
   ]
  },
  {
   "cell_type": "markdown",
   "id": "beneficial-generator",
   "metadata": {},
   "source": [
    "Para obtener un elemento en una posición dada tenemos que _consumir_ el\n",
    "iterador, elemento a elemento, hasta llegar a la posición que queremos.\n",
    "\n",
    "Por ejemplo, para obtener el elemento de la posición 1000:"
   ]
  },
  {
   "cell_type": "code",
   "execution_count": null,
   "id": "rough-marks",
   "metadata": {},
   "outputs": [],
   "source": [
    "next(islice(fib(), 1000, None))"
   ]
  },
  {
   "cell_type": "markdown",
   "id": "framed-declaration",
   "metadata": {},
   "source": [
    "Ha sido necesario calcular todos los elementos anteriores hasta llegar al que\n",
    "deseamos, algo que hay que repetir para cada uno de los elementos que queramos\n",
    "extraer.\n",
    "\n",
    "Afortunadamente, la sucesión de fibonacci tiene elemento genérico que se expresa\n",
    "en función de el _número áureo_ $\\varphi$ y que tiene la siguiente formulación:\n",
    "\n",
    "$$\\varphi ={\\frac {1+{\\sqrt {5}}}{2}}$$\n",
    "\n",
    "Usando el _número áureo_, un elemento de la serie fibonacci se puede calcular\n",
    "con la siguiente fórmula de Édouard Lucas,:\n",
    "\n",
    "$$f_n=\\frac{\\varphi^n-\\left(1-\\varphi\\right)^{n}}{\\sqrt5}$$\n",
    "\n",
    "Que podemos ajustar el redondeo y expresar como:\n",
    "\n",
    "$$f_{n}=\\operatorname {int} \\left({\\frac {\\varphi ^{n}}{\\sqrt {5}}}+{\\frac {1}{2}}\\right)$$\n",
    "\n",
    "Así pues, podemos echar mano de la secuencia `GenericRange` que vimos en el\n",
    "artículo anterior para definir una secuencia para fibonacci:"
   ]
  },
  {
   "cell_type": "code",
   "execution_count": null,
   "id": "defensive-forth",
   "metadata": {},
   "outputs": [],
   "source": [
    "class FibRange(GenericRange):\n",
    "    def getitem(self, n):\n",
    "        sqrt5 = 5**(1/2)\n",
    "        φ = (1 + sqrt5) / 2\n",
    "        return int(φ**n/sqrt5 + 1/2)"
   ]
  },
  {
   "cell_type": "code",
   "execution_count": null,
   "id": "french-providence",
   "metadata": {},
   "outputs": [],
   "source": [
    "list(FibRange(100,110))"
   ]
  },
  {
   "cell_type": "markdown",
   "id": "norwegian-workstation",
   "metadata": {},
   "source": [
    "Lamentablemente, aunque al final se obtenga un número entero, para hacer el\n",
    "cálculo hemos recurrido al cálculo numérico de coma flotante, lo que produce\n",
    "desbordamiento cuando trabajamos con números grandes. Tenemos que buscar otros\n",
    "métodos para mantenernos en el dominio de los número enteros. Pero lo dejaremos\n",
    "ya para el próximo artículo, donde veremos las _memoizaciones_ o el modo de\n",
    "guardar los resultados de un función para evitar repetir el mismo cálculo cuando\n",
    "se vuelva a necesitar."
   ]
  },
  {
   "cell_type": "markdown",
   "id": "prepared-millennium",
   "metadata": {},
   "source": [
    "### Resumen\n",
    "\n",
    "Las secuencias numéricas se pueden expresar en forma de _iterables_, de las que\n",
    "tenemos dos tipos: `iteradores` y `secuencias`.\n",
    "\n",
    "Normalmente en python, para trabajar con secuencias infinitas se usan\n",
    "iteradores. Para poder manejar estos iteradores se usan las funciones del módulo\n",
    "`itertools` que podemos combinar para obtener como resultado un iterable que ya\n",
    "podemos manejar mejor.\n",
    "\n",
    "Si la secuencia tiene definido un elemento genérico, entonces podemos utilizar\n",
    "los rangos que ya habíamos visto anteriormente para crear la secuencia infinita."
   ]
  },
  {
   "cell_type": "markdown",
   "id": "biological-intersection",
   "metadata": {},
   "source": [
    "## _Memoización_"
   ]
  },
  {
   "cell_type": "markdown",
   "id": "unable-competition",
   "metadata": {},
   "source": [
    "### Cachés y Memoización\n",
    "\n",
    "En el pasado artículo vimos que para obtener un elemento de la sucesión\n",
    "fibonacci necesitábamos calcular los anteriores. Veámoslo con más detalle.\n",
    "\n",
    "Podemos definir la siguiente función para obtener un elemento de esta sucesión:"
   ]
  },
  {
   "cell_type": "code",
   "execution_count": null,
   "id": "familiar-celtic",
   "metadata": {},
   "outputs": [],
   "source": [
    "def fib(n):\n",
    "    if n < 2:\n",
    "        return n\n",
    "    return fib(n-1) + fib(n-2)"
   ]
  },
  {
   "cell_type": "markdown",
   "id": "contained-header",
   "metadata": {},
   "source": [
    "Esta función tiene un terrible problema de eficacia, puesto que se llama a sí\n",
    "misma demasiadas veces para calcular el mismo elemento. Por ejemplo, para\n",
    "calcular `fib(10)` llama una vez a `fib(9)` y a `fib(8)`, pero para calcular\n",
    "`fib(9)` también llama a `fib(8)`. Si sumamos todas las llamadas, habrá\n",
    "necesitado llamar:\n",
    "\n",
    "- `fib(9)` 1 vez\n",
    "- `fib(8)` 2 veces\n",
    "- `fib(7)` 3 veces\n",
    "- `fib(6)` 5 veces\n",
    "- `fib(5)` 8 veces\n",
    "- `fib(4)` 13 veces\n",
    "- `fib(3)` 21 veces\n",
    "- `fib(2)` 34 veces\n",
    "- `fib(1)` 55 veces\n",
    "- `fib(0)` 34 veces\n",
    "\n",
    "Para elementos mayores, todavía serán más las llamadas que se habrán repetido.\n",
    "\n",
    "Un mejora nos la da la propia documentación de python como aplicación de la\n",
    "función [`functools.lru_cache`][1]:\n",
    "\n",
    "[1]: https://docs.python.org/3.9/library/functools.html#functools.lru_cache"
   ]
  },
  {
   "cell_type": "code",
   "execution_count": null,
   "id": "expanded-dance",
   "metadata": {},
   "outputs": [],
   "source": [
    "from functools import lru_cache\n",
    "\n",
    "@lru_cache(maxsize=None)\n",
    "def fib(n):\n",
    "    if n < 2:\n",
    "        return n\n",
    "    return fib(n-1) + fib(n-2)"
   ]
  },
  {
   "cell_type": "markdown",
   "id": "descending-capture",
   "metadata": {},
   "source": [
    "Básicamente, `lru_cache` es un _decorador_ que detecta los argumentos que se\n",
    "pasa a una función y guarda en un caché el resultado que devuelve. Un **caché\n",
    "LRU** (_Least Recently Used_ ) tiene la estrategia de eliminar de la caché los\n",
    "elementos que hayan sido menos utilizados recientemente. En este caso, con\n",
    "`maxsize=None` no se impone ningún límite de tamaño, por lo que guardará todos\n",
    "los elementos de la caché. (Existe un decorador equivalente, `functools.cache`, que también sirve para\n",
    "crear cachés sin límite, pero no contabiliza el número de aciertos).\n",
    "\n",
    "A este proceso de guardar los resultados de una evaluación en función de los\n",
    "argumentos de entrada se conoce por **\"memoize\"** o **\"memoización\"**, y es\n",
    "fundamental para la _evaluación perezosa_.\n",
    "\n",
    "Podemos obtener información de la caché:"
   ]
  },
  {
   "cell_type": "code",
   "execution_count": null,
   "id": "strange-deployment",
   "metadata": {},
   "outputs": [],
   "source": [
    "fib(10)\n",
    "fib.cache_info()"
   ]
  },
  {
   "cell_type": "markdown",
   "id": "roman-exemption",
   "metadata": {},
   "source": [
    "Nos dice que la caché tiene 11 elementos (la serie de `fib(0)` a `fib(10)`), que\n",
    "ha fallado 11 veces, una por elemento de la sucesión, pero sí que ha acertado 8.\n",
    "Una importante mejora de como lo teníamos antes.\n",
    "\n",
    "Aún así, en python tenemos limitado el número de llamadas recursivas que se pueden hacer, que suele estar en torno a unas 3000 llamadas recursivas (El límite de llamadas recursivas se obtiene con la función\n",
    "`sys.getrecursionlimit()` y se podría alterar con `sys.setrecursionlimit`, aunque no es recomendable):"
   ]
  },
  {
   "cell_type": "code",
   "execution_count": null,
   "id": "suspected-gilbert",
   "metadata": {},
   "outputs": [],
   "source": [
    "fib(10000)"
   ]
  },
  {
   "cell_type": "markdown",
   "id": "pharmaceutical-atlantic",
   "metadata": {
    "tags": []
   },
   "source": [
    "\n",
    "Para no tener este problema, en la documentación hacen el truco de ir visitando\n",
    "en orden todos los elementos de la sucesión hasta llegar al que queremos.\n"
   ]
  },
  {
   "cell_type": "code",
   "execution_count": null,
   "id": "inside-villa",
   "metadata": {},
   "outputs": [],
   "source": [
    "[fib(n) for n in range(16)]"
   ]
  },
  {
   "cell_type": "markdown",
   "id": "skilled-closer",
   "metadata": {},
   "source": [
    "Con este truco se instruye a la caché con todos los elementos de la sucesión\n",
    "hasta llegar al que queremos. Para el cálculo de un elemento sólo\n",
    "se necesitarán los dos elementos anteriores de la sucesión, que ya tendremos en\n",
    "la caché, lo que evita múltiples llamadas recursivas.\n",
    "\n",
    "Con este mismo propósito, podemos probar a calcular el elemento 10000 aplicando\n",
    "las técnicas ya aprendidas hasta ahora:"
   ]
  },
  {
   "cell_type": "code",
   "execution_count": null,
   "id": "relevant-leather",
   "metadata": {},
   "outputs": [],
   "source": [
    "from itertools import count, islice\n",
    "from functools import lru_cache\n",
    "\n",
    "ℕ = count(0)\n",
    "suc_fib = (fib(n) for n in ℕ)\n",
    "fib10k = next(islice(suc_fib, 10000, None))"
   ]
  },
  {
   "cell_type": "markdown",
   "id": "bright-leeds",
   "metadata": {},
   "source": [
    "Esta gestión de la caché es totalmente opaca para nosotros. Si pudiéramos\n",
    "acceder a ella sería un modo de obtener la sucesión de fibonacci hasta el mayor\n",
    "elemento que se haya calculado.\n",
    "\n",
    "Vamos a itentar a crear una caché similar capaz de generar automáticamente los\n",
    "elementos de la sucesión:"
   ]
  },
  {
   "cell_type": "code",
   "execution_count": null,
   "id": "restricted-mandate",
   "metadata": {},
   "outputs": [],
   "source": [
    "def fibcache(f):\n",
    "    cache = []\n",
    "    def wrap(n):\n",
    "        for i in range(len(cache), n + 1):\n",
    "            cache.append(f(i))\n",
    "        return cache[n]\n",
    "\n",
    "    wrap.cache = cache\n",
    "\n",
    "    return wrap\n",
    "\n",
    "@fibcache\n",
    "def fib(n):\n",
    "    if n < 2:\n",
    "        return n\n",
    "    return fib(n-1) + fib(n-2)"
   ]
  },
  {
   "cell_type": "markdown",
   "id": "surprising-headline",
   "metadata": {},
   "source": [
    "Hemos creado el decorador, `fibcache` que añade una caché a la función que\n",
    "decora. Al hacer la llamada `fib(n)`, este decorador se asegura que todos los\n",
    "elementos anteriores de la sucesión estén en la caché. La caché es accesible\n",
    "mediante el atributo `fib.cache`, que no será otra cosa que la sucesión de\n",
    "fibonacci."
   ]
  },
  {
   "cell_type": "code",
   "execution_count": null,
   "id": "geographic-portfolio",
   "metadata": {},
   "outputs": [],
   "source": [
    "fib(10000)"
   ]
  },
  {
   "cell_type": "code",
   "execution_count": null,
   "id": "fuzzy-bandwidth",
   "metadata": {},
   "outputs": [],
   "source": [
    "fib.cache[10000]"
   ]
  },
  {
   "cell_type": "markdown",
   "id": "global-lewis",
   "metadata": {},
   "source": [
    "Lo genial de esta estrategia es que sólo calculamos los mínimos elementos\n",
    "necesarios para obtener el resultado buscado, algo que es el fundamento de lo\n",
    "que conocemos por _evaluación perezosa_."
   ]
  },
  {
   "cell_type": "markdown",
   "id": "governing-second",
   "metadata": {},
   "source": [
    "### Resumen\n",
    "\n",
    "Aplicando técnicas de _memoización_, hemos conseguido que una función recursiva\n",
    "almacene los cálculos que hace para así evitar repetirlos, con lo que es posible\n",
    "reducir los niveles de recursividad.\n",
    "\n",
    "Con un decorador, hemos asociado una caché a una función que se rellena\n",
    "automáticamente, y en orden, con los resultados intermedios hasta llegar al\n",
    "resultado solicitado. Esta caché será una sucesión ordenada de resultados, que\n",
    "crece a medida que se necesite.\n",
    "\n",
    "A este proceso de realizar cálculos según sea necesario es lo que conocemos por\n",
    "_Evaluación Perezosa_."
   ]
  }
 ],
 "metadata": {
  "authors": [
   "Chema Cortés"
  ],
  "description": "Serie de artículos sobre la implementación en python de secuencias con evaluación perezosa.",
  "jupytext": {
   "formats": "ipynb,md",
   "notebook_metadata_filter": "authors,title,description,toc",
   "split_at_heading": true
  },
  "kernelspec": {
   "display_name": "Python 3",
   "language": "python",
   "name": "python3"
  },
  "language_info": {
   "codemirror_mode": {
    "name": "ipython",
    "version": 3
   },
   "file_extension": ".py",
   "mimetype": "text/x-python",
   "name": "python",
   "nbconvert_exporter": "python",
   "pygments_lexer": "ipython3",
   "version": "3.9.1"
  },
  "title": "Evaluación Perezosa en python",
  "toc": {
   "base_numbering": 1,
   "nav_menu": {},
   "number_sections": true,
   "sideBar": true,
   "skip_h1_title": false,
   "title_cell": "Tabla de Contenidos",
   "title_sidebar": "Contenidos",
   "toc_cell": true,
   "toc_position": {},
   "toc_section_display": true,
   "toc_window_display": true
  },
  "varInspector": {
   "cols": {
    "lenName": 16,
    "lenType": 16,
    "lenVar": 40
   },
   "kernels_config": {
    "python": {
     "delete_cmd_postfix": "",
     "delete_cmd_prefix": "del ",
     "library": "var_list.py",
     "varRefreshCmd": "print(var_dic_list())"
    },
    "r": {
     "delete_cmd_postfix": ") ",
     "delete_cmd_prefix": "rm(",
     "library": "var_list.r",
     "varRefreshCmd": "cat(var_dic_list()) "
    }
   },
   "types_to_exclude": [
    "module",
    "function",
    "builtin_function_or_method",
    "instance",
    "_Feature"
   ],
   "window_display": false
  }
 },
 "nbformat": 4,
 "nbformat_minor": 5
}
