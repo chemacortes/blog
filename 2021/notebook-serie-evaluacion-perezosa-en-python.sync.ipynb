{
 "cells": [
  {
   "cell_type": "markdown",
   "id": "herbal-spray",
   "metadata": {},
   "source": [
    "## Introducción a la _Evaluación Perezosa_\n",
    "\n",
    "Podemos definir _\"Evaluación Perezosa\"_ como aquella evaluación que realiza los\n",
    "mínimos cálculos imprecindibles para obtener el resultado final.\n",
    "\n",
    "La evaluación perezosa es una de las característica del languaje haskell, aunque\n",
    "vamos a ver que también se puede hacer en otros lenguajes como python.\n",
    "\n",
    "Por ejemplo, imaginemos que queremos obtener todos los número cuadrados menores\n",
    "de 100:"
   ]
  },
  {
   "cell_type": "code",
   "execution_count": null,
   "id": "personalized-wholesale",
   "metadata": {},
   "outputs": [],
   "source": [
    "cuadrados = [x**2 for x in range(1, 100)]\n",
    "resultado = [y for y in cuadrados if y < 100]"
   ]
  },
  {
   "cell_type": "markdown",
   "id": "peripheral-settlement",
   "metadata": {},
   "source": [
    "Para obtener el `resultado`, antes hemos calculado la lista completa\n",
    "`cuadrados`, a pesar de que sólo necesitábamos unos 10 elementos.\n",
    "\n",
    "Una posible mejora sería usar una expresión generadora:"
   ]
  },
  {
   "cell_type": "code",
   "execution_count": null,
   "id": "artistic-given",
   "metadata": {},
   "outputs": [],
   "source": [
    "cuadrados = (x**2 for x in range(1, 100))\n",
    "resultado = [y for y in cuadrados if y < 100]"
   ]
  },
  {
   "cell_type": "markdown",
   "id": "assigned-failing",
   "metadata": {},
   "source": [
    "Aquí los elementos de la lista `cuadrados` se calculan a medida que son\n",
    "necesarios, sin gastar memoria para almacenar la secuencia a medida que se\n",
    "obtiene, algo que pasaba con el ejemplo anterior. Aún así, se vuelven a calcular\n",
    "los 100 cuadrados, ya que no se corta la iteración en ningún momento.\n",
    "Necesitamos un modo de limitarnos únicamente a los elementos que vamos a\n",
    "utilizar.\n",
    "\n",
    "Para quedarnos sólo con los primeros elementos vamos a usar la función\n",
    "`itertools.takewhile`:"
   ]
  },
  {
   "cell_type": "code",
   "execution_count": null,
   "id": "durable-david",
   "metadata": {},
   "outputs": [],
   "source": [
    "from itertools import takewhile\n",
    "\n",
    "cuadrados = (x**2 for x in range(1, 100))\n",
    "resultado = list(takewhile(lambda y: y<100, cuadrados))"
   ]
  },
  {
   "cell_type": "markdown",
   "id": "scientific-boost",
   "metadata": {},
   "source": [
    "En este caso, obtenemos únicamente los cuadrados necesarios, lo que supone un\n",
    "importante ahorro de tiempo de cálculo.\n",
    "\n",
    "Si no se tiene cuidado, es muy fácil hacer más cálculos de la cuenta, e incluso\n",
    "acabar en bucles infinitos o agotando los recursos de la máquina. Como veremos\n",
    "en esta serie de artículos, en python se puede tener evaluación perezosa usando\n",
    "correctamente iteradores y generadores."
   ]
  },
  {
   "cell_type": "markdown",
   "id": "convenient-master",
   "metadata": {},
   "source": [
    "### Tipo Range\n",
    "\n",
    "Veamos el siguiente código:"
   ]
  },
  {
   "cell_type": "code",
   "execution_count": 1,
   "id": "natural-subscription",
   "metadata": {
    "ExecuteTime": {
     "end_time": "2021-03-21T22:14:46.255300Z",
     "start_time": "2021-03-21T22:14:46.252117Z"
    }
   },
   "outputs": [
    {
     "data": {
      "text/plain": [
       "32"
      ]
     },
     "execution_count": 1,
     "metadata": {},
     "output_type": "execute_result"
    }
   ],
   "source": [
    "r = range(2,100,3)\n",
    "r[10]"
   ]
  },
  {
   "cell_type": "markdown",
   "id": "patent-florence",
   "metadata": {},
   "source": [
    "Normalmente, se usa la función `range` para crear bucles sin tener en cuenta que\n",
    "realmente es un constructor de objetos de tipo `Range`. Estos objetos responden\n",
    "a los mismos métodos que una lista, permitiendo obtener un elemento de cualquier\n",
    "posición de la secuencia sin necesidad de generar la secuencia completa. También\n",
    "se pueden hacer otras operaciones habituales con listas:"
   ]
  },
  {
   "cell_type": "code",
   "execution_count": 2,
   "id": "unknown-conservative",
   "metadata": {
    "ExecuteTime": {
     "end_time": "2021-03-21T22:15:37.611760Z",
     "start_time": "2021-03-21T22:15:37.607678Z"
    }
   },
   "outputs": [
    {
     "data": {
      "text/plain": [
       "33"
      ]
     },
     "execution_count": 2,
     "metadata": {},
     "output_type": "execute_result"
    }
   ],
   "source": [
    "len(r)  # obtener el tamaño"
   ]
  },
  {
   "cell_type": "code",
   "execution_count": 3,
   "id": "wrapped-control",
   "metadata": {
    "ExecuteTime": {
     "end_time": "2021-03-21T22:15:37.611760Z",
     "start_time": "2021-03-21T22:15:37.607678Z"
    }
   },
   "outputs": [
    {
     "data": {
      "text/plain": [
       "range(62, 92, 3)"
      ]
     },
     "execution_count": 3,
     "metadata": {},
     "output_type": "execute_result"
    }
   ],
   "source": [
    "r[20:30]  # obtener un rango"
   ]
  },
  {
   "cell_type": "code",
   "execution_count": 4,
   "id": "regional-liverpool",
   "metadata": {
    "ExecuteTime": {
     "end_time": "2021-03-21T22:15:37.611760Z",
     "start_time": "2021-03-21T22:15:37.607678Z"
    }
   },
   "outputs": [
    {
     "data": {
      "text/plain": [
       "range(92, 62, -3)"
      ]
     },
     "execution_count": 4,
     "metadata": {},
     "output_type": "execute_result"
    }
   ],
   "source": [
    "r[30:20:-1]  # obtener un rango inverso"
   ]
  },
  {
   "cell_type": "code",
   "execution_count": 5,
   "id": "golden-offer",
   "metadata": {
    "ExecuteTime": {
     "end_time": "2021-03-21T22:15:37.611760Z",
     "start_time": "2021-03-21T22:15:37.607678Z"
    }
   },
   "outputs": [
    {
     "data": {
      "text/plain": [
       "range(98, -1, -3)"
      ]
     },
     "execution_count": 5,
     "metadata": {},
     "output_type": "execute_result"
    }
   ],
   "source": [
    "r[::-1]  # la misma secuencia invertida"
   ]
  },
  {
   "cell_type": "code",
   "execution_count": 6,
   "id": "several-reply",
   "metadata": {
    "ExecuteTime": {
     "end_time": "2021-03-21T22:15:37.611760Z",
     "start_time": "2021-03-21T22:15:37.607678Z"
    }
   },
   "outputs": [
    {
     "data": {
      "text/plain": [
       "range(62, 92, -3)"
      ]
     },
     "execution_count": 6,
     "metadata": {},
     "output_type": "execute_result"
    }
   ],
   "source": [
    "r[20:30:-1]  # umm, secuencia vacía???"
   ]
  },
  {
   "cell_type": "code",
   "execution_count": 7,
   "id": "vulnerable-retreat",
   "metadata": {
    "ExecuteTime": {
     "end_time": "2021-03-21T22:15:37.611760Z",
     "start_time": "2021-03-21T22:15:37.607678Z"
    }
   },
   "outputs": [
    {
     "data": {
      "text/plain": [
       "range(2, 101, 6)"
      ]
     },
     "execution_count": 7,
     "metadata": {},
     "output_type": "execute_result"
    }
   ],
   "source": [
    "r[::2]  # una nueva secuencia con distinto paso"
   ]
  },
  {
   "cell_type": "code",
   "execution_count": 8,
   "id": "hungarian-assembly",
   "metadata": {
    "ExecuteTime": {
     "end_time": "2021-03-21T22:15:37.611760Z",
     "start_time": "2021-03-21T22:15:37.607678Z"
    }
   },
   "outputs": [
    {
     "data": {
      "text/plain": [
       "False"
      ]
     },
     "execution_count": 8,
     "metadata": {},
     "output_type": "execute_result"
    }
   ],
   "source": [
    "3 in r  # comprobar si contiene un elemento"
   ]
  },
  {
   "cell_type": "code",
   "execution_count": 9,
   "id": "precious-compensation",
   "metadata": {
    "ExecuteTime": {
     "end_time": "2021-03-21T22:15:37.611760Z",
     "start_time": "2021-03-21T22:15:37.607678Z"
    }
   },
   "outputs": [
    {
     "data": {
      "text/plain": [
       "21"
      ]
     },
     "execution_count": 9,
     "metadata": {},
     "output_type": "execute_result"
    }
   ],
   "source": [
    "r.index(65)  # buscar la posición de un elemento"
   ]
  },
  {
   "cell_type": "markdown",
   "id": "lonely-calcium",
   "metadata": {},
   "source": [
    "Como vemos, de algún modo calcula los nuevos rangos y los pasos según\n",
    "necesitemos. Es suficientemente inteligente para cambiar el elemento final por\n",
    "otro que considere más apropiado.\n",
    "\n",
    "Digamos que un objeto de tipo `Range` conoce cómo operar con secuencias\n",
    "aritméticas, pudiendo obtener un elemento cualquiera de la secuencia sin tener\n",
    "que calcular el resto."
   ]
  },
  {
   "cell_type": "markdown",
   "id": "surface-plastic",
   "metadata": {},
   "source": [
    "### Secuencias con elemento genérico conocido\n",
    "\n",
    "Probemos a crear algo similar a `Range` para la secuencia de cuadrados. Derivará\n",
    "de la clase abstracta `Sequence`, por lo que tenemos que definir, por lo menos,\n",
    "los métodos `__len__` y  `_getitem__`. Nos apoyaremos en un objeto _range_ para\n",
    "esta labor (patrón _Delegate_):"
   ]
  },
  {
   "cell_type": "code",
   "execution_count": 10,
   "id": "collect-backing",
   "metadata": {},
   "outputs": [],
   "source": [
    "from collections.abc import Sequence\n",
    "from typing import Union\n",
    "\n",
    "\n",
    "class SquaresRange(Sequence):\n",
    "    def __init__(self, start=0, stop=None, step=1) -> None:\n",
    "        if stop is None:\n",
    "            start, stop = 0, start\n",
    "        self._range = range(start, stop, step)\n",
    "\n",
    "    @staticmethod\n",
    "    def from_range(rng: range) -> \"SquaresRange\":\n",
    "        \"\"\"\n",
    "        Constructor de SquaresRange a partir de un rango\n",
    "        \"\"\"\n",
    "        instance = SquaresRange()\n",
    "        instance._range = rng\n",
    "        return instance\n",
    "\n",
    "    def __len__(self) -> int:\n",
    "        return len(self._range)\n",
    "\n",
    "    def __getitem__(self, idx: Union[int, slice]) -> Union[int, \"SquaresRange\"]:\n",
    "        i = self._range[idx]\n",
    "        return i ** 2 if isinstance(i, int) else SquaresRange.from_range(i)\n",
    "\n",
    "    def __repr__(self) -> str:\n",
    "        r = self._range\n",
    "        return f\"SquaresRange({r.start}, {r.stop}, {r.step})\""
   ]
  },
  {
   "cell_type": "markdown",
   "id": "imported-electron",
   "metadata": {},
   "source": [
    "Podemos probar su funcionamiento:"
   ]
  },
  {
   "cell_type": "code",
   "execution_count": 11,
   "id": "remarkable-federal",
   "metadata": {},
   "outputs": [
    {
     "name": "stdout",
     "output_type": "stream",
     "text": [
      "100\n",
      "49\n",
      "16\n",
      "1\n"
     ]
    }
   ],
   "source": [
    "for i in SquaresRange(-10, 1, 3):\n",
    "    print(i)"
   ]
  },
  {
   "cell_type": "code",
   "execution_count": 12,
   "id": "sunset-scheduling",
   "metadata": {},
   "outputs": [
    {
     "data": {
      "text/plain": [
       "[1, 49, 225, 529, 961, 1521, 2209]"
      ]
     },
     "execution_count": 12,
     "metadata": {},
     "output_type": "execute_result"
    }
   ],
   "source": [
    "list(SquaresRange(-1, 50, 4)[:30:2])"
   ]
  },
  {
   "cell_type": "code",
   "execution_count": 13,
   "id": "illegal-shield",
   "metadata": {},
   "outputs": [
    {
     "data": {
      "text/plain": [
       "SquaresRange(99, -1, -1)"
      ]
     },
     "execution_count": 13,
     "metadata": {},
     "output_type": "execute_result"
    }
   ],
   "source": [
    "SquaresRange(100)[::-1]"
   ]
  },
  {
   "cell_type": "code",
   "execution_count": 14,
   "id": "answering-spray",
   "metadata": {},
   "outputs": [
    {
     "data": {
      "text/plain": [
       "True"
      ]
     },
     "execution_count": 14,
     "metadata": {},
     "output_type": "execute_result"
    }
   ],
   "source": [
    "16 in SquaresRange(-10, 1, 3)"
   ]
  },
  {
   "cell_type": "markdown",
   "id": "introductory-power",
   "metadata": {},
   "source": [
    "Hay que tener en cuenta que, a diferencia de un iterador, este rango no se\n",
    "_\"agota\"_ por lo que se puede usar repetidas veces sin ningún problema.\n",
    "\n",
    "Siguiendo más allá, podemos generalizar esta secuencia para usar cualquier\n",
    "función. Creamos la siguiente _clase abstracta_:"
   ]
  },
  {
   "cell_type": "code",
   "execution_count": 15,
   "id": "serial-malaysia",
   "metadata": {},
   "outputs": [],
   "source": [
    "from abc import abstractmethod\n",
    "from collections.abc import Sequence\n",
    "from typing import Type, Union\n",
    "\n",
    "\n",
    "class GenericRange(Sequence):\n",
    "    def __init__(self, start=0, stop=None, step=1) -> None:\n",
    "        if stop is None:\n",
    "            start, stop = 0, start\n",
    "        self._range = range(start, stop, step)\n",
    "\n",
    "    @abstractmethod\n",
    "    def getitem(self, pos: int) -> int:\n",
    "        \"\"\"\n",
    "        Método abstracto.\n",
    "          Función para calcular un elemento a partir de la posición\n",
    "        \"\"\"\n",
    "        return pos\n",
    "\n",
    "    @classmethod\n",
    "    def from_range(cls: Type[\"GenericRange\"], rng: range) -> \"GenericRange\":\n",
    "        \"\"\"\n",
    "        Constructor de un GenericRange a partir de un rango\n",
    "        \"\"\"\n",
    "        instance = cls()\n",
    "        instance._range = rng\n",
    "        return instance\n",
    "\n",
    "    def __len__(self) -> int:\n",
    "        return len(self._range)\n",
    "\n",
    "    def __getitem__(self, idx: Union[int, slice]) -> Union[int, \"GenericRange\"]:\n",
    "        i = self._range[idx]\n",
    "        return self.getitem(i) if isinstance(i, int) else self.from_range(i)\n",
    "\n",
    "    def __repr__(self) -> str:\n",
    "        classname = self.__class__.__name__\n",
    "        r = self._range\n",
    "        return f\"{classname}({r.start}, {r.stop}, {r.step})\""
   ]
  },
  {
   "cell_type": "markdown",
   "id": "mathematical-louisiana",
   "metadata": {},
   "source": [
    "Con esta clase abstracta creamos dos clases concretas, definiendo el método\n",
    "abstracto `.getitem()` con la función genérica:"
   ]
  },
  {
   "cell_type": "code",
   "execution_count": 16,
   "id": "decent-football",
   "metadata": {},
   "outputs": [],
   "source": [
    "class SquaresRange(GenericRange):\n",
    "    def getitem(self, i):\n",
    "        return i ** 2\n",
    "\n",
    "class CubicsRange(GenericRange):\n",
    "    def getitem(self, i):\n",
    "        return i ** 3"
   ]
  },
  {
   "cell_type": "markdown",
   "id": "purple-advance",
   "metadata": {},
   "source": [
    "Que podemos emplear de este modo:"
   ]
  },
  {
   "cell_type": "code",
   "execution_count": 17,
   "id": "occupied-aerospace",
   "metadata": {},
   "outputs": [
    {
     "name": "stdout",
     "output_type": "stream",
     "text": [
      "100\n",
      "49\n",
      "16\n",
      "1\n"
     ]
    }
   ],
   "source": [
    "for i in SquaresRange(-10, 1, 3):\n",
    "    print(i)"
   ]
  },
  {
   "cell_type": "code",
   "execution_count": 18,
   "id": "absolute-defense",
   "metadata": {},
   "outputs": [
    {
     "name": "stdout",
     "output_type": "stream",
     "text": [
      "-1000\n",
      "-343\n",
      "-64\n",
      "-1\n"
     ]
    }
   ],
   "source": [
    "for i in CubicsRange(-10, 1, 3):\n",
    "    print(i)"
   ]
  },
  {
   "cell_type": "code",
   "execution_count": 19,
   "id": "intense-occasion",
   "metadata": {},
   "outputs": [
    {
     "data": {
      "text/plain": [
       "[-1, 343, 3375, 12167, 29791, 59319, 103823]"
      ]
     },
     "execution_count": 19,
     "metadata": {},
     "output_type": "execute_result"
    }
   ],
   "source": [
    "list(CubicsRange(-1, 50, 4)[:30:2])"
   ]
  },
  {
   "cell_type": "code",
   "execution_count": 20,
   "id": "bronze-sally",
   "metadata": {},
   "outputs": [
    {
     "data": {
      "text/plain": [
       "SquaresRange(99, -1, -1)"
      ]
     },
     "execution_count": 20,
     "metadata": {},
     "output_type": "execute_result"
    }
   ],
   "source": [
    "SquaresRange(100)[::-1]"
   ]
  },
  {
   "cell_type": "code",
   "execution_count": 21,
   "id": "historic-istanbul",
   "metadata": {},
   "outputs": [
    {
     "data": {
      "text/plain": [
       "9"
      ]
     },
     "execution_count": 21,
     "metadata": {},
     "output_type": "execute_result"
    }
   ],
   "source": [
    "SquaresRange(100).index(81)"
   ]
  },
  {
   "cell_type": "markdown",
   "id": "quiet-crawford",
   "metadata": {},
   "source": [
    "### Resumen\n",
    "\n",
    "La _Evaluación Perezosa_ realiza únicamente aquellos cálculos que son necesarios\n",
    "para obtener el resultado final, evitando así malgastar tiempo y recursos en\n",
    "resultados intermedios que no se van a usar.\n",
    "\n",
    "El tipo _Range_ es algo más que una facilidad para realizar iteraciones. A\n",
    "partir de un objeto _range_ se pueden crear nuevos rangos sin necesidad de\n",
    "generar ningún elementos de la secuencia.\n",
    "\n",
    "Si conocemos el modo de obtener cualquier elemento de una secuencia a partir de\n",
    "su posición, entonces podemos crear secuencias para operar con ellas igual que\n",
    "haríamos con un _rango_, sin necesidad de generar sus elementos.\n",
    "\n",
    "En el próximo artículo veremos cómo podemos ir más lejos para crear y trabajar\n",
    "con _secuencias infinitas_ de elementos."
   ]
  },
  {
   "cell_type": "markdown",
   "id": "alleged-martial",
   "metadata": {},
   "source": [
    "## Secuencias infinitas"
   ]
  },
  {
   "cell_type": "markdown",
   "id": "acknowledged-latitude",
   "metadata": {},
   "source": [
    "### Algunas definiciones\n",
    "\n",
    "Puede ser interesante dejar claras algunas definiciones para distinguir entre\n",
    "iteradores e iterables (se pueden ver las definiciones completas en el\n",
    "[glosario](https://docs.python.org/3.9/glossary.html) de python):\n",
    "\n",
    "**Iterable**\n",
    ": cualquier objeto capaz de devolver sus miembros de uno en uno\n",
    "\n",
    "**Iterador**\n",
    ": _iterable_ que representa un flujo de datos, cuyos elementos se\n",
    ": obtienen uno detrás de otro\n",
    "\n",
    "**Secuencia**\n",
    ": _iterable_ con acceso eficiente a sus elementos mediante un índice entero\n",
    "\n",
    "**Generador**\n",
    ": función que devuelve un _iterador_\n",
    "\n",
    "**Expresión generadora**\n",
    ": expresión que devuelve un _iterador_\n",
    "\n",
    "Lo importante a tener en cuenta es que tenemos dos grandes _grupos de\n",
    "iterables_: los _iteradores_ y las _secuencias_.\n",
    "\n",
    "Los elementos de una _secuencia_ son accesibles por su posición, mientras que\n",
    "los elementos de un _iterador_ sólo se pueden acceder en serie. _Iterable_ sería\n",
    "el concepto más general que englobaría ambos términos.\n",
    "\n",
    "En el resto del artículo hablaremos de _\"secuencias\"_ como término matemático,\n",
    "aunque su implementación podría corresponder con cualquier iterable de los\n",
    "mencionados."
   ]
  },
  {
   "cell_type": "markdown",
   "id": "minus-student",
   "metadata": {},
   "source": [
    "### Secuencias infinitas\n",
    "\n",
    "En python, para crear secuencias infinitas se suelen usar _generadores_. Por\n",
    "ejemplo, para obtener la secuencia de _Números Naturales_ se podría hacer así:"
   ]
  },
  {
   "cell_type": "code",
   "execution_count": 22,
   "id": "ceramic-assurance",
   "metadata": {},
   "outputs": [],
   "source": [
    "from collections.abc import Iterable\n",
    "\n",
    "def ℕ() -> Iterable[int]:\n",
    "    n = 0\n",
    "    while 1:\n",
    "        yield n\n",
    "        n += 1"
   ]
  },
  {
   "cell_type": "markdown",
   "id": "respected-polls",
   "metadata": {},
   "source": [
    "No podemos tratar las secuencias infinitas del mismo modo que con una lista.\n",
    "Necesitamos las funciones del módulo [itertools](https://docs.python.org/3.9/library/itertools.html) capaces de operar con\n",
    "iteradores para pasar a una lista en el momento que realmente la necesitemos. Al\n",
    "final de la documentación del módulo se incluyen algunas\n",
    "[recetas](https://docs.python.org/3.9/library/itertools.html#itertools-recipes) que dan idea de lo que pueden hacer.\n",
    "\n",
    "Por ejemplo, podríamos redefinir la secuencia de número naturales con\n",
    "`itertools.count`:"
   ]
  },
  {
   "cell_type": "code",
   "execution_count": 23,
   "id": "macro-railway",
   "metadata": {},
   "outputs": [],
   "source": [
    "from itertools import count\n",
    "\n",
    "ℕ = count(0)"
   ]
  },
  {
   "cell_type": "markdown",
   "id": "sealed-image",
   "metadata": {},
   "source": [
    "Para obtener los primeros 100 números naturales"
   ]
  },
  {
   "cell_type": "code",
   "execution_count": 24,
   "id": "supposed-queen",
   "metadata": {},
   "outputs": [
    {
     "name": "stdout",
     "output_type": "stream",
     "text": [
      "[0, 1, 2, 3, 4, 5, 6, 7, 8, 9, 10, 11, 12, 13, 14, 15, 16, 17, 18, 19, 20, 21, 22, 23, 24, 25, 26, 27, 28, 29, 30, 31, 32, 33, 34, 35, 36, 37, 38, 39, 40, 41, 42, 43, 44, 45, 46, 47, 48, 49, 50, 51, 52, 53, 54, 55, 56, 57, 58, 59, 60, 61, 62, 63, 64, 65, 66, 67, 68, 69, 70, 71, 72, 73, 74, 75, 76, 77, 78, 79, 80, 81, 82, 83, 84, 85, 86, 87, 88, 89, 90, 91, 92, 93, 94, 95, 96, 97, 98, 99]\n"
     ]
    }
   ],
   "source": [
    "from itertools import islice\n",
    "\n",
    "print(list(islice(ℕ, 100)))"
   ]
  },
  {
   "cell_type": "markdown",
   "id": "humanitarian-weekly",
   "metadata": {},
   "source": [
    "Emular la función `enumerate`:"
   ]
  },
  {
   "cell_type": "code",
   "execution_count": null,
   "id": "referenced-speaker",
   "metadata": {},
   "outputs": [],
   "source": [
    "from collections.abc import Iterable, Iterator\n",
    "\n",
    "def enumerate(it: Iterable) -> Iterator:\n",
    "    ℕ = count(0)\n",
    "    return zip(ℕ, it)"
   ]
  },
  {
   "cell_type": "markdown",
   "id": "studied-parallel",
   "metadata": {},
   "source": [
    "¿Y si quisiéramos obtener la lista de cuadrados en el intérvalo `[100, 200)`.\n",
    "Veamos (NO PROBAR):"
   ]
  },
  {
   "cell_type": "code",
   "execution_count": null,
   "id": "super-ocean",
   "metadata": {},
   "outputs": [],
   "source": [
    "ℕ = count(0)\n",
    "cuadrados = (n**2 for n in ℕ)\n",
    "res = [x for x in cuadrados if 100<=x<200]"
   ]
  },
  {
   "cell_type": "markdown",
   "id": "cognitive-submission",
   "metadata": {},
   "source": [
    "Si probabos es posible que se quede en un bucle infinito. Necesita comprobar\n",
    "todos los elementos, por lo que se pondrá a calcular todos lo elementos de la\n",
    "sucesión para ver si cumplen la condición.\n",
    "\n",
    "Como sabemos que la sucesión de cuadrados es creciente, podemos pararla en el\n",
    "momento que se salga de límites:"
   ]
  },
  {
   "cell_type": "code",
   "execution_count": null,
   "id": "abandoned-enzyme",
   "metadata": {},
   "outputs": [],
   "source": [
    "from itertools import dropwhile, takewhile\n",
    "\n",
    "ℕ = count(0)\n",
    "cuadrados = (n ** 2 for n in ℕ)\n",
    "mayores_100 = dropwhile(lambda x: x < 100, cuadrados)\n",
    "menores_200 = takewhile(lambda x: x <= 200, mayores_100)\n",
    "res = list(menores_200)"
   ]
  },
  {
   "cell_type": "markdown",
   "id": "abstract-timber",
   "metadata": {},
   "source": [
    "En definitiva, hemos encadenado varias funciones hasta conseguir el iterador que\n",
    "necesitábamos. En _programación funcional_, a este encadenado de funciones se\n",
    "denomina como _composición de funciones_ y es bastante utilizado.\n",
    "Lamentablemente, en python no existe este tipo de operaciones."
   ]
  },
  {
   "cell_type": "markdown",
   "id": "primary-title",
   "metadata": {},
   "source": [
    "### Ejemplo: sucesión de Fibonacci\n",
    "\n",
    "La sucesión de _Fibonacci_ se define de la siguiente manera:\n",
    "\n",
    "$$\\begin{align*}\n",
    "f_0 &= 1 \\\\\n",
    "f_1 &= 1 \\\\\n",
    "f_n &= f_{n-1} + f_{n-2}\n",
    "\\end{align*}\n",
    "$$\n",
    "\n",
    "Operando, podemos obtener la sencuencia:\n",
    "\n",
    "```haskell\n",
    "1\n",
    "1\n",
    "1+1 -> 2\n",
    "1+2 -> 3\n",
    "2+3 -> 5\n",
    "...\n",
    "```\n",
    "\n",
    "La lista de los 20 primeros:\n",
    "\n",
    "```\n",
    "[1, 1, 2, 3, 5, 8, 13, 21, 34, 55, 89, 144, 233, 377, 610, 987, 1597, 2584, 4181, 6765]\n",
    "```\n",
    "\n",
    "Un modo simple de construir la serie es usar un generador:"
   ]
  },
  {
   "cell_type": "code",
   "execution_count": 25,
   "id": "limited-postage",
   "metadata": {},
   "outputs": [
    {
     "name": "stdout",
     "output_type": "stream",
     "text": [
      "[1, 1, 2, 3, 5, 8, 13, 21, 34, 55, 89, 144, 233, 377, 610, 987, 1597, 2584, 4181, 6765]\n"
     ]
    }
   ],
   "source": [
    "from collections.abc import Iterator\n",
    "from itertools import islice\n",
    "\n",
    "def fib() -> Iterator[int]:\n",
    "    a, b = 1, 1\n",
    "    while True:\n",
    "        yield a\n",
    "        a, b = b, a+b\n",
    "\n",
    "# primeros 20 elementos\n",
    "print(list(islice(fib(), 20)))"
   ]
  },
  {
   "cell_type": "markdown",
   "id": "gross-colombia",
   "metadata": {},
   "source": [
    "Para obtener un elemento en una posición dada tenemos que _consumir_ el\n",
    "iterador, elemento a elemento, hasta llegar a la posición que queremos.\n",
    "\n",
    "Por ejemplo, para obtener el elemento de la posición 1000:"
   ]
  },
  {
   "cell_type": "code",
   "execution_count": 26,
   "id": "assumed-range",
   "metadata": {},
   "outputs": [
    {
     "data": {
      "text/plain": [
       "70330367711422815821835254877183549770181269836358732742604905087154537118196933579742249494562611733487750449241765991088186363265450223647106012053374121273867339111198139373125598767690091902245245323403501"
      ]
     },
     "execution_count": 26,
     "metadata": {},
     "output_type": "execute_result"
    }
   ],
   "source": [
    "next(islice(fib(), 1000, None))"
   ]
  },
  {
   "cell_type": "markdown",
   "id": "dried-madonna",
   "metadata": {},
   "source": [
    "Ha sido necesario calcular todos los elementos anteriores hasta llegar al que\n",
    "deseamos, algo que hay que repetir para cada uno de los elementos que queramos\n",
    "extraer.\n",
    "\n",
    "Afortunadamente, la sucesión de fibonacci tiene elemento genérico que se expresa\n",
    "en función de el _número áureo_ $\\varphi$ y que tiene la siguiente formulación:\n",
    "\n",
    "$$\\varphi ={\\frac {1+{\\sqrt {5}}}{2}}$$\n",
    "\n",
    "Usando el _número áureo_, un elemento de la serie fibonacci se puede calcular\n",
    "con la siguiente fórmula de Édouard Lucas,:\n",
    "\n",
    "$$f_n=\\frac{\\varphi^n-\\left(1-\\varphi\\right)^{n}}{\\sqrt5}$$\n",
    "\n",
    "Que podemos ajustar el redondeo y expresar como:\n",
    "\n",
    "$$f_{n}=\\operatorname {int} \\left({\\frac {\\varphi ^{n}}{\\sqrt {5}}}+{\\frac {1}{2}}\\right)$$\n",
    "\n",
    "Así pues, podemos echar mano de la secuencia `GenericRange` que vimos en el\n",
    "artículo anterior para definir una secuencia para fibonacci:"
   ]
  },
  {
   "cell_type": "code",
   "execution_count": 27,
   "id": "approximate-belarus",
   "metadata": {},
   "outputs": [
    {
     "data": {
      "text/plain": [
       "[354224848179263111168,\n",
       " 573147844013818970112,\n",
       " 927372692193082081280,\n",
       " 1500520536206901248000,\n",
       " 2427893228399983329280,\n",
       " 3928413764606884839424,\n",
       " 6356306993006868692992,\n",
       " 10284720757613753532416,\n",
       " 16641027750620622225408,\n",
       " 26925748508234379952128]"
      ]
     },
     "execution_count": 27,
     "metadata": {},
     "output_type": "execute_result"
    }
   ],
   "source": [
    "class FibRange(GenericRange):\n",
    "    def getitem(self, n):\n",
    "        sqrt5 = 5**(1/2)\n",
    "        φ = (1 + sqrt5) / 2\n",
    "        return int(φ**n/sqrt5 + 1/2)\n",
    "\n",
    "\n",
    "list(FibRange(100,110))"
   ]
  },
  {
   "cell_type": "markdown",
   "id": "split-championship",
   "metadata": {},
   "source": [
    "Lamentablemente, aunque al final se obtenga un número entero, para hacer el\n",
    "cálculo hemos recurrido al cálculo numérico de coma flotante, lo que produce\n",
    "desbordamiento cuando trabajamos con números grandes. Tenemos que buscar otros\n",
    "métodos para mantenernos en el dominio de los número enteros. Pero lo dejaremos\n",
    "ya para el próximo artículo, donde veremos las _memoizaciones_ o el modo de\n",
    "guardar los resultados de un función para evitar repetir el mismo cálculo cuando\n",
    "se vuelva a necesitar."
   ]
  },
  {
   "cell_type": "markdown",
   "id": "eleven-wellington",
   "metadata": {},
   "source": [
    "### Resumen\n",
    "\n",
    "Las secuencias numéricas se pueden expresar en forma de _iterables_, de las que\n",
    "tenemos dos tipos: `iteradores` y `secuencias`.\n",
    "\n",
    "Normalmente en python, para trabajar con secuencias infinitas se usan\n",
    "iteradores. Para poder manejar estos iteradores se usan las funciones del módulo\n",
    "`itertools` que podemos combinar para obtener como resultado un iterable  que ya\n",
    "podemos manejar mejor.\n",
    "\n",
    "Si la secuencia tiene definido un elemento genérico, entonces podemos utilizar\n",
    "los rangos que ya habíamos visto anteriormente para crear la secuencia infinita."
   ]
  },
  {
   "cell_type": "markdown",
   "id": "moving-monday",
   "metadata": {},
   "source": [
    "## Memoización"
   ]
  },
  {
   "cell_type": "markdown",
   "id": "alone-train",
   "metadata": {},
   "source": [
    "### Cachés y Memoización\n",
    "\n",
    "En el pasado artículo vimos que para obtener un elemento de la sucesión\n",
    "fibonacci necesitábamos calcular los anteriores. Veámoslo con más detalle.\n",
    "\n",
    "Podemos definir la siguiente función para obtener un elemento de esta sucesión:"
   ]
  },
  {
   "cell_type": "code",
   "execution_count": null,
   "id": "fantastic-realtor",
   "metadata": {},
   "outputs": [],
   "source": [
    "def fib(n):\n",
    "    if n < 2:\n",
    "        return n\n",
    "    return fib(n-1) + fib(n-2)"
   ]
  },
  {
   "cell_type": "markdown",
   "id": "designed-lawyer",
   "metadata": {},
   "source": [
    "Esta función tiene un terrible problema de eficacia, puesto que se llama a sí\n",
    "misma demasiadas veces para calcular el mismo elemento. Por ejemplo, para\n",
    "calcular `fib(10)` llama una vez a `fib(9)` y a `fib(8)`, pero para calcular\n",
    "`fib(9)` también llama a `fib(8)`. Si sumamos todas las llamadas, habrá\n",
    "necesitado llamar:\n",
    "\n",
    "- `fib(9)` 1 vez\n",
    "- `fib(8)` 2 veces\n",
    "- `fib(7)` 3 veces\n",
    "- `fib(6)` 5 veces\n",
    "- `fib(5)` 8 veces\n",
    "- `fib(4)` 13 veces\n",
    "- `fib(3)` 21 veces\n",
    "- `fib(2)` 34 veces\n",
    "- `fib(1)` 55 veces\n",
    "- `fib(0)` 34 veces\n",
    "\n",
    "Para elementos mayores, todavía serán más las llamadas que se habrán repetido.\n",
    "\n",
    "Un mejora nos la da la propia documentación de python como aplicación de la\n",
    "función [`functools.lru_cache`][1]:\n",
    "\n",
    "[1]: https://docs.python.org/3.9/library/functools.html#functools.lru_cache"
   ]
  },
  {
   "cell_type": "code",
   "execution_count": 28,
   "id": "inappropriate-toyota",
   "metadata": {},
   "outputs": [],
   "source": [
    "from functools import lru_cache\n",
    "\n",
    "@lru_cache(maxsize=None)\n",
    "def fib(n):\n",
    "    if n < 2:\n",
    "        return n\n",
    "    return fib(n-1) + fib(n-2)"
   ]
  },
  {
   "cell_type": "markdown",
   "id": "opponent-firmware",
   "metadata": {},
   "source": [
    "Básicamente, `lru_cache` es un _decorador_ que detecta los argumentos que se\n",
    "pasa a una función y guarda en un caché el resultado que devuelve. Un **caché\n",
    "LRU** (_Least Recently Used_ ) tiene la estrategia de eliminar de la caché los\n",
    "elementos que hayan sido menos utilizados recientemente. En este caso, con\n",
    "`maxsize=None` no se impone ningún límite de tamaño, por lo que guardará todos\n",
    "los elementos de la caché. (Existe un decorador equivalente, functools.cache, que también sirve para crear cachés sin límite, pero no contabiliza el número de aciertos).\n",
    "\n",
    "A este proceso de guardar los resultados de una evaluación en función de los\n",
    "argumentos de entrada se conoce por **\"memoize\"** o **\"memoización\"**, y es\n",
    "fundamental para la _evaluación perezosa_.\n",
    "\n",
    "Podemos obtener información de la caché:"
   ]
  },
  {
   "cell_type": "code",
   "execution_count": 29,
   "id": "arranged-terrorist",
   "metadata": {},
   "outputs": [
    {
     "data": {
      "text/plain": [
       "CacheInfo(hits=8, misses=11, maxsize=None, currsize=11)"
      ]
     },
     "execution_count": 29,
     "metadata": {},
     "output_type": "execute_result"
    }
   ],
   "source": [
    "fib(10)\n",
    "fib.cache_info()"
   ]
  },
  {
   "cell_type": "markdown",
   "id": "straight-orleans",
   "metadata": {},
   "source": [
    "Nos dice que la caché tiene 11 elementos (la serie de `fib(0)` a `fib(10)`), que\n",
    "ha fallado 11 veces, una por elemento de la sucesión, pero sí que ha acertado 8.\n",
    "Una importante mejora de como lo teníamos antes.\n",
    "\n",
    "Aún así, en python tenemos limitado el número de llamadas recursivas que se\n",
    "pueden hacer, que suele estar en torno a unas 3000 llamadas recursivas. (El límite de llamadas recursivas se obtiene con la función`sys.getrecursionlimit()` y se podría alterar con `sys.setrecursionlimit`,\n",
    "aunque no es recomendable):"
   ]
  },
  {
   "cell_type": "code",
   "execution_count": 30,
   "id": "abandoned-affair",
   "metadata": {
    "collapsed": true
   },
   "outputs": [
    {
     "ename": "RecursionError",
     "evalue": "maximum recursion depth exceeded in comparison",
     "output_type": "error",
     "traceback": [
      "\u001b[0;31m---------------------------------------------------------------------------\u001b[0m",
      "\u001b[0;31mRecursionError\u001b[0m                            Traceback (most recent call last)",
      "\u001b[0;32m<ipython-input-30-6b3a2fc2b4a0>\u001b[0m in \u001b[0;36m<module>\u001b[0;34m\u001b[0m\n\u001b[0;32m----> 1\u001b[0;31m \u001b[0mfib\u001b[0m\u001b[0;34m(\u001b[0m\u001b[0;36m10000\u001b[0m\u001b[0;34m)\u001b[0m\u001b[0;34m\u001b[0m\u001b[0;34m\u001b[0m\u001b[0m\n\u001b[0m",
      "\u001b[0;32m<ipython-input-28-4fb5ba815da4>\u001b[0m in \u001b[0;36mfib\u001b[0;34m(n)\u001b[0m\n\u001b[1;32m      5\u001b[0m     \u001b[0;32mif\u001b[0m \u001b[0mn\u001b[0m \u001b[0;34m<\u001b[0m \u001b[0;36m2\u001b[0m\u001b[0;34m:\u001b[0m\u001b[0;34m\u001b[0m\u001b[0;34m\u001b[0m\u001b[0m\n\u001b[1;32m      6\u001b[0m         \u001b[0;32mreturn\u001b[0m \u001b[0mn\u001b[0m\u001b[0;34m\u001b[0m\u001b[0;34m\u001b[0m\u001b[0m\n\u001b[0;32m----> 7\u001b[0;31m     \u001b[0;32mreturn\u001b[0m \u001b[0mfib\u001b[0m\u001b[0;34m(\u001b[0m\u001b[0mn\u001b[0m\u001b[0;34m-\u001b[0m\u001b[0;36m1\u001b[0m\u001b[0;34m)\u001b[0m \u001b[0;34m+\u001b[0m \u001b[0mfib\u001b[0m\u001b[0;34m(\u001b[0m\u001b[0mn\u001b[0m\u001b[0;34m-\u001b[0m\u001b[0;36m2\u001b[0m\u001b[0;34m)\u001b[0m\u001b[0;34m\u001b[0m\u001b[0;34m\u001b[0m\u001b[0m\n\u001b[0m",
      "... last 1 frames repeated, from the frame below ...\n",
      "\u001b[0;32m<ipython-input-28-4fb5ba815da4>\u001b[0m in \u001b[0;36mfib\u001b[0;34m(n)\u001b[0m\n\u001b[1;32m      5\u001b[0m     \u001b[0;32mif\u001b[0m \u001b[0mn\u001b[0m \u001b[0;34m<\u001b[0m \u001b[0;36m2\u001b[0m\u001b[0;34m:\u001b[0m\u001b[0;34m\u001b[0m\u001b[0;34m\u001b[0m\u001b[0m\n\u001b[1;32m      6\u001b[0m         \u001b[0;32mreturn\u001b[0m \u001b[0mn\u001b[0m\u001b[0;34m\u001b[0m\u001b[0;34m\u001b[0m\u001b[0m\n\u001b[0;32m----> 7\u001b[0;31m     \u001b[0;32mreturn\u001b[0m \u001b[0mfib\u001b[0m\u001b[0;34m(\u001b[0m\u001b[0mn\u001b[0m\u001b[0;34m-\u001b[0m\u001b[0;36m1\u001b[0m\u001b[0;34m)\u001b[0m \u001b[0;34m+\u001b[0m \u001b[0mfib\u001b[0m\u001b[0;34m(\u001b[0m\u001b[0mn\u001b[0m\u001b[0;34m-\u001b[0m\u001b[0;36m2\u001b[0m\u001b[0;34m)\u001b[0m\u001b[0;34m\u001b[0m\u001b[0;34m\u001b[0m\u001b[0m\n\u001b[0m",
      "\u001b[0;31mRecursionError\u001b[0m: maximum recursion depth exceeded in comparison"
     ]
    }
   ],
   "source": [
    "fib(10000)"
   ]
  },
  {
   "cell_type": "markdown",
   "id": "broke-february",
   "metadata": {},
   "source": [
    "Para no tener este problema, en la documentación hacen el truco de ir visitando\n",
    "en orden todos los elementos de la sucesión hasta llegar al que queremos."
   ]
  },
  {
   "cell_type": "code",
   "execution_count": 31,
   "id": "binding-topic",
   "metadata": {},
   "outputs": [
    {
     "data": {
      "text/plain": [
       "[0, 1, 1, 2, 3, 5, 8, 13, 21, 34, 55, 89, 144, 233, 377, 610]"
      ]
     },
     "execution_count": 31,
     "metadata": {},
     "output_type": "execute_result"
    }
   ],
   "source": [
    "[fib(n) for n in range(16)]"
   ]
  },
  {
   "cell_type": "markdown",
   "id": "governing-cutting",
   "metadata": {},
   "source": [
    "Con este truco se instruye a la caché con todos los elementos de la sucesión\n",
    "hasta llegar al que queremos. Para el cálculo de un elemento sólo se necesitarán\n",
    "los dos elementos anteriores de la sucesión, que ya tendremos en la caché, lo\n",
    "que evita múltiples llamadas recursivas.\n",
    "\n",
    "Con este mismo propósito, podemos probar a calcular el elemento 10000 aplicando\n",
    "las técnicas ya aprendidas hasta ahora:"
   ]
  },
  {
   "cell_type": "code",
   "execution_count": null,
   "id": "polished-charge",
   "metadata": {},
   "outputs": [],
   "source": [
    "from itertools import count, islice\n",
    "from functools import lru_cache\n",
    "\n",
    "ℕ = count(0)\n",
    "suc_fib = (fib(n) for n in ℕ)\n",
    "fib10k = next(islice(suc_fib, 10000, None))"
   ]
  },
  {
   "cell_type": "markdown",
   "id": "charged-entrepreneur",
   "metadata": {},
   "source": [
    "Esta gestión de la caché es totalmente opaca para nosotros. Si pudiéramos\n",
    "acceder a ella sería un modo de obtener la sucesión de fibonacci hasta el mayor\n",
    "elemento que se haya calculado.\n",
    "\n",
    "Vamos a itentar crear una caché similar capaz de generar automáticamente los\n",
    "elementos de la sucesión:"
   ]
  },
  {
   "cell_type": "code",
   "execution_count": 32,
   "id": "australian-australia",
   "metadata": {},
   "outputs": [],
   "source": [
    "def fibcache(f):\n",
    "    cache = []\n",
    "    def wrap(n):\n",
    "        for i in range(len(cache), n + 1):\n",
    "            cache.append(f(i))\n",
    "        return cache[n]\n",
    "\n",
    "    wrap.cache = cache\n",
    "\n",
    "    return wrap\n",
    "\n",
    "@fibcache\n",
    "def fib(n):\n",
    "    if n < 2:\n",
    "        return n\n",
    "    return fib(n-1) + fib(n-2)"
   ]
  },
  {
   "cell_type": "markdown",
   "id": "silver-stanford",
   "metadata": {},
   "source": [
    "Hemos creado el decorador, `fibcache` que añade una caché a la función que\n",
    "decora. Al hacer la llamada `fib(n)`, este decorador se asegura que todos los\n",
    "elementos anteriores de la sucesión estén en la caché. La caché es accesible\n",
    "mediante el atributo `fib.cache`, que no será otra cosa que la sucesión de\n",
    "fibonacci."
   ]
  },
  {
   "cell_type": "code",
   "execution_count": 33,
   "id": "executive-thousand",
   "metadata": {},
   "outputs": [
    {
     "data": {
      "text/plain": [
       "33644764876431783266621612005107543310302148460680063906564769974680081442166662368155595513633734025582065332680836159373734790483865268263040892463056431887354544369559827491606602099884183933864652731300088830269235673613135117579297437854413752130520504347701602264758318906527890855154366159582987279682987510631200575428783453215515103870818298969791613127856265033195487140214287532698187962046936097879900350962302291026368131493195275630227837628441540360584402572114334961180023091208287046088923962328835461505776583271252546093591128203925285393434620904245248929403901706233888991085841065183173360437470737908552631764325733993712871937587746897479926305837065742830161637408969178426378624212835258112820516370298089332099905707920064367426202389783111470054074998459250360633560933883831923386783056136435351892133279732908133732642652633989763922723407882928177953580570993691049175470808931841056146322338217465637321248226383092103297701648054726243842374862411453093812206564914032751086643394517512161526545361333111314042436854805106765843493523836959653428071768775328348234345557366719731392746273629108210679280784718035329131176778924659089938635459327894523777674406192240337638674004021330343297496902028328145933418826817683893072003634795623117103101291953169794607632737589253530772552375943788434504067715555779056450443016640119462580972216729758615026968443146952034614932291105970676243268515992834709891284706740862008587135016260312071903172086094081298321581077282076353186624611278245537208532365305775956430072517744315051539600905168603220349163222640885248852433158051534849622434848299380905070483482449327453732624567755879089187190803662058009594743150052402532709746995318770724376825907419939632265984147498193609285223945039707165443156421328157688908058783183404917434556270520223564846495196112460268313970975069382648706613264507665074611512677522748621598642530711298441182622661057163515069260029861704945425047491378115154139941550671256271197133252763631939606902895650288268608362241082050562430701794976171121233066073310059947366875"
      ]
     },
     "execution_count": 33,
     "metadata": {},
     "output_type": "execute_result"
    }
   ],
   "source": [
    "fib(10000)"
   ]
  },
  {
   "cell_type": "code",
   "execution_count": 34,
   "id": "owned-progress",
   "metadata": {},
   "outputs": [
    {
     "data": {
      "text/plain": [
       "33644764876431783266621612005107543310302148460680063906564769974680081442166662368155595513633734025582065332680836159373734790483865268263040892463056431887354544369559827491606602099884183933864652731300088830269235673613135117579297437854413752130520504347701602264758318906527890855154366159582987279682987510631200575428783453215515103870818298969791613127856265033195487140214287532698187962046936097879900350962302291026368131493195275630227837628441540360584402572114334961180023091208287046088923962328835461505776583271252546093591128203925285393434620904245248929403901706233888991085841065183173360437470737908552631764325733993712871937587746897479926305837065742830161637408969178426378624212835258112820516370298089332099905707920064367426202389783111470054074998459250360633560933883831923386783056136435351892133279732908133732642652633989763922723407882928177953580570993691049175470808931841056146322338217465637321248226383092103297701648054726243842374862411453093812206564914032751086643394517512161526545361333111314042436854805106765843493523836959653428071768775328348234345557366719731392746273629108210679280784718035329131176778924659089938635459327894523777674406192240337638674004021330343297496902028328145933418826817683893072003634795623117103101291953169794607632737589253530772552375943788434504067715555779056450443016640119462580972216729758615026968443146952034614932291105970676243268515992834709891284706740862008587135016260312071903172086094081298321581077282076353186624611278245537208532365305775956430072517744315051539600905168603220349163222640885248852433158051534849622434848299380905070483482449327453732624567755879089187190803662058009594743150052402532709746995318770724376825907419939632265984147498193609285223945039707165443156421328157688908058783183404917434556270520223564846495196112460268313970975069382648706613264507665074611512677522748621598642530711298441182622661057163515069260029861704945425047491378115154139941550671256271197133252763631939606902895650288268608362241082050562430701794976171121233066073310059947366875"
      ]
     },
     "execution_count": 34,
     "metadata": {},
     "output_type": "execute_result"
    }
   ],
   "source": [
    "fib.cache[10000]"
   ]
  },
  {
   "cell_type": "markdown",
   "id": "physical-environment",
   "metadata": {},
   "source": [
    "Lo genial de esta estrategia es que sólo calculamos los mínimos elementos\n",
    "necesarios para obtener el resultado buscado, algo que es el fundamento de lo\n",
    "que conocemos por _evaluación perezosa_."
   ]
  },
  {
   "cell_type": "markdown",
   "id": "waiting-traffic",
   "metadata": {},
   "source": [
    "### Resumen\n",
    "\n",
    "Aplicando técnicas de _memoización_, hemos conseguido que una función recursiva\n",
    "almacene los cálculos que hace para así evitar repetirlos, con lo que es posible\n",
    "reducir los niveles de recursividad.\n",
    "\n",
    "Con un decorador, hemos asociado una caché a una función que se rellena\n",
    "automáticamente, y en orden, con los resultados intermedios hasta llegar al\n",
    "resultado solicitado. Esta caché será una sucesión ordenada de resultados, que\n",
    "crece a medida que se necesite.\n",
    "\n",
    "A este proceso de realizar cálculos según sea necesario es lo que conocemos por\n",
    "_Evaluación Perezosa_."
   ]
  },
  {
   "cell_type": "markdown",
   "id": "serial-promotion",
   "metadata": {},
   "source": [
    "## _Evaluación perezosa_ avanzada\n",
    "\n",
    "Haskell tiene una librería, `Data.Numbers.Primes`, que ofrece tanto una\n",
    "secuencia con todos los números primos, `primes`, como la función `isprime` con\n",
    "la que chequear si un número es primo. Gracias a la _evaluación perezosa_,\n",
    "haskell sólo calcula los elementos de `primes` que necesite.\n",
    "\n",
    "Vamos a intentar hacer en python lo que hace sencillo haskell:\n",
    "\n",
    "```haskell\n",
    "> take 100 primes\n",
    "[2,3,5,7,11,13,17,19,23,29,31,37,41,43,47,53,59,61,67,71,73,79,83,89,97,101,103,\n",
    "107,109,113,127,131,137,139,149,151,157,163,167,173,179,181,191,193,197,199,211,\n",
    "223,227,229,233,239,241,251,257,263,269,271,277,281,283,293,307,311,313,317,331,\n",
    "337,347,349,353,359,367,373,379,383,389,397,401,409,419,421,431,433,439,443,449,\n",
    "457,461,463,467,479,487,491,499,503,509,521,523,541]\n",
    "\n",
    "> primes!!90000\n",
    "1159531\n",
    "\n",
    "> isPrime (2^31-1)\n",
    "True\n",
    "```"
   ]
  },
  {
   "cell_type": "markdown",
   "id": "swiss-copying",
   "metadata": {},
   "source": [
    "### Calculo de números primos\n",
    "\n",
    "Por definición, un número primo sólo es divisible por `1` y por sí mismo:"
   ]
  },
  {
   "cell_type": "code",
   "execution_count": null,
   "id": "faced-terror",
   "metadata": {},
   "outputs": [],
   "source": [
    "Prime = int  # un alias para números primos\n",
    "\n",
    "def isprime(n: int) -> bool:\n",
    "    return not any(n % i == 0 for i in range(2, n))\n",
    "\n",
    "def primes(to: int) -> list[Prime]:\n",
    "    return [i for i in range(2, to+1) if isprime(i)]"
   ]
  },
  {
   "cell_type": "markdown",
   "id": "convertible-military",
   "metadata": {},
   "source": [
    "Podemos aplicar algunas optimizaciones a estos cálculos:\n",
    "\n",
    "- Excepto el 2, podemos descartar como primos todos los números pares\n",
    "- Al comprobar divisores de $n$, basta con probar hasta $\\sqrt{n}$, y únicamente\n",
    "  con aquellos que sean primos\n",
    "\n",
    "Con estas premisas, podemos ir ya diseñando una estrategia para obtener una\n",
    "secuencia de primos por evaluación perezosa:"
   ]
  },
  {
   "cell_type": "code",
   "execution_count": null,
   "id": "crazy-seven",
   "metadata": {},
   "outputs": [],
   "source": [
    "import sys\n",
    "from collections.abc import Generator, Iterable\n",
    "from itertools import islice\n",
    "\n",
    "INFINITE = sys.maxsize  # una aproximación 'mala' para infinito\n",
    "Prime = int  # un alias para números primos\n",
    "\n",
    "# lista de números primos que vayamos obteniendo\n",
    "primes: list[Prime] = [2, 3]\n",
    "\n",
    "\n",
    "def isdivisible(n: int, divisors: Iterable[int]) -> bool:\n",
    "    \"\"\"\n",
    "    Comprobar si 'n' es divisible por\n",
    "    los elementos de un iterable ordenado\n",
    "    \"\"\"\n",
    "\n",
    "    divisible = False\n",
    "    for d in divisors:\n",
    "        if n % d == 0:\n",
    "            divisible = True\n",
    "            break\n",
    "        if d * d > n:\n",
    "            break\n",
    "    return divisible\n",
    "\n",
    "\n",
    "def isprime(n: int) -> bool:\n",
    "    \"\"\"Comprobar si 'n' es un número primo\"\"\"\n",
    "\n",
    "    if n <= primes[-1]:\n",
    "        return n in primes\n",
    "\n",
    "    # probando primos como divisores\n",
    "    if isdivisible(n, primes):\n",
    "        return False\n",
    "\n",
    "    # seguir con el resto de números impares\n",
    "    start = primes[-1] + 2\n",
    "    return not isdivisible(n, range(start, n, 2))\n",
    "\n",
    "\n",
    "def genprimes() -> Generator[Prime, None, None]:\n",
    "    \"\"\"Generador de números primos\"\"\"\n",
    "\n",
    "    start = primes[-1] + 2\n",
    "    for n in range(start, INFINITE, 2):\n",
    "        if not isdivisible(n, primes):\n",
    "            primes.append(n)\n",
    "            yield n"
   ]
  },
  {
   "cell_type": "markdown",
   "id": "presidential-combine",
   "metadata": {},
   "source": [
    "El generador `genprimes` nos dará un iterador con el que ir obteniendo los\n",
    "números primos siguientes al último de la lista. A medida que obtiene un primo,\n",
    "se añade a la lista `primes`.\n",
    "\n",
    "La lista `primes` actua como _caché_ de los números primos obtenidos y la\n",
    "empleará `isprime` para sus comprobaciones. Si `isprime` se queda sin primos,\n",
    "continua con los siguientes números impares hasta obtener un resultado, sin\n",
    "pararse a calcular los primos intermedios."
   ]
  },
  {
   "cell_type": "markdown",
   "id": "numeric-deadline",
   "metadata": {},
   "source": [
    "### Secuencia de números primos\n",
    "\n",
    "Vistas estas funciones vamos a armar con ellas la estructura de una clase\n",
    "_secuencia_. `isprime` pasará a ser el método `__contains__` y el generador\n",
    "`genprimes` lo usaremos para ampliar automáticamente la lista de números primos\n",
    "según sea necesario:"
   ]
  },
  {
   "cell_type": "code",
   "execution_count": 35,
   "id": "magnetic-taxation",
   "metadata": {},
   "outputs": [],
   "source": [
    "import sys\n",
    "from collections.abc import Generator, Iterable\n",
    "from itertools import islice\n",
    "from typing import Union\n",
    "\n",
    "INFINITE = sys.maxsize  # una mala aproximación de infinito\n",
    "Prime = int  # un alias para los primos\n",
    "\n",
    "\n",
    "def isdivisible(n: int, divisors: Iterable[int]) -> bool:\n",
    "    \"\"\"\n",
    "    Comprobar si 'n' es divisible por\n",
    "    los elementos de un iterable ordenado\n",
    "    \"\"\"\n",
    "\n",
    "    divisible = False\n",
    "    for d in divisors:\n",
    "        if n % d == 0:\n",
    "            divisible = True\n",
    "            break\n",
    "        if d * d > n:\n",
    "            break\n",
    "    return divisible\n",
    "\n",
    "\n",
    "def nth(it: Iterable, n: int):\n",
    "    \"\"\"Obtener de un iterable el elemento en la posición 'n'\"\"\"\n",
    "    return next(islice(it, n, None))\n",
    "\n",
    "\n",
    "class Primes:\n",
    "    \"\"\"\n",
    "    Collection of primes numbers\n",
    "    \"\"\"\n",
    "\n",
    "    def __init__(self):\n",
    "        self._primes: list[Prime] = [2, 3]\n",
    "\n",
    "    @property\n",
    "    def last(self) -> Prime:\n",
    "        return self._primes[-1]\n",
    "\n",
    "    @property\n",
    "    def size(self) -> int:\n",
    "        return len(self._primes)\n",
    "\n",
    "    def __len__(self) -> int:\n",
    "        return INFINITE\n",
    "\n",
    "    def __contains__(self, n: int) -> bool:\n",
    "        \"\"\"Comprobar si 'n' es un número primo\"\"\"\n",
    "\n",
    "        if n <= self.last:\n",
    "            return n in self._primes\n",
    "\n",
    "        # probando primos como divisores\n",
    "        if isdivisible(n, self._primes):\n",
    "            return False\n",
    "\n",
    "        # seguir con el resto de números impares\n",
    "        start = self.last + 2\n",
    "        return not isdivisible(n, range(start, n, 2))\n",
    "\n",
    "    def genprimes(self) -> Generator[Prime, None, None]:\n",
    "        \"\"\"Generador de números primos\"\"\"\n",
    "\n",
    "        start = self.last + 2\n",
    "        for n in range(start, INFINITE, 2):\n",
    "            if not isdivisible(n, self._primes):\n",
    "                self._primes.append(n)\n",
    "                yield n\n",
    "\n",
    "    def __getitem__(self, idx: Union[int, slice]) -> Prime:\n",
    "        if isinstance(idx, int):\n",
    "            if idx < 0:\n",
    "                raise OverflowError\n",
    "\n",
    "            return (\n",
    "                self._primes[idx]\n",
    "                if idx < self.size\n",
    "                else nth(self.genprimes(), idx - self.size)\n",
    "            )\n",
    "        else:\n",
    "            rng = range(INFINITE)[idx]\n",
    "            return [self[i] for i in rng]\n",
    "\n",
    "# Secuencia de los números primos\n",
    "primes = Primes()\n",
    "isprime = primes.__contains__"
   ]
  },
  {
   "cell_type": "markdown",
   "id": "meaningful-identity",
   "metadata": {},
   "source": [
    "Como _infinito_ se usa `sys.maxsize` que es el mayor tamaño que puede tener una\n",
    "lista para la versión `CPython`. Si tratamos de usar índices mayores para una\n",
    "lista nos dará error.\n",
    "\n",
    "Cuando se solicita un número primo que no está en la lista, el método\n",
    "`__getitem__` invoca automáticamente al iterador que devuelve `genprimes` hasta\n",
    "alcanzarlo. A medida que se descubren números primos, se val almacenando para su\n",
    "posterior uso.\n",
    "\n",
    "Pruebas de uso:"
   ]
  },
  {
   "cell_type": "code",
   "execution_count": 36,
   "id": "personal-auditor",
   "metadata": {},
   "outputs": [
    {
     "name": "stdout",
     "output_type": "stream",
     "text": [
      "[2, 3, 5, 7, 11, 13, 17, 19, 23, 29, 31, 37, 41, 43, 47, 53, 59, 61, 67, 71, 73, 79, 83, 89, 97, 101, 103, 107, 109, 113, 127, 131, 137, 139, 149, 151, 157, 163, 167, 173, 179, 181, 191, 193, 197, 199, 211, 223, 227, 229, 233, 239, 241, 251, 257, 263, 269, 271, 277, 281, 283, 293, 307, 311, 313, 317, 331, 337, 347, 349, 353, 359, 367, 373, 379, 383, 389, 397, 401, 409, 419, 421, 431, 433, 439, 443, 449, 457, 461, 463, 467, 479, 487, 491, 499, 503, 509, 521, 523, 541]\n"
     ]
    }
   ],
   "source": [
    "print(primes[:100])"
   ]
  },
  {
   "cell_type": "code",
   "execution_count": 37,
   "id": "discrete-rider",
   "metadata": {},
   "outputs": [
    {
     "data": {
      "text/plain": [
       "1159531"
      ]
     },
     "execution_count": 37,
     "metadata": {},
     "output_type": "execute_result"
    }
   ],
   "source": [
    "primes[90000]"
   ]
  },
  {
   "cell_type": "code",
   "execution_count": 38,
   "id": "macro-special",
   "metadata": {},
   "outputs": [
    {
     "data": {
      "text/plain": [
       "True"
      ]
     },
     "execution_count": 38,
     "metadata": {},
     "output_type": "execute_result"
    }
   ],
   "source": [
    "isprime(2**31-1)"
   ]
  },
  {
   "cell_type": "code",
   "execution_count": 39,
   "id": "occupied-optimum",
   "metadata": {},
   "outputs": [
    {
     "data": {
      "text/plain": [
       "False"
      ]
     },
     "execution_count": 39,
     "metadata": {},
     "output_type": "execute_result"
    }
   ],
   "source": [
    "(2**31-1) in primes._primes"
   ]
  },
  {
   "cell_type": "code",
   "execution_count": 40,
   "id": "cleared-republic",
   "metadata": {},
   "outputs": [
    {
     "data": {
      "text/plain": [
       "1159531"
      ]
     },
     "execution_count": 40,
     "metadata": {},
     "output_type": "execute_result"
    }
   ],
   "source": [
    "primes.last"
   ]
  },
  {
   "cell_type": "markdown",
   "id": "challenging-database",
   "metadata": {},
   "source": [
    "Para cumplir con el protocolo `Sequence` podemos añadir los métodos que nos\n",
    "faltan, cosa que animo hacer al lector. El método `count()` es trivial: si es\n",
    "primo, habrá 1 ocurrencia; si no es primo, 0 ocurrencias. El método `index()` es\n",
    "algo más complicado. En cambio el `_reversed__()` es imposible ya que no se\n",
    "puede invertir una secuencia infinta. A pesar de ello, la clase `Prime` se\n",
    "comportará casi como una secuencia siempre y cuando no itentemos acceder a la\n",
    "secuencia por el final."
   ]
  },
  {
   "cell_type": "markdown",
   "id": "sound-performer",
   "metadata": {},
   "source": [
    "### Más optimizaciones"
   ]
  },
  {
   "cell_type": "markdown",
   "id": "vertical-foster",
   "metadata": {},
   "source": [
    "#### Bisecciones\n",
    "\n",
    "La lista de primos que vamos generando siempre será una _lista ordenada_, por lo\n",
    "que se pueden optimizar mucho las búsquedas usando _bisecciones_, para lo que\n",
    "tenemos el módulo `bisect` ($O(\\log{n})$ en lugar de $O(n)$).\n",
    "\n",
    "Por ejemplo, para comprobar si un elemento está en una lista ordenada:"
   ]
  },
  {
   "cell_type": "code",
   "execution_count": null,
   "id": "cheap-separation",
   "metadata": {},
   "outputs": [],
   "source": [
    "from bisect import bisect_left\n",
    "\n",
    "def bs_contains(lst: list, x) -> bool:\n",
    "    idx = bisect_left(lst, x)\n",
    "    return idx < len(lst) and lst[idx] == x"
   ]
  },
  {
   "cell_type": "markdown",
   "id": "dirty-laundry",
   "metadata": {},
   "source": [
    "#### Programación dinámica\n",
    "\n",
    "En el generador de números primos podemos observar que se están comprobando los\n",
    "cuadrados de los divisores más veces de las necesarias. Podemos delimitar rangos\n",
    "en los que se van a usar los mismos divisores. Por ejemplo, si tenemos la\n",
    "secuencia `[2, 3]` como divisores podemos chequear números hasta el `23`. Para\n",
    "seguir con el `25` tenemos que añadir un primo más, `[2, 3, 5]` con los que ya\n",
    "podemos chequear hasta el `47`. Y así sucesivamente. El rango `range(start,\n",
    "INFINITE, 2)` lo podemos fraccionar según el grupo de primos que emplearemos\n",
    "como divisores.\n",
    "\n",
    "La _programación dinámica_ tiene sus riesgos y es bastante fácil que no funcione\n",
    "bien a la primera, pero mejoran mucho la eficiencia de un algoritmo."
   ]
  },
  {
   "cell_type": "markdown",
   "id": "valued-liquid",
   "metadata": {},
   "source": [
    "#### Multiproceso\n",
    "\n",
    "Como opción de mejora está el uso de técnicas de concurrencia y multiproceso.\n",
    "Como primera medida que podemos pensar sería crear varios _workers_ que chequeen\n",
    "en paralelo la divisibilidad para chequear varios números a la vez. El problema\n",
    "es que estos workers tendrían que tener su copia de la lista de primos y\n",
    "actualizarla conforme se obtenien, algo que es sumamente costoso y poco\n",
    "eficiente.\n",
    "\n",
    "Una estrategia mejor sería especializar cada _worker_ en un subconjunto de\n",
    "números primos de modo que todos los _workers_ intervengan colaborativamente en\n",
    "el chequeo del mismo número.\n",
    "\n",
    "En concurrencia, hay muchas estrategias posibles y ninguna mejor. Al final, cada\n",
    "problema tiene su solución particular que no sirve como solución general."
   ]
  },
  {
   "cell_type": "markdown",
   "id": "diverse-mention",
   "metadata": {},
   "source": [
    "#### Código final optimizado\n",
    "\n",
    "El código final optimizado, sin usar concurrencia, se puede encontrar al final del notebook: [primes.py](#Primes)\n",
    "\n",
    "Por hacernos una idea, esta sería la comparativa de tiempos de la versiones haskell y python:\n",
    "\n",
    "<!-- markdownlint-disable MD033 -->\n",
    "<style>\n",
    "table, th, td { border: 1px solid grey;padding: 1.2em;}\n",
    "table {border-collapse: collapse;}\n",
    "</style>\n",
    "<!-- markdownlint-enable MD033 -->\n",
    "\n",
    "| operación          | haskell | python | python opt |\n",
    "|:-------------------|--------:|-------:|-----------:|\n",
    "|primo 90000         | 310ms   | 1450ms | 860ms      |\n",
    "|es primo $2^{31}-1$ |  20ms   |   10ms |   3ms      |\n",
    "|index 1159531       | 240ms   |    N/A | 820ms      |"
   ]
  },
  {
   "cell_type": "markdown",
   "id": "diagnostic-blade",
   "metadata": {},
   "source": [
    "## Formalización de la Secuencia Perezosa\n",
    "\n",
    "Hasta ahora hemos visto cómo crear una _secuencia perezosa_ que va guardando en\n",
    "una caché los resultados de una operación (proceso de _memoización_). Así mismo,\n",
    "cuando la secuencia es una _secuencia ordenada_ podemos optimizar algunas\n",
    "búsquedas, tal como vimos con la secuencia de números primos.\n",
    "\n",
    "Vamos a intentar darle una forma a todo esto creando las clases `LazySequence` y\n",
    "`LazySortedSequence`.\n",
    "\n",
    "El código refactorizado final se encuentra al final del notebook: [lazyseq.py](#LazySequence-y-LazySortedSequence)"
   ]
  },
  {
   "cell_type": "markdown",
   "id": "shared-scottish",
   "metadata": {},
   "source": [
    "### LazySequence\n",
    "\n",
    "La clase `LazySequence` crea una _secuencia perezosa_ a partir de un iterador.\n",
    "A medida que obtenga elementos del iterador, los va almacenando en una caché:"
   ]
  },
  {
   "cell_type": "code",
   "execution_count": null,
   "id": "invalid-boundary",
   "metadata": {},
   "outputs": [],
   "source": [
    "T = TypeVar(\"T\", covariant=True)\n",
    "\n",
    "class LazySequence(Iterator[T]):\n",
    "    def __init__(self, iterator: Iterator[T]):\n",
    "        self._cache: list[T] = []\n",
    "        self.iterator = iterator\n",
    "\n",
    "    def __next__(self) -> T:\n",
    "        x = next(self.iterator)\n",
    "        self._cache.append(x)\n",
    "        return x"
   ]
  },
  {
   "cell_type": "markdown",
   "id": "immune-appendix",
   "metadata": {},
   "source": [
    "Cada vez que se calcule un nuevo elemento a través de `next()`, éste se añadirá\n",
    "a la caché.\n",
    "\n",
    "Para que funcione como secuencia, se implementan los métodos `__getitem__`:"
   ]
  },
  {
   "cell_type": "code",
   "execution_count": null,
   "id": "promotional-vessel",
   "metadata": {},
   "outputs": [],
   "source": [
    "    @singledispatchmethod\n",
    "    def __getitem__(self, idx):\n",
    "        return NotImplemented\n",
    "\n",
    "    @__getitem__.register\n",
    "    def __getitem_int__(self, idx: int) -> T:\n",
    "        if idx < 0:\n",
    "            raise OverflowError\n",
    "        elif idx >= self.size:\n",
    "            self._cache.extend(islice(self.iterator, idx - self.size + 1))\n",
    "\n",
    "        return self._cache[idx]\n",
    "\n",
    "    @__getitem__.register\n",
    "    def __getitem_slice__(self, sl: slice) -> list[T]:\n",
    "        rng = range(INFINITE)[sl]\n",
    "        return [self[i] for i in rng]"
   ]
  },
  {
   "cell_type": "markdown",
   "id": "psychological-acting",
   "metadata": {},
   "source": [
    "Y añadimos el método `__iter__` para cumplir con el protocolo _iterator_:"
   ]
  },
  {
   "cell_type": "code",
   "execution_count": null,
   "id": "enormous-amendment",
   "metadata": {},
   "outputs": [],
   "source": [
    "    def __iter__(self) -> Iterator[T]:\n",
    "        yield from self._cache\n",
    "        yield from (self[i] for i in range(len(self._cache), INFINITE))"
   ]
  },
  {
   "cell_type": "markdown",
   "id": "fleet-introduction",
   "metadata": {},
   "source": [
    "### LazySortedSequence\n",
    "\n",
    "Derivando de `LazySequence`, se crea la clase `LazySortedSequence` para cuando\n",
    "el iterador produzca una secuencia ordenada. Tal como hemos visto, cuando la\n",
    "secuencia está ordenada podemos realizar búsquedas por _bisecciones_ que\n",
    "resultan bastante eficiente.\n",
    "\n",
    "La operación principal será el método `insertpos()` que nos indica la posición\n",
    "en la que se insertaría un elemento en la secuencia, manteniendo el orden de los\n",
    "elementos. Si no son suficientes con los elementos de la caché, se extraerán más\n",
    "del iterador mediante `next()`, que irán añadiéndose progresivamente a la caché:"
   ]
  },
  {
   "cell_type": "code",
   "execution_count": null,
   "id": "horizontal-northeast",
   "metadata": {},
   "outputs": [],
   "source": [
    "Ord = TypeVar(\"Ord\", bound=int, covariant=True)\n",
    "\n",
    "class LazySortedSequence(LazySequence[Ord]):\n",
    "    def insertpos(self, x: int) -> int:\n",
    "        if self.size > 0 and x <= self.last:\n",
    "            idx = bisect_left(self._cache, x)\n",
    "        else:\n",
    "            while x > next(self):\n",
    "                pass\n",
    "            idx = self.size - 1\n",
    "\n",
    "        return idx"
   ]
  },
  {
   "cell_type": "markdown",
   "id": "muslim-fifth",
   "metadata": {},
   "source": [
    "Con el método `insertpos()` ya podemos definir los métodos `__contains__()` e\n",
    "`index()` típicos de la secuencias:"
   ]
  },
  {
   "cell_type": "code",
   "execution_count": null,
   "id": "personal-smell",
   "metadata": {},
   "outputs": [],
   "source": [
    "    def __contains__(self, x: int) -> bool:\n",
    "        idx = self.insertpos(x)\n",
    "        return x == self._cache[idx]\n",
    "\n",
    "    def index(self, x: int) -> int:\n",
    "        idx = self.insertpos(x)\n",
    "        if x == self._cache[idx]:\n",
    "            return idx\n",
    "        raise ValueError(f\"{x} is not in {self.__class__.__name__}\")"
   ]
  },
  {
   "cell_type": "markdown",
   "id": "julian-throw",
   "metadata": {},
   "source": [
    "No existe un protocolo para elementos _ordenables_ (`Sortable`, `Ordered`). Para\n",
    "ordenar elementos se usan los métodos de comparación `__eq__`, `__ne__`,\n",
    "`__lt__`, `__le__`, `__gt__` y `__ge__`. Pero se suele considerar estos métodos\n",
    "redundantes ya que basta con definir sólo dos (eg: `__eq__` y `__lt__`) para\n",
    "establecer una ordenación.\n",
    "\n",
    "Como no hay una forma mejor, hemos creado el tipo genérico `Ord` enlazado con\n",
    "`int` para que al menos el chequeador de tipos no se queje en la comparaciónes,\n",
    "aunque no tiene porqué limitarse su aplicación a números enteros."
   ]
  },
  {
   "cell_type": "markdown",
   "id": "competent-gregory",
   "metadata": {},
   "source": [
    "### Números primos\n",
    "\n",
    "Como caso práctico, veamos cómo se puede redefinir la clase `Primes`:"
   ]
  },
  {
   "cell_type": "code",
   "execution_count": null,
   "id": "unexpected-harvey",
   "metadata": {},
   "outputs": [],
   "source": [
    "@final\n",
    "class Primes(LazySortedSequence[Prime]):\n",
    "    def __init__(self):\n",
    "        super().__init__(self.__genprimes())\n",
    "        self._cache.extend([2, 3])\n",
    "\n",
    "    def __genprimes(self) -> Iterator[Prime]:\n",
    "        _primes = self._cache\n",
    "        start = 5\n",
    "        top = 1\n",
    "        while True:\n",
    "            stop = _primes[top] ** 2\n",
    "            for n in range(start, stop, 2):\n",
    "                for p in islice(_primes, 1, top):\n",
    "                    if n % p == 0:\n",
    "                        break\n",
    "                else:\n",
    "                    yield n\n",
    "\n",
    "            start = stop + 2\n",
    "            top += 1"
   ]
  },
  {
   "cell_type": "markdown",
   "id": "earned-suite",
   "metadata": {},
   "source": [
    "Si dejamos así la codificación, la clase `Primes` usará el método `__contains__`\n",
    "de `LazySortedSequence`. Este método añadirá primos a la caché hasta alcanzar el\n",
    "argumento solicitado.\n",
    "\n",
    "Si recordamos de la implementación anterior que teníamos de la clase `Primes`,\n",
    "el método `__contains__()` estaba optimizado para comprobar la pertencia de un\n",
    "número, sin añadir más elementos a la caché. Vamos a recuperar esta\n",
    "codificación:"
   ]
  },
  {
   "cell_type": "code",
   "execution_count": null,
   "id": "educated-funeral",
   "metadata": {},
   "outputs": [],
   "source": [
    "    def __contains__(self, n: int) -> bool:\n",
    "\n",
    "        if n <= self.last:\n",
    "            return super().__contains__(n)\n",
    "\n",
    "        root = isqrt(n)\n",
    "        _primes = self._cache\n",
    "\n",
    "        top = self.size if root > self.last else self.insertpos(root)\n",
    "\n",
    "        if any(n % prime == 0 for prime in islice(_primes, 1, top)):\n",
    "            return False\n",
    "\n",
    "        # \"one-shot\" check\n",
    "        if any(n % i == 0 for i in range(self.last + 2, root + 1, 2)):\n",
    "            return False\n",
    "\n",
    "        return True"
   ]
  },
  {
   "cell_type": "markdown",
   "id": "little-damages",
   "metadata": {},
   "source": [
    "[genericrange.py]: {attach}/code/2021Q1/lazyseq/genericrange.py \"GenericRange class\"\n",
    "[lazyseq.py]: {attach}/code/2021Q1/lazyseq/lazyseq.py \"LazySequence class\"\n",
    "[primes.py]: {attach}/code/2021Q1/lazyseq/primes.py \"Primes class\""
   ]
  },
  {
   "cell_type": "markdown",
   "id": "unauthorized-shower",
   "metadata": {},
   "source": [
    "## Ejemplo práctico: potencias de Fermi-Dirac\n",
    "\n",
    "Se llaman **potencias de Fermi-Dirac** a los números de la forma $p^{2^k}$,\n",
    "ordenados de menor a mayor, donde `p` es un número primo y `k` es un número\n",
    "natural.\n",
    "\n",
    "Vamos a ver cómo crear la sucesión de `potencias` Fermi-Dirac. Realizaremos las\n",
    "siguientes comprobaciones:"
   ]
  },
  {
   "cell_type": "code",
   "execution_count": null,
   "id": "aggressive-spank",
   "metadata": {},
   "outputs": [],
   "source": [
    "potencias: list[int]\n",
    "\n",
    "potencias[:14]    ==  [2,3,4,5,7,9,11,13,16,17,19,23,25,29]\n",
    "potencias[60]     ==  241\n",
    "potencias[10**6]  ==  15476303"
   ]
  },
  {
   "cell_type": "markdown",
   "id": "applied-rhythm",
   "metadata": {},
   "source": [
    "### Estudio previo\n",
    "\n",
    "Si sacamos la lista de potencias en función del exponente `k` tendríamos las\n",
    "siguientes sucesiones:\n",
    "\n",
    "$$\n",
    "\\begin{align*}\n",
    "P_0 &= 2,3,5,7,11,...\\\\\n",
    "P_1 &= 4,9,25,49,121,..\\\\\n",
    "P_2 &= 16,81,625,2401,14641,...\\\\\n",
    "P_3 &= 256,6561,390625,5764801,214358881,815730721,...\n",
    "\\end{align*}\n",
    "$$\n",
    "\n",
    "Necesitamos combinar estas sucesiones en una sola. A priori, no sabemos cuántos\n",
    "elementos vamos a necesitar de cada sucesión. Como máximo, para sacar las\n",
    "primeras 14 potencias nos basta con los primeros 14 números primos y crear 14\n",
    "secuencias, de $P_0$ a $P_{13}$, ordenarlos sus elementos en una única lista y\n",
    "escoger los primeros 14 elementos. Con este proceso habremos calculado 196\n",
    "potencias para sólo 14 elementos que necesitamos al final."
   ]
  },
  {
   "cell_type": "code",
   "execution_count": 41,
   "id": "sweet-assurance",
   "metadata": {},
   "outputs": [
    {
     "name": "stdout",
     "output_type": "stream",
     "text": [
      "[2, 3, 4, 5, 7, 9, 11, 13, 16, 17, 19, 23, 25, 29]\n"
     ]
    }
   ],
   "source": [
    "potencias = sorted(p**2**k for p in primes[:14] for k in range(0, 14))\n",
    "print(potencias[:14])"
   ]
  },
  {
   "cell_type": "markdown",
   "id": "familiar-bidding",
   "metadata": {},
   "source": [
    "Aún en el caso de que tuviéramos algún medio de reducir el número de elementos a\n",
    "usar de cada secuencia, seguimos sin saber cuántos números primos serán\n",
    "necesarios. Para sacar los 14 primeros elementos de las potencias de Fermi-Dirac\n",
    "sólo se necesitaban los 10 primeros números primos.\n",
    "\n",
    "Es evidente que una estrategia por _fuerza bruta_ es complicada y termina por\n",
    "hacer muchos cálculos innecesarios, una complejidad del $O({n^2})$ no resoluble\n",
    "con un ordenador normal. Veamos cómo nos puede ayudar la _evaluación perezosa_."
   ]
  },
  {
   "cell_type": "markdown",
   "id": "reasonable-monster",
   "metadata": {},
   "source": [
    "### Modelos\n",
    "\n",
    "Por intentar crear un modelo, intentemos ver las sucesiones como un iterador de\n",
    "iteradores:"
   ]
  },
  {
   "cell_type": "code",
   "execution_count": null,
   "id": "adolescent-driver",
   "metadata": {},
   "outputs": [],
   "source": [
    "from itertools import count\n",
    "\n",
    "from primes import primes\n",
    "\n",
    "potencias = ((p**2**k for p in primes) for k in count())"
   ]
  },
  {
   "cell_type": "markdown",
   "id": "textile-chile",
   "metadata": {},
   "source": [
    "Pero el problema con las _expresiones generadora_ es similar al que tienen las\n",
    "expresiones lambda: carecen de su propia clausura y cualquier _variable libre_\n",
    "queda alterada por el entorno donde se evalúan.\n",
    "\n",
    "Se puede comprobar el fallo si intentamos extraer dos iteradores:"
   ]
  },
  {
   "cell_type": "code",
   "execution_count": null,
   "id": "authorized-catholic",
   "metadata": {},
   "outputs": [],
   "source": [
    "p0 = next(potencias)\n",
    "p1 = next(potencias)\n",
    "next(p1)  # --> 4\n",
    "next(p0)  # --> 4\n",
    "next(p0)  # --> 9"
   ]
  },
  {
   "cell_type": "markdown",
   "id": "needed-outdoors",
   "metadata": {},
   "source": [
    "El exponente `k` ha cambiado de valor con el segundo iterador, lo que afecta a\n",
    "las potencias del primero. Tenemos que dotar a los iteradores de su propia\n",
    "clausura:"
   ]
  },
  {
   "cell_type": "code",
   "execution_count": null,
   "id": "contemporary-center",
   "metadata": {},
   "outputs": [],
   "source": [
    "from collections.abc import Iterator\n",
    "from itertools import count\n",
    "\n",
    "from primes import primes\n",
    "\n",
    "def potencias_gen(k: int) -> Iterator[int]:\n",
    "    yield from (p**2**k for p in primes)\n",
    "\n",
    "potencias = (potencias_gen(k) for k in count())"
   ]
  },
  {
   "cell_type": "markdown",
   "id": "iraqi-latino",
   "metadata": {},
   "source": [
    "Para obtener una única secuencia a partir de este _iterador de iteradores_ en un\n",
    "único iterador, operación que se conoce como _\"aplanar la secuencia\"_.\n",
    "\n",
    "Definimos la siguiente función para mezclar dos listas ordenadas:"
   ]
  },
  {
   "cell_type": "code",
   "execution_count": null,
   "id": "confidential-south",
   "metadata": {},
   "outputs": [],
   "source": [
    "# tipo para secuencias ordenadas\n",
    "SortedIterator = Iterator[int]\n",
    "\n",
    "def zipsort(s1: SortedIterator, s2: SortedIterator) -> SortedIterator:\n",
    "    x = next(s1)\n",
    "    y = next(s2)\n",
    "    while True:\n",
    "        if x <= y:\n",
    "            yield x\n",
    "            x = next(s1)\n",
    "        else:\n",
    "            yield y\n",
    "            y = next(s2)"
   ]
  },
  {
   "cell_type": "markdown",
   "id": "permanent-column",
   "metadata": {},
   "source": [
    "La función `zipsort` combina dos listas ordenadas `SortedIterator` para devolver\n",
    "otra lista ordenada `SortedIterator`. Si quisiéramos combinar tres listas,\n",
    "bastaría con volver repetir con `zipsort`:"
   ]
  },
  {
   "cell_type": "code",
   "execution_count": null,
   "id": "forward-prophet",
   "metadata": {},
   "outputs": [],
   "source": [
    "zipsort(zipsort(s1, s2), s3)"
   ]
  },
  {
   "cell_type": "markdown",
   "id": "mobile-leave",
   "metadata": {},
   "source": [
    "En general, podríamos combinar todas las listas de esta manera:"
   ]
  },
  {
   "cell_type": "code",
   "execution_count": null,
   "id": "increasing-medium",
   "metadata": {},
   "outputs": [],
   "source": [
    "def flat(iterators: Iterator[SortedIterator]) -> SortedIterator:\n",
    "    it1 = next(iterators)\n",
    "    it2 = flat(iterators)\n",
    "    yield from zipsort(it1, it2)\n",
    "\n",
    "potencias = flat(potencias_gen(k) for k in count())"
   ]
  },
  {
   "cell_type": "markdown",
   "id": "liable-philippines",
   "metadata": {},
   "source": [
    "El problema es que se entra en un bucle infinito de llamadas recursivas a `flat`\n",
    "que habrá que evitar.\n",
    "\n",
    "Si observamos las sucesiones $P_0$, $P_1$, $P_2$,..., el primer elemento de una\n",
    "sucesión es siempre inferior a cualquier elemento de sucesiones posteriores.\n",
    "Usando esta propiedad, podemos redefinir nuestra función aplanadora:"
   ]
  },
  {
   "cell_type": "code",
   "execution_count": null,
   "id": "understanding-pledge",
   "metadata": {},
   "outputs": [],
   "source": [
    "def flat(iterators: Iterator[SortedIterator]) -> SortedIterator:\n",
    "    it1 = next(iterators)\n",
    "    yield next(it1)\n",
    "    yield from zipsort(it1, flat(iterators))\n",
    "\n",
    "potencias = flat(potencias_gen(k) for k in count())"
   ]
  },
  {
   "cell_type": "markdown",
   "id": "funny-stevens",
   "metadata": {},
   "source": [
    "La función `flat` devuelve siempre un elemento antes de invocarse por\n",
    "recursividad, suficiente para frenar la cadena de llamadas recursivas. Visto de\n",
    "otro modo, se ha convertido la función en _perezosa_, devolviendo elementos a\n",
    "medida que sean necesarios. De todos modos, seguimos limitados por el nivel de\n",
    "recursividad en python (~3000 niveles en CPython), aunque no vamos a superar\n",
    "este límite en las pruebas. (Es posible que en posteriores artículos veamos técnicas para superar las limitaciones de la recursivad en python)."
   ]
  },
  {
   "cell_type": "markdown",
   "id": "eight-burlington",
   "metadata": {},
   "source": [
    "### código final\n",
    "\n",
    "Se puede ver el código al final del notebook: [potencias.py](#Potencias-de-Fermi-Dirac)"
   ]
  },
  {
   "cell_type": "markdown",
   "id": "cross-science",
   "metadata": {},
   "source": [
    "Para las comprobaciones:"
   ]
  },
  {
   "cell_type": "code",
   "execution_count": 90,
   "id": "deadly-indication",
   "metadata": {},
   "outputs": [
    {
     "data": {
      "text/plain": [
       "[2, 3, 4, 5, 7, 9, 11, 13, 16, 17, 19, 23, 25, 29]"
      ]
     },
     "execution_count": 90,
     "metadata": {},
     "output_type": "execute_result"
    }
   ],
   "source": [
    "potencias[:14]"
   ]
  },
  {
   "cell_type": "code",
   "execution_count": 91,
   "id": "worst-pearl",
   "metadata": {},
   "outputs": [
    {
     "data": {
      "text/plain": [
       "241"
      ]
     },
     "execution_count": 91,
     "metadata": {},
     "output_type": "execute_result"
    }
   ],
   "source": [
    "potencias[60]"
   ]
  },
  {
   "cell_type": "code",
   "execution_count": 92,
   "id": "terminal-savings",
   "metadata": {},
   "outputs": [
    {
     "data": {
      "text/plain": [
       "15476303"
      ]
     },
     "execution_count": 92,
     "metadata": {},
     "output_type": "execute_result"
    }
   ],
   "source": [
    "potencias[10 ** 6]"
   ]
  },
  {
   "cell_type": "code",
   "execution_count": 93,
   "id": "beautiful-support",
   "metadata": {},
   "outputs": [
    {
     "data": {
      "text/plain": [
       "999432"
      ]
     },
     "execution_count": 93,
     "metadata": {},
     "output_type": "execute_result"
    }
   ],
   "source": [
    "primes.size"
   ]
  },
  {
   "cell_type": "markdown",
   "id": "external-turning",
   "metadata": {},
   "source": [
    "Para obtener el elemento $10^6$ tarda bastante al necesitar obtener casi un\n",
    "millón de números primos. Una vez obtenidos, el cálculo es bastante rápido."
   ]
  },
  {
   "cell_type": "markdown",
   "id": "cross-haiti",
   "metadata": {},
   "source": [
    "## Apéndice: sobre el tipado de datos utilizado\n",
    "\n",
    "Durante esta serie de artículos he procurado usar el _tipado gradual_ de python,\n",
    "no sólo para mejorar la compresión, sino porque lo considero buena práctica para\n",
    "detectar algunos problemas en el momento de escribir el código. El intérprete de\n",
    "python realmente no realiza ningún chequeo de estas _anotaciones_ de tipos,\n",
    "dejando por completo su comprobación a alguna otra herramienta que pueda estar\n",
    "usando el desarrollador.\n",
    "\n",
    "He utilizado las clases abstractas del módulo `collections.abc` como base para\n",
    "definir los _iterables_, _secuencias_ e _iteradores_. He creído que así quedaba\n",
    "mejor documentado, además de ser el modo más conocido por programadores de otros\n",
    "lenguajes. Por derivar de la clase abstracta `Sequence`, sabemos que\n",
    "`GenericRange` implementa varios métodos abstractos como son `__len__` y\n",
    "`__getitem__`.\n",
    "\n",
    "Sin embargo, en python se considera supérfluo y poco recomendable este uso de\n",
    "clases abstractas. El modo _pythónico_ consiste en implementar esos métodos sin\n",
    "más indicación. Sólo por el hecho de contar con estos métodos, nuestra clase ya\n",
    "será considerada como _secuencia_, se podrá usar donde haga falta una\n",
    "_secuencia_ y, en definitiva, se comportará como si fuera una secuencia. Son los\n",
    "llamados _duck types_ o _tipos estructurales_ que tanto caracterizan a python y\n",
    "que, a partir de ahora, nos vamos a tener que acostumbrar a denominar\n",
    "**_Protocolos_**.\n",
    "\n",
    "Por ejemplo, podíamos haber declarado la clase `GenericRange` sin indicar\n",
    "ninguna superclase:"
   ]
  },
  {
   "cell_type": "code",
   "execution_count": null,
   "id": "danish-complaint",
   "metadata": {},
   "outputs": [],
   "source": [
    "class GenericRange:\n",
    "    def __init__(self, start=0, stop=None, step=1) -> None:\n",
    "        ...\n",
    "\n",
    "    def __len__(self) -> int:\n",
    "        ...\n",
    "\n",
    "    def __getitem__(self, idx: Union[int, slice]) -> Union[int, \"GenericRange\"]:\n",
    "        ..."
   ]
  },
  {
   "cell_type": "markdown",
   "id": "another-finder",
   "metadata": {},
   "source": [
    "Al tener el método `__len__()` se dice que cumple con el _protocolo `Sized`_,\n",
    "algo que se puede comprobar del mismo modo que si fuera una subclase:"
   ]
  },
  {
   "cell_type": "code",
   "execution_count": null,
   "id": "median-phenomenon",
   "metadata": {},
   "outputs": [],
   "source": [
    ">>> from collections.abc import Sized\n",
    ">>> issubclass(GenericRange, Sized)\n",
    "True"
   ]
  },
  {
   "cell_type": "markdown",
   "id": "german-money",
   "metadata": {},
   "source": [
    "En cambio, nos puede sorprender que no cumpla con el _protocolo `Sequence`_, a\n",
    "pesar de que se comportaba como tal:"
   ]
  },
  {
   "cell_type": "code",
   "execution_count": null,
   "id": "uniform-trace",
   "metadata": {},
   "outputs": [],
   "source": [
    ">>> from collections.abc import Sequence\n",
    ">>> issubclass(GenericRange, Sequence)\n",
    "False"
   ]
  },
  {
   "cell_type": "markdown",
   "id": "offshore-liberty",
   "metadata": {},
   "source": [
    "Resulta que para cumplir con el protocolo `Sequence`, además de `__getitem__()`,\n",
    "debe tener implementados los métodos  `__iter__()`, `__reversed__()` e\n",
    "`index()`.\n",
    "\n",
    "Cuando `GenericRange` derivaba de `Sequence`, estos métodos se heredaban de la\n",
    "superclase como _métodos mixin_, para cuya implementación básica utiliza\n",
    "únicamente el método `__getitem__()`. También implementa otros métodos como\n",
    "`__contains__()` (_Container_) y `count()` (_Countable_). Ése era el motivo por\n",
    "el que sólo hacía falta definir `__getitem__()` para que funcionara como\n",
    "secuencia.\n",
    "\n",
    "Como _protocolo_, estos métodos no se adquieren por herencia y necesitan una implementación para cumplir con el protocolo `Sequence`. No obstante, algunas funciones, como `reversed`, admiten objetos con implementaciones parciales del protocolo `Sequence`, algo que únicamente sabremos si recurrimos a la documentación de la función."
   ]
  },
  {
   "cell_type": "markdown",
   "id": "cardiac-asbestos",
   "metadata": {},
   "source": [
    "### Secuencia de enteros\n",
    "\n",
    "He empleado el tipo `Sequence` sin indicar de qué tipo son los elementos. Un\n",
    "chequeador de tipos asume que se trata de un iterable de elementos de tipo\n",
    "`Any`, por lo que no debería dar problemas. Pero siempre podemos ser más\n",
    "precisos y usar `Sequence[int]` como tipo de datos para nuestras secuencias de\n",
    "números enteros."
   ]
  },
  {
   "cell_type": "markdown",
   "id": "located-interim",
   "metadata": {},
   "source": [
    "### Referencia _forward_\n",
    "\n",
    "En la anotaciones de tipos, a veces necesitamos referenciar una clase antes de\n",
    "que esté definida, las conocidas como _referencias forward_ de tipos. El modo\n",
    "normal de hacer este tipo de referencias es escribir el nombre de la clase entre\n",
    "comillas, como una _string_.\n",
    "\n",
    "A partir de python 3.10 no hará falta acudir a este remedio pudiendo usar\n",
    "referencias _forward_ sin mayor problema. Para las versiones anteriores, se\n",
    "puede obtener esta funcionalidad del módulo `__future__`:"
   ]
  },
  {
   "cell_type": "code",
   "execution_count": null,
   "id": "understanding-lewis",
   "metadata": {},
   "outputs": [],
   "source": [
    "from __future__ import annotations"
   ]
  },
  {
   "cell_type": "markdown",
   "id": "cordless-yahoo",
   "metadata": {},
   "source": [
    "### Unión de tipos\n",
    "\n",
    "En el método `__getitem__()` de `GenericRange` he utilizado dos uniones de tipos:"
   ]
  },
  {
   "cell_type": "code",
   "execution_count": null,
   "id": "violent-deviation",
   "metadata": {},
   "outputs": [],
   "source": [
    "    def __getitem__(self, idx: Union[int, slice]) -> Union[int, \"GenericRange\"]:\n",
    "        i = self._range[idx]\n",
    "        return self.getitem(i) if isinstance(i, int) else self.from_range(i)"
   ]
  },
  {
   "cell_type": "markdown",
   "id": "laden-pursuit",
   "metadata": {},
   "source": [
    "La unión `idx: Union[int, slice]` se puede interpretar como que `idx` puede ser\n",
    "de tipo `int` o de tipo `slice`. La notación común de expresar esta unión de\n",
    "tipos en varios lenguajes sería `idx: int | slice`, nomenclatura que también\n",
    "será aceptada en python 3.10.\n",
    "\n",
    "La otra unión, `Union[int, \"GenericRange\"]` indica que el resultado será de tipo\n",
    "`int` o de tipo `GenericRange`.\n",
    "\n",
    "De todos modos, en estas anotaciones no se está reflejando la dependencia que\n",
    "hay entre tipos. Si `idx` es entero, el resultado siempre será un entero. Si\n",
    "`idx` es `slice`, el resultado siempre será `GenericRange`. En lenguajes con\n",
    "tipado estático, es normal disponer de varias definiciones del mismo métodos,\n",
    "con diferentes signaturas, que se seleccionan según sean los tipos de los\n",
    "argumentos y resultados que tengamos.\n",
    "\n",
    "Python tiene una facilidad para hacer algo similar. Con\n",
    "`functools.singledispathmethod` podemos definir varios métodos que se invocarán\n",
    "según el tipo de dato del primer argumento. De este modo, el método\n",
    "`__getitem__()` lo podríamos expresar así:"
   ]
  },
  {
   "cell_type": "code",
   "execution_count": null,
   "id": "invalid-prime",
   "metadata": {},
   "outputs": [],
   "source": [
    "from functools import singledispatchmethod\n",
    "\n",
    "class GenericRange(Sequence):\n",
    "    ...\n",
    "\n",
    "    @singledispatchmethod\n",
    "    def __getitem__(self, idx):\n",
    "        return NotImplemented\n",
    "\n",
    "    @__getitem__.register\n",
    "    def _(self, idx: int) -> int:\n",
    "        i = self._range[idx]\n",
    "        return self.getitem(i)\n",
    "\n",
    "    @__getitem__.register\n",
    "    def _(self, idx: slice) -> \"GenericRange\":\n",
    "        i = self._range[idx]\n",
    "        return self.from_range(i)"
   ]
  },
  {
   "cell_type": "markdown",
   "id": "dressed-ranch",
   "metadata": {},
   "source": [
    "Lamentablemente nos saldrá un error ya que no existe aún la clase `GenericRange`\n",
    "cuando es aplicado el decorador `singledispatchmethod`. Una solución es sacar el\n",
    "último registro fuera, una vez que ya se ha definido la clase:"
   ]
  },
  {
   "cell_type": "code",
   "execution_count": null,
   "id": "instructional-investing",
   "metadata": {},
   "outputs": [],
   "source": [
    "@GenericRange.__getitem__.register\n",
    "def _(self, idx: slice) -> GenericRange:\n",
    "    i = self._range[idx]\n",
    "    return self.from_range(i)"
   ]
  },
  {
   "cell_type": "markdown",
   "id": "peripheral-shannon",
   "metadata": {},
   "source": [
    "### Código final\n",
    "\n",
    "Con estos cambios, tendríamos nuestro código corregido de esta manera:"
   ]
  },
  {
   "cell_type": "code",
   "execution_count": null,
   "id": "classical-illness",
   "metadata": {},
   "outputs": [],
   "source": [
    "from abc import abstractmethod\n",
    "from collections.abc import Sequence\n",
    "from typing import Type, Union\n",
    "from functools import singledispatchmethod\n",
    "from __future__ import annotations\n",
    "\n",
    "class GenericRange(Sequence[int]):\n",
    "    def __init__(self, start=0, stop=None, step=1) -> None:\n",
    "        if stop is None:\n",
    "            start, stop = 0, start\n",
    "        self._range = range(start, stop, step)\n",
    "\n",
    "    @abstractmethod\n",
    "    def getitem(self, pos: int) -> int:\n",
    "        \"\"\"\n",
    "        Método abstracto.\n",
    "          Función para calcular un elemento a partir de la posición\n",
    "        \"\"\"\n",
    "        return pos\n",
    "\n",
    "    @classmethod\n",
    "    def from_range(cls: Type[GenericRange], rng: range) -> GenericRange:\n",
    "        \"\"\"\n",
    "        Constructor de un GenericRange a partir de un rango\n",
    "        \"\"\"\n",
    "        instance = cls()\n",
    "        instance._range = rng\n",
    "        return instance\n",
    "\n",
    "    def __len__(self) -> int:\n",
    "        return len(self._range)\n",
    "\n",
    "    @singledispatchmethod\n",
    "    def __getitem__(self, idx):\n",
    "        return NotImplemented\n",
    "\n",
    "    @__getitem__.register\n",
    "    def _(self, idx: int) -> int:\n",
    "        i = self._range[idx]\n",
    "        return self.getitem(i)\n",
    "\n",
    "    def __repr__(self) -> str:\n",
    "        classname = self.__class__.__name__\n",
    "        r = self._range\n",
    "        return f\"{classname}({r.start}, {r.stop}, {r.step})\"\n",
    "\n",
    "\n",
    "@GenericRange.__getitem__.register\n",
    "def _(self, idx: slice) -> GenericRange:\n",
    "    i = self._range[idx]\n",
    "    return self.from_range(i)"
   ]
  },
  {
   "cell_type": "markdown",
   "id": "radio-tribe",
   "metadata": {},
   "source": [
    "### Conclusión\n",
    "\n",
    "Python está realizando un gran esfuerzo en incorporar _anotaciones de tipo_ sin\n",
    "perder con ello sus característicos tipos _ducking_. De igual modo, vamos a ver\n",
    "cómo se incorporan más elementos de otros lenguajes como las _dataclasses_,\n",
    "_programación asíncrona_ o los _patrones estructurales_, aunque tardarán en ser\n",
    "adoptados por la mayor parte de programadores python.\n",
    "\n",
    "Si algo tiene python es no tener demasiada prisa en que se apliquen sus cambios.\n",
    "Como decía un gran sabio: _\"Vamos a cambiarlo todo para que todo siga igual\"_."
   ]
  },
  {
   "cell_type": "markdown",
   "id": "parallel-desperate",
   "metadata": {},
   "source": [
    "## Códigos finales\n",
    "\n",
    "### GenericRange"
   ]
  },
  {
   "cell_type": "code",
   "execution_count": null,
   "id": "finite-injection",
   "metadata": {},
   "outputs": [],
   "source": [
    "from __future__ import annotations\n",
    "\n",
    "from abc import abstractmethod\n",
    "from collections.abc import Sequence\n",
    "from functools import singledispatchmethod\n",
    "\n",
    "\n",
    "class GenericRange(Sequence):\n",
    "    def __init__(self, start=0, stop=None, step=1) -> None:\n",
    "        if stop is None:\n",
    "            start, stop = 0, start\n",
    "        self._range = range(start, stop, step)\n",
    "\n",
    "    @abstractmethod\n",
    "    def getitem(self, pos: int) -> int:\n",
    "        \"\"\"\n",
    "        Método abstracto.\n",
    "          Función para calcular un elemento a partir de la posición\n",
    "        \"\"\"\n",
    "        return pos\n",
    "\n",
    "    @classmethod\n",
    "    def from_range(cls: type[GenericRange], rng: range) -> GenericRange:\n",
    "        \"\"\"\n",
    "        Constructor de un GenericRange a partir de un rango\n",
    "        \"\"\"\n",
    "        instance = cls()\n",
    "        instance._range = rng\n",
    "        return instance\n",
    "\n",
    "    def __len__(self) -> int:\n",
    "        return len(self._range)\n",
    "\n",
    "    @singledispatchmethod\n",
    "    def __getitem__(self, idx):\n",
    "        return NotImplemented\n",
    "\n",
    "    @__getitem__.register\n",
    "    def _(self, idx: int) -> int:\n",
    "        i = self._range[idx]\n",
    "        return self.getitem(i)\n",
    "\n",
    "    def __repr__(self) -> str:\n",
    "        classname = self.__class__.__name__\n",
    "        r = self._range\n",
    "        return f\"{classname}({r.start}, {r.stop}, {r.step})\"\n",
    "\n",
    "\n",
    "@GenericRange.__getitem__.register\n",
    "def __(self, idx: slice) -> GenericRange:\n",
    "    i = self._range[idx]\n",
    "    return self.from_range(i)\n"
   ]
  },
  {
   "cell_type": "markdown",
   "id": "engaging-pointer",
   "metadata": {},
   "source": [
    "### LazySequence y LazySortedSequence"
   ]
  },
  {
   "cell_type": "markdown",
   "id": "exotic-infection",
   "metadata": {},
   "source": [
    "Secuencias perezosas creadas a partir de un iterador\n",
    "\n",
    "- `LazySequence`: secuencia que cachea los elementos obtenidos de un iterador\n",
    "- `LazySortedSequence`: secuencia perezosa de elementos ordenados"
   ]
  },
  {
   "cell_type": "code",
   "execution_count": 87,
   "id": "worst-cooler",
   "metadata": {},
   "outputs": [],
   "source": [
    "import sys\n",
    "from bisect import bisect_left\n",
    "from collections.abc import Iterator\n",
    "from functools import singledispatchmethod\n",
    "from itertools import islice\n",
    "from typing import Optional, TypeVar\n",
    "\n",
    "INFINITE = sys.maxsize  # una mala aproximación de infinito\n",
    "\n",
    "# Generic Types\n",
    "T = TypeVar(\"T\", covariant=True)\n",
    "Ord = TypeVar(\"Ord\", bound=int, covariant=True)\n",
    "\n",
    "\n",
    "class LazySequence(Iterator[T]):\n",
    "    \"\"\"\n",
    "    Secuencia perezosa creada a partir de un iterador\n",
    "    \"\"\"\n",
    "\n",
    "    def __init__(self, iterator: Iterator[T]):\n",
    "        self._cache: list[T] = []\n",
    "        self.iterator = iterator\n",
    "\n",
    "    @property\n",
    "    def last(self) -> Optional[T]:\n",
    "        return self._cache[-1] if self.size > 0 else None\n",
    "\n",
    "    @property\n",
    "    def size(self) -> int:\n",
    "        return len(self._cache)\n",
    "\n",
    "    def __next__(self) -> T:\n",
    "        x = next(self.iterator)\n",
    "        self._cache.append(x)\n",
    "        return x\n",
    "\n",
    "    def __iter__(self) -> Iterator[T]:\n",
    "        yield from self._cache\n",
    "        yield from (self[i] for i in range(len(self._cache), INFINITE))\n",
    "\n",
    "    def islice(self, start, stop=-1, step=1) -> Iterator[T]:\n",
    "        if stop == -1:\n",
    "            start, stop = 0, start\n",
    "        if stop is None:\n",
    "            stop = INFINITE\n",
    "        yield from (self[i] for i in range(start, stop, step))\n",
    "\n",
    "    @singledispatchmethod\n",
    "    def __getitem__(self, idx):\n",
    "        return NotImplemented\n",
    "\n",
    "    @__getitem__.register\n",
    "    def __getitem_int__(self, idx: int) -> T:\n",
    "        if idx < 0:\n",
    "            raise OverflowError\n",
    "        elif idx >= self.size:\n",
    "            self._cache.extend(islice(self.iterator, idx - self.size + 1))\n",
    "\n",
    "        return self._cache[idx]\n",
    "\n",
    "    @__getitem__.register\n",
    "    def __getitem_slice__(self, sl: slice) -> list[T]:\n",
    "        rng = range(INFINITE)[sl]\n",
    "        return [self[i] for i in rng]\n",
    "\n",
    "\n",
    "class LazySortedSequence(LazySequence[Ord]):\n",
    "    \"\"\"\n",
    "    Secuencia perezosa ordenada creada a partir de un iterador\n",
    "    \"\"\"\n",
    "\n",
    "    def insertpos(self, x: int) -> int:\n",
    "        \"\"\"\n",
    "        Posición donde insertar un elemento para mantener la lista ordenada\n",
    "        Obtiene los elementos necesarios hasta llegar a la posición\n",
    "        \"\"\"\n",
    "        if self.size > 0 and x <= self.last:\n",
    "            idx = bisect_left(self._cache, x)\n",
    "        else:\n",
    "            while x > next(self):\n",
    "                pass\n",
    "            idx = self.size - 1\n",
    "\n",
    "        return idx\n",
    "\n",
    "    def __contains__(self, x: int) -> bool:\n",
    "        idx = self.insertpos(x)\n",
    "        return x == self._cache[idx]\n",
    "\n",
    "    def index(self, x: int) -> int:\n",
    "        idx = self.insertpos(x)\n",
    "        if x == self._cache[idx]:\n",
    "            return idx\n",
    "        raise ValueError(f\"{x} is not in {self.__class__.__name__}\")\n"
   ]
  },
  {
   "cell_type": "markdown",
   "id": "gross-reason",
   "metadata": {},
   "source": [
    "### Primes"
   ]
  },
  {
   "cell_type": "code",
   "execution_count": 88,
   "id": "floral-floating",
   "metadata": {},
   "outputs": [],
   "source": [
    "from collections.abc import Iterator\n",
    "from itertools import islice\n",
    "from math import isqrt\n",
    "from typing import final\n",
    "\n",
    "\n",
    "Prime = int\n",
    "\n",
    "\n",
    "@final\n",
    "class Primes(LazySortedSequence[Prime]):\n",
    "    def __init__(self):\n",
    "        super().__init__(self.__genprimes())\n",
    "        self._cache.extend([2, 3])\n",
    "\n",
    "    def __genprimes(self) -> Iterator[Prime]:\n",
    "        _primes = self._cache\n",
    "        start = 5\n",
    "        top = 1\n",
    "        while True:\n",
    "            stop = _primes[top] ** 2\n",
    "            for n in range(start, stop, 2):\n",
    "                for p in islice(_primes, 1, top):\n",
    "                    if n % p == 0:\n",
    "                        break\n",
    "                else:\n",
    "                    yield n\n",
    "\n",
    "            start = stop + 2\n",
    "            top += 1\n",
    "\n",
    "    def __contains__(self, n: int) -> bool:\n",
    "\n",
    "        if n <= self.last:\n",
    "            return super().__contains__(n)\n",
    "\n",
    "        root = isqrt(n)\n",
    "        _primes = self._cache\n",
    "\n",
    "        top = self.size if root > self.last else self.insertpos(root)\n",
    "\n",
    "        if any(n % prime == 0 for prime in islice(_primes, 1, top)):\n",
    "            return False\n",
    "\n",
    "        # \"one-shot\" check\n",
    "        if any(n % i == 0 for i in range(self.last + 2, root + 1, 2)):\n",
    "            return False\n",
    "\n",
    "        return True\n",
    "\n",
    "\n",
    "primes = Primes()\n",
    "isprime = primes.__contains__\n"
   ]
  },
  {
   "cell_type": "markdown",
   "id": "unlike-expense",
   "metadata": {},
   "source": [
    "### Potencias de Fermi-Dirac"
   ]
  },
  {
   "cell_type": "markdown",
   "id": "divided-range",
   "metadata": {},
   "source": [
    "Se llaman **potencias de Fermi-Dirac** a los números de la forma $p^{2^k}$,\n",
    "donde p es un número primo y k es un número natural.\n",
    "\n",
    "Definir la sucesión\n",
    "\n",
    "```haskell\n",
    "potencias :: [Integer]\n",
    "```\n",
    "\n",
    "cuyos términos sean las potencias de Fermi-Dirac ordenadas de menor a mayor. Por\n",
    "ejemplo,\n",
    "\n",
    "```haskell\n",
    "take 14 potencias    ==  [2,3,4,5,7,9,11,13,16,17,19,23,25,29]\n",
    "potencias !! 60      ==  241\n",
    "potencias !! (10^6)  ==  15476303\n",
    "```"
   ]
  },
  {
   "cell_type": "code",
   "execution_count": 89,
   "id": "elect-benefit",
   "metadata": {},
   "outputs": [],
   "source": [
    "from collections.abc import Iterator\n",
    "from itertools import count\n",
    "from typing import TypeVar\n",
    "\n",
    "# Se vincula al tipo int, ya que no existe protocolo Ordered o Sortable\n",
    "Ord = TypeVar(\"Ord\", bound=int)\n",
    "\n",
    "SortedIterator = Iterator[Ord]\n",
    "\n",
    "\n",
    "def join(s1: SortedIterator, s2: SortedIterator) -> SortedIterator:\n",
    "    x = next(s1)\n",
    "    y = next(s2)\n",
    "    while True:\n",
    "        if x <= y:\n",
    "            yield x\n",
    "            x = next(s1)\n",
    "        else:\n",
    "            yield y\n",
    "            y = next(s2)\n",
    "\n",
    "\n",
    "def flat(it: Iterator[SortedIterator]) -> SortedIterator:\n",
    "    s1 = next(it)\n",
    "    yield next(s1)\n",
    "    yield from join(s1, flat(it))\n",
    "\n",
    "\n",
    "def mkiter(k):\n",
    "    yield from (p ** 2 ** k for p in primes)\n",
    "\n",
    "\n",
    "potencias = LazySortedSequence(flat(mkiter(k) for k in count()))\n"
   ]
  }
 ],
 "metadata": {
  "authors": [
   "Chema Cortés"
  ],
  "description": "Serie de artículos sobre la implementación en python de secuencias con evaluación perezosa.",
  "jupytext": {
   "formats": "ipynb,md",
   "notebook_metadata_filter": "authors,title,description,toc",
   "split_at_heading": true
  },
  "kernelspec": {
   "display_name": "Python 3",
   "language": "python",
   "name": "python3"
  },
  "language_info": {
   "codemirror_mode": {
    "name": "ipython",
    "version": 3
   },
   "file_extension": ".py",
   "mimetype": "text/x-python",
   "name": "python",
   "nbconvert_exporter": "python",
   "pygments_lexer": "ipython3",
   "version": "3.9.1"
  },
  "title": "Evaluación Perezosa en python",
  "toc": {
   "base_numbering": 1,
   "nav_menu": {},
   "number_sections": true,
   "sideBar": true,
   "skip_h1_title": false,
   "title_cell": "Tabla de Contenidos",
   "title_sidebar": "Contenidos",
   "toc_cell": false,
   "toc_position": {
    "height": "calc(100% - 180px)",
    "left": "10px",
    "top": "150px",
    "width": "336px"
   },
   "toc_section_display": true,
   "toc_window_display": true
  },
  "varInspector": {
   "cols": {
    "lenName": 16,
    "lenType": 16,
    "lenVar": 40
   },
   "kernels_config": {
    "python": {
     "delete_cmd_postfix": "",
     "delete_cmd_prefix": "del ",
     "library": "var_list.py",
     "varRefreshCmd": "print(var_dic_list())"
    },
    "r": {
     "delete_cmd_postfix": ") ",
     "delete_cmd_prefix": "rm(",
     "library": "var_list.r",
     "varRefreshCmd": "cat(var_dic_list()) "
    }
   },
   "types_to_exclude": [
    "module",
    "function",
    "builtin_function_or_method",
    "instance",
    "_Feature"
   ],
   "window_display": false
  }
 },
 "nbformat": 4,
 "nbformat_minor": 5
}
