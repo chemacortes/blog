{
 "metadata": {
  "language_info": {
   "codemirror_mode": {
    "name": "ipython",
    "version": 3
   },
   "file_extension": ".py",
   "mimetype": "text/x-python",
   "name": "python",
   "nbconvert_exporter": "python",
   "pygments_lexer": "ipython3",
   "version": "3.9.1-final"
  },
  "orig_nbformat": 2,
  "kernelspec": {
   "name": "python3",
   "display_name": "Python 3",
   "language": "python"
  }
 },
 "nbformat": 4,
 "nbformat_minor": 2,
 "cells": [
  {
   "source": [
    "# Evaluación Perezosa en python\n",
    "\n",
    "Author: Chema Cortés (c) 2021"
   ],
   "cell_type": "markdown",
   "metadata": {}
  },
  {
   "source": [
    "## Introducción a la _Evaluación Perezosa_\n",
    "\n",
    "Podemos definir _\"Evaluación Perezosa\"_ como aquella evaluación que realiza los\n",
    "mínimos cálculos imprecindibles para obtener el resultado final.\n",
    "\n",
    "La evaluación perezosa es una de las característica del languaje haskell, aunque\n",
    "vamos a ver que también se puede hacer en otros lenguajes como python.\n",
    "\n",
    "Por ejemplo, imaginemos que queremos obtener todos los número cuadrados menores\n",
    "de 100:"
   ],
   "cell_type": "markdown",
   "metadata": {}
  },
  {
   "cell_type": "code",
   "execution_count": 2,
   "metadata": {},
   "outputs": [],
   "source": [
    "cuadrados = [x**2 for x in range(1, 100)]\n",
    "resultado = [y for y in cuadrados if y < 100]"
   ]
  },
  {
   "source": [
    "Para obtener el `resultado`, antes hemos calculado la lista completa\n",
    "`cuadrados`, a pesar de que sólo necesitábamos unos 10 elementos.\n",
    "\n",
    "Una posible mejora sería usar una expresión generadora:"
   ],
   "cell_type": "markdown",
   "metadata": {}
  },
  {
   "cell_type": "code",
   "execution_count": 3,
   "metadata": {},
   "outputs": [],
   "source": [
    "cuadrados = (x**2 for x in range(1, 100))\n",
    "resultado = [y for y in cuadrados if y < 100]"
   ]
  },
  {
   "source": [
    "Aquí los elementos de la lista `cuadrados` se calculan a medida que son\n",
    "necesarios, sin gastar memoria para almacenar la secuencia a medida que se\n",
    "obtiene, algo que pasaba con el ejemplo anterior. Aún así, se vuelven a calcular\n",
    "los 100 cuadrados, ya que no se corta la iteración en ningún momento.\n",
    "Necesitamos un modo de limitarnos únicamente a los elementos que vamos a\n",
    "utilizar.\n",
    "\n",
    "Para quedarnos sólo con los primeros elementos vamos a usar la función\n",
    "`itertools.takewhile`:"
   ],
   "cell_type": "markdown",
   "metadata": {}
  },
  {
   "cell_type": "code",
   "execution_count": 4,
   "metadata": {},
   "outputs": [],
   "source": [
    "from itertools import takewhile\n",
    "\n",
    "cuadrados = (x**2 for x in range(1, 100))\n",
    "resultado = list(takewhile(lambda y: y<100, cuadrados))"
   ]
  },
  {
   "source": [
    "En este caso, obtenemos únicamente los cuadrados necesarios, lo que supone un\n",
    "importante ahorro de tiempo de cálculo.\n",
    "\n",
    "Si no se tiene cuidado, es muy fácil hacer más cálculos de la cuenta, e incluso\n",
    "acabar en bucles infinitos o agotando los recursos de la máquina. Como veremos\n",
    "en esta serie de artículos, en python se puede tener evaluación perezosa usando\n",
    "correctamente iteradores y generadores.\n",
    "\n"
   ],
   "cell_type": "markdown",
   "metadata": {}
  },
  {
   "source": [
    "## Tipo Range\n",
    "\n",
    "Veamos el siguiente código:"
   ],
   "cell_type": "markdown",
   "metadata": {}
  },
  {
   "cell_type": "code",
   "execution_count": 5,
   "metadata": {},
   "outputs": [
    {
     "output_type": "execute_result",
     "data": {
      "text/plain": [
       "32"
      ]
     },
     "metadata": {},
     "execution_count": 5
    }
   ],
   "source": [
    "r = range(2,100,3)\n",
    "r[10]"
   ]
  },
  {
   "source": [
    "Normalmente, se usa la función `range` para crear bucles sin tener en cuenta que\n",
    "realmente es un constructor de objetos de tipo `Range`. Estos objetos responden\n",
    "a los mismos métodos que una lista, permitiendo obtener un elemento de cualquier\n",
    "posición de la secuencia sin necesidad de generar la secuencia completa. También\n",
    "se pueden hacer otras operaciones habituales con listas:"
   ],
   "cell_type": "markdown",
   "metadata": {}
  },
  {
   "cell_type": "code",
   "execution_count": 6,
   "metadata": {},
   "outputs": [
    {
     "output_type": "execute_result",
     "data": {
      "text/plain": [
       "33"
      ]
     },
     "metadata": {},
     "execution_count": 6
    }
   ],
   "source": [
    "# obtener el tamaño\n",
    "len(r)"
   ]
  },
  {
   "cell_type": "code",
   "execution_count": 7,
   "metadata": {},
   "outputs": [
    {
     "output_type": "execute_result",
     "data": {
      "text/plain": [
       "range(62, 92, 3)"
      ]
     },
     "metadata": {},
     "execution_count": 7
    }
   ],
   "source": [
    "# obtener un rango\n",
    "r[20:30]"
   ]
  },
  {
   "cell_type": "code",
   "execution_count": 8,
   "metadata": {},
   "outputs": [
    {
     "output_type": "execute_result",
     "data": {
      "text/plain": [
       "range(92, 62, -3)"
      ]
     },
     "metadata": {},
     "execution_count": 8
    }
   ],
   "source": [
    "# obtener un rango inverso\n",
    "r[30:20:-1]"
   ]
  },
  {
   "cell_type": "code",
   "execution_count": 9,
   "metadata": {},
   "outputs": [
    {
     "output_type": "execute_result",
     "data": {
      "text/plain": [
       "range(98, -1, -3)"
      ]
     },
     "metadata": {},
     "execution_count": 9
    }
   ],
   "source": [
    "# la misma secuencia invertida\n",
    "r[::-1]"
   ]
  },
  {
   "cell_type": "code",
   "execution_count": 10,
   "metadata": {},
   "outputs": [
    {
     "output_type": "execute_result",
     "data": {
      "text/plain": [
       "range(62, 92, -3)"
      ]
     },
     "metadata": {},
     "execution_count": 10
    }
   ],
   "source": [
    "# umm, secuencia vacía???\n",
    "r[20:30:-1]"
   ]
  },
  {
   "cell_type": "code",
   "execution_count": 11,
   "metadata": {},
   "outputs": [
    {
     "output_type": "execute_result",
     "data": {
      "text/plain": [
       "range(2, 101, 6)"
      ]
     },
     "metadata": {},
     "execution_count": 11
    }
   ],
   "source": [
    "# una nueva secuencia con distinto paso\n",
    "r[::2]"
   ]
  },
  {
   "source": [
    "Como vemos, de algún modo calcula los nuevos rangos y los pasos según\n",
    "necesitemos. Es suficientemente inteligente para cambiar el elemento final por\n",
    "otro que considere más apropiado.\n",
    "\n",
    "Digamos que un objeto de tipo `Range` conoce cómo operar con secuencias\n",
    "aritméticas, pudiendo obtener un elemento cualquiera de la secuencia sin tener\n",
    "que calcular el resto."
   ],
   "cell_type": "markdown",
   "metadata": {}
  },
  {
   "source": [
    "## Secuencias con elemento genérico conocido\n",
    "\n",
    "Probemos a crear algo similar a `Range` para la secuencia de cuadrados. Derivará\n",
    "de la clase abstracta `Sequence`, por lo que tenemos que definir, por lo menos,\n",
    "los métodos `__len__` y  `_getitem__`. Nos apoyaremos en un objeto _range_ para\n",
    "esta labor (patrón _Delegate_):"
   ],
   "cell_type": "markdown",
   "metadata": {}
  },
  {
   "cell_type": "code",
   "execution_count": 12,
   "metadata": {},
   "outputs": [],
   "source": [
    "from collections.abc import Sequence\n",
    "from typing import Union\n",
    "\n",
    "\n",
    "class SquaresRange(Sequence):\n",
    "    def __init__(self, start=0, stop=None, step=1) -> None:\n",
    "        if stop is None:\n",
    "            start, stop = 0, start\n",
    "        self._range = range(start, stop, step)\n",
    "\n",
    "    @staticmethod\n",
    "    def from_range(range: range) -> \"SquaresRange\":\n",
    "        \"\"\"\n",
    "        Constructor de SquaresRange a partir de un rango\n",
    "        \"\"\"\n",
    "        instance = SquaresRange()\n",
    "        instance._range = range\n",
    "        return instance\n",
    "\n",
    "    def __len__(self) -> int:\n",
    "        return len(self._range)\n",
    "\n",
    "    def __getitem__(self, idx) -> Union[int, \"SquaresRange\"]:\n",
    "        i = self._range[idx]\n",
    "        return i ** 2 if isinstance(i, int) else SquaresRange.from_range(i)\n",
    "\n",
    "    def __repr__(self) -> str:\n",
    "        r = self._range\n",
    "        return f\"SquaresRange({r.start}, {r.stop}, {r.step})\""
   ]
  },
  {
   "source": [
    "Podemos probar su funcionamiento:"
   ],
   "cell_type": "markdown",
   "metadata": {}
  },
  {
   "cell_type": "code",
   "execution_count": 13,
   "metadata": {},
   "outputs": [
    {
     "output_type": "stream",
     "name": "stdout",
     "text": [
      "100\n49\n16\n1\n"
     ]
    }
   ],
   "source": [
    "for i in SquaresRange(-10, 1, 3):\n",
    "    print(i)"
   ]
  },
  {
   "cell_type": "code",
   "execution_count": 14,
   "metadata": {},
   "outputs": [
    {
     "output_type": "execute_result",
     "data": {
      "text/plain": [
       "[1, 49, 225, 529, 961, 1521, 2209]"
      ]
     },
     "metadata": {},
     "execution_count": 14
    }
   ],
   "source": [
    "list(SquaresRange(-1, 50, 4)[:30:2])"
   ]
  },
  {
   "cell_type": "code",
   "execution_count": 15,
   "metadata": {},
   "outputs": [
    {
     "output_type": "execute_result",
     "data": {
      "text/plain": [
       "SquaresRange(99, -1, -1)"
      ]
     },
     "metadata": {},
     "execution_count": 15
    }
   ],
   "source": [
    "SquaresRange(100)[::-1]"
   ]
  },
  {
   "source": [
    "Hay que tener en cuenta que, a diferencia de un iterador, este rango no se\n",
    "_\"agota\"_ por lo que se puede usar repetidas veces sin ningún problema.\n",
    "\n",
    "Siguiendo más allá, podemos generalizar esta secuencia para se usar cualquier\n",
    "función. Creamos la siguiente _clase abstracta_:"
   ],
   "cell_type": "markdown",
   "metadata": {}
  },
  {
   "cell_type": "code",
   "execution_count": 17,
   "metadata": {},
   "outputs": [],
   "source": [
    "from abc import abstractmethod\n",
    "from collections.abc import Sequence\n",
    "from typing import Type, Union\n",
    "\n",
    "\n",
    "class GenericRange(Sequence):\n",
    "    def __init__(self, start=0, stop=None, step=1) -> None:\n",
    "        if stop is None:\n",
    "            start, stop = 0, start\n",
    "        self._range = range(start, stop, step)\n",
    "\n",
    "    @abstractmethod\n",
    "    def getitem(self, pos: int) -> int:\n",
    "        \"\"\"\n",
    "        Método abstracto.\n",
    "          Función para calcular un elemento a partir de la posición\n",
    "        \"\"\"\n",
    "        return pos\n",
    "\n",
    "    @classmethod\n",
    "    def from_range(cls: Type[\"GenericRange\"], range: range) -> \"GenericRange\":\n",
    "        \"\"\"\n",
    "        Constructor de un GenericRange a partir de un rango\n",
    "        \"\"\"\n",
    "        instance = cls()\n",
    "        instance._range = range\n",
    "        return instance\n",
    "\n",
    "    def __len__(self) -> int:\n",
    "        return len(self._range)\n",
    "\n",
    "    def __getitem__(self, idx) -> Union[int, \"GenericRange\"]:\n",
    "        i = self._range[idx]\n",
    "        return self.getitem(i) if isinstance(i, int) else self.from_range(i)\n",
    "\n",
    "    def __repr__(self) -> str:\n",
    "        classname = self.__class__.__name__\n",
    "        r = self._range\n",
    "        return f\"{classname}({r.start}, {r.stop}, {r.step})\""
   ]
  },
  {
   "source": [
    "Con esta clase abstracta creamos dos clases concretas, definiendo el método\n",
    "abstracto `.call()` con la función genérica:"
   ],
   "cell_type": "markdown",
   "metadata": {}
  },
  {
   "cell_type": "code",
   "execution_count": 18,
   "metadata": {},
   "outputs": [],
   "source": [
    "class SquaresRange(GenericRange):\n",
    "    def getitem(self, i):\n",
    "        return i ** 2\n",
    "\n",
    "class CubicsRange(GenericRange):\n",
    "    def getitem(self, i):\n",
    "        return i ** 3"
   ]
  },
  {
   "source": [
    "Que podemos emplear de este modo:"
   ],
   "cell_type": "markdown",
   "metadata": {}
  },
  {
   "cell_type": "code",
   "execution_count": 19,
   "metadata": {},
   "outputs": [
    {
     "output_type": "stream",
     "name": "stdout",
     "text": [
      "100\n49\n16\n1\n"
     ]
    }
   ],
   "source": [
    "for i in SquaresRange(-10, 1, 3):\n",
    "    print(i)"
   ]
  },
  {
   "cell_type": "code",
   "execution_count": 20,
   "metadata": {},
   "outputs": [
    {
     "output_type": "stream",
     "name": "stdout",
     "text": [
      "-1000\n-343\n-64\n-1\n"
     ]
    }
   ],
   "source": [
    "for i in CubicsRange(-10, 1, 3):\n",
    "    print(i)"
   ]
  },
  {
   "cell_type": "code",
   "execution_count": 21,
   "metadata": {},
   "outputs": [
    {
     "output_type": "execute_result",
     "data": {
      "text/plain": [
       "[-1, 343, 3375, 12167, 29791, 59319, 103823]"
      ]
     },
     "metadata": {},
     "execution_count": 21
    }
   ],
   "source": [
    "list(CubicsRange(-1, 50, 4)[:30:2])"
   ]
  },
  {
   "cell_type": "code",
   "execution_count": 22,
   "metadata": {},
   "outputs": [
    {
     "output_type": "execute_result",
     "data": {
      "text/plain": [
       "SquaresRange(99, -1, -1)"
      ]
     },
     "metadata": {},
     "execution_count": 22
    }
   ],
   "source": [
    "SquaresRange(100)[::-1]"
   ]
  },
  {
   "source": [
    "## Resumen\n",
    "\n",
    "La _Evaluación Perezosa_ realiza únicamente aquellos cálculos que son necesarios\n",
    "para obtener el resultado final, evitando así malgastar tiempo y recursos en\n",
    "resultados intermedios que no se van a usar.\n",
    "\n",
    "El tipo _Range_ es algo más que una facilidad para realizar iteraciones. A\n",
    "partir de un objeto _range_ se pueden crear nuevos rangos sin necesidad de\n",
    "generar ningún elementos de la secuencia.\n",
    "\n",
    "Si conocemos el modo de obtener cualquier elemento de una secuencia a partir de\n",
    "su posición, entonces podemos crear secuencias para operar con ellas igual que\n",
    "haríamos con un _rango_, sin necesidad de generar sus elementos.\n",
    "\n",
    "En el próximo artículo veremos cómo podemos ir más lejos para crear y trabajar\n",
    "con _secuencias infinitas_ de elementos."
   ],
   "cell_type": "markdown",
   "metadata": {}
  }
 ]
}