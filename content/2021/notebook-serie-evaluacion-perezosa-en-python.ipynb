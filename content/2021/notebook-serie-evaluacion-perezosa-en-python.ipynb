{
 "metadata": {
  "language_info": {
   "codemirror_mode": {
    "name": "ipython",
    "version": 3
   },
   "file_extension": ".py",
   "mimetype": "text/x-python",
   "name": "python",
   "nbconvert_exporter": "python",
   "pygments_lexer": "ipython3",
   "version": "3.9.1-final"
  },
  "orig_nbformat": 2,
  "kernelspec": {
   "name": "python3",
   "display_name": "Python 3",
   "language": "python"
  }
 },
 "nbformat": 4,
 "nbformat_minor": 2,
 "cells": [
  {
   "source": [
    "# Evaluación Perezosa en python\n",
    "\n",
    "Author: Chema Cortés (c) 2021"
   ],
   "cell_type": "markdown",
   "metadata": {}
  },
  {
   "source": [
    "## Introducción a la _Evaluación Perezosa_\n",
    "\n",
    "Podemos definir _\"Evaluación Perezosa\"_ como aquella evaluación que realiza los\n",
    "mínimos cálculos imprecindibles para obtener el resultado final.\n",
    "\n",
    "La evaluación perezosa es una de las característica del languaje haskell, aunque\n",
    "vamos a ver que también se puede hacer en otros lenguajes como python.\n",
    "\n",
    "Por ejemplo, imaginemos que queremos obtener todos los número cuadrados menores\n",
    "de 100:"
   ],
   "cell_type": "markdown",
   "metadata": {}
  },
  {
   "cell_type": "code",
   "execution_count": 11,
   "metadata": {},
   "outputs": [],
   "source": [
    "cuadrados = [x**2 for x in range(1, 100)]\n",
    "resultado = [y for y in cuadrados if y < 100]"
   ]
  },
  {
   "source": [
    "Para obtener el `resultado`, antes hemos calculado la lista completa\n",
    "`cuadrados`, a pesar de que sólo necesitábamos unos 10 elementos.\n",
    "\n",
    "Una posible mejora sería usar una expresión generadora:"
   ],
   "cell_type": "markdown",
   "metadata": {}
  },
  {
   "cell_type": "code",
   "execution_count": 12,
   "metadata": {},
   "outputs": [],
   "source": [
    "cuadrados = (x**2 for x in range(1, 100))\n",
    "resultado = [y for y in cuadrados if y < 100]"
   ]
  },
  {
   "source": [
    "Aquí los elementos de la lista `cuadrados` se calculan a medida que son\n",
    "necesarios, sin gastar memoria para almacenar la secuencia a medida que se\n",
    "obtiene, algo que pasaba con el ejemplo anterior. Aún así, se vuelven a calcular\n",
    "los 100 cuadrados, ya que no se corta la iteración en ningún momento.\n",
    "Necesitamos un modo de limitarnos únicamente a los elementos que vamos a\n",
    "utilizar.\n",
    "\n",
    "Para quedarnos sólo con los primeros elementos vamos a usar la función\n",
    "`itertools.takewhile`:"
   ],
   "cell_type": "markdown",
   "metadata": {}
  },
  {
   "cell_type": "code",
   "execution_count": 13,
   "metadata": {},
   "outputs": [],
   "source": [
    "from itertools import takewhile\n",
    "\n",
    "cuadrados = (x**2 for x in range(1, 100))\n",
    "resultado = list(takewhile(lambda y: y<100, cuadrados))"
   ]
  },
  {
   "source": [
    "En este caso, obtenemos únicamente los cuadrados necesarios, lo que supone un\n",
    "importante ahorro de tiempo de cálculo.\n",
    "\n",
    "Si no se tiene cuidado, es muy fácil hacer más cálculos de la cuenta, e incluso\n",
    "acabar en bucles infinitos o agotando los recursos de la máquina. Como veremos\n",
    "en esta serie de artículos, en python se puede tener evaluación perezosa usando\n",
    "correctamente iteradores y generadores.\n",
    "\n"
   ],
   "cell_type": "markdown",
   "metadata": {}
  },
  {
   "source": [
    "## Tipo Range\n",
    "\n",
    "Veamos el siguiente código:"
   ],
   "cell_type": "markdown",
   "metadata": {}
  },
  {
   "cell_type": "code",
   "execution_count": 14,
   "metadata": {},
   "outputs": [
    {
     "output_type": "execute_result",
     "data": {
      "text/plain": [
       "32"
      ]
     },
     "metadata": {},
     "execution_count": 14
    }
   ],
   "source": [
    "r = range(2,100,3)\n",
    "r[10]"
   ]
  },
  {
   "source": [
    "Normalmente, se usa la función `range` para crear bucles sin tener en cuenta que\n",
    "realmente es un constructor de objetos de tipo `Range`. Estos objetos responden\n",
    "a los mismos métodos que una lista, permitiendo obtener un elemento de cualquier\n",
    "posición de la secuencia sin necesidad de generar la secuencia completa. También\n",
    "se pueden hacer otras operaciones habituales con listas:"
   ],
   "cell_type": "markdown",
   "metadata": {}
  },
  {
   "cell_type": "code",
   "execution_count": 15,
   "metadata": {},
   "outputs": [
    {
     "output_type": "execute_result",
     "data": {
      "text/plain": [
       "33"
      ]
     },
     "metadata": {},
     "execution_count": 15
    }
   ],
   "source": [
    "# obtener el tamaño\n",
    "len(r)"
   ]
  },
  {
   "cell_type": "code",
   "execution_count": 16,
   "metadata": {},
   "outputs": [
    {
     "output_type": "execute_result",
     "data": {
      "text/plain": [
       "range(62, 92, 3)"
      ]
     },
     "metadata": {},
     "execution_count": 16
    }
   ],
   "source": [
    "# obtener un rango\n",
    "r[20:30]"
   ]
  },
  {
   "cell_type": "code",
   "execution_count": 17,
   "metadata": {},
   "outputs": [
    {
     "output_type": "execute_result",
     "data": {
      "text/plain": [
       "range(92, 62, -3)"
      ]
     },
     "metadata": {},
     "execution_count": 17
    }
   ],
   "source": [
    "# obtener un rango inverso\n",
    "r[30:20:-1]"
   ]
  },
  {
   "cell_type": "code",
   "execution_count": 18,
   "metadata": {},
   "outputs": [
    {
     "output_type": "execute_result",
     "data": {
      "text/plain": [
       "range(98, -1, -3)"
      ]
     },
     "metadata": {},
     "execution_count": 18
    }
   ],
   "source": [
    "# la misma secuencia invertida\n",
    "r[::-1]"
   ]
  },
  {
   "cell_type": "code",
   "execution_count": 19,
   "metadata": {},
   "outputs": [
    {
     "output_type": "execute_result",
     "data": {
      "text/plain": [
       "range(62, 92, -3)"
      ]
     },
     "metadata": {},
     "execution_count": 19
    }
   ],
   "source": [
    "# umm, secuencia vacía???\n",
    "r[20:30:-1]"
   ]
  },
  {
   "cell_type": "code",
   "execution_count": 20,
   "metadata": {},
   "outputs": [
    {
     "output_type": "execute_result",
     "data": {
      "text/plain": [
       "range(2, 101, 6)"
      ]
     },
     "metadata": {},
     "execution_count": 20
    }
   ],
   "source": [
    "# una nueva secuencia con distinto paso\n",
    "r[::2]"
   ]
  },
  {
   "cell_type": "code",
   "execution_count": 21,
   "metadata": {},
   "outputs": [
    {
     "output_type": "execute_result",
     "data": {
      "text/plain": [
       "False"
      ]
     },
     "metadata": {},
     "execution_count": 21
    }
   ],
   "source": [
    "# comprobar si contiene un elemento\n",
    "3 in r"
   ]
  },
  {
   "cell_type": "code",
   "execution_count": 22,
   "metadata": {},
   "outputs": [
    {
     "output_type": "execute_result",
     "data": {
      "text/plain": [
       "21"
      ]
     },
     "metadata": {},
     "execution_count": 22
    }
   ],
   "source": [
    "# buscar la posición de un elemento\n",
    "r.index(65)"
   ]
  },
  {
   "source": [
    "Como vemos, de algún modo calcula los nuevos rangos y los pasos según\n",
    "necesitemos. Es suficientemente inteligente para cambiar el elemento final por\n",
    "otro que considere más apropiado.\n",
    "\n",
    "Digamos que un objeto de tipo `Range` conoce cómo operar con secuencias\n",
    "aritméticas, pudiendo obtener un elemento cualquiera de la secuencia sin tener\n",
    "que calcular el resto."
   ],
   "cell_type": "markdown",
   "metadata": {}
  },
  {
   "source": [
    "## Secuencias con elemento genérico conocido\n",
    "\n",
    "Probemos a crear algo similar a `Range` para la secuencia de cuadrados. Derivará\n",
    "de la clase abstracta `Sequence`, por lo que tenemos que definir, por lo menos,\n",
    "los métodos `__len__` y  `_getitem__`. Nos apoyaremos en un objeto _range_ para\n",
    "esta labor (patrón _Delegate_):"
   ],
   "cell_type": "markdown",
   "metadata": {}
  },
  {
   "cell_type": "code",
   "execution_count": 23,
   "metadata": {},
   "outputs": [],
   "source": [
    "from collections.abc import Sequence\n",
    "from typing import Union\n",
    "\n",
    "\n",
    "class SquaresRange(Sequence):\n",
    "    def __init__(self, start=0, stop=None, step=1) -> None:\n",
    "        if stop is None:\n",
    "            start, stop = 0, start\n",
    "        self._range = range(start, stop, step)\n",
    "\n",
    "    @staticmethod\n",
    "    def from_range(rng: range) -> \"SquaresRange\":\n",
    "        \"\"\"\n",
    "        Constructor de SquaresRange a partir de un rango\n",
    "        \"\"\"\n",
    "        instance = SquaresRange()\n",
    "        instance._range = rng\n",
    "        return instance\n",
    "\n",
    "    def __len__(self) -> int:\n",
    "        return len(self._range)\n",
    "\n",
    "    def __getitem__(self, idx: Union[int, slice]) -> Union[int, \"SquaresRange\"]:\n",
    "        i = self._range[idx]\n",
    "        return i ** 2 if isinstance(i, int) else SquaresRange.from_range(i)\n",
    "\n",
    "    def __repr__(self) -> str:\n",
    "        r = self._range\n",
    "        return f\"SquaresRange({r.start}, {r.stop}, {r.step})\""
   ]
  },
  {
   "source": [
    "Podemos probar su funcionamiento:"
   ],
   "cell_type": "markdown",
   "metadata": {}
  },
  {
   "cell_type": "code",
   "execution_count": 24,
   "metadata": {},
   "outputs": [
    {
     "output_type": "stream",
     "name": "stdout",
     "text": [
      "100\n49\n16\n1\n"
     ]
    }
   ],
   "source": [
    "for i in SquaresRange(-10, 1, 3):\n",
    "    print(i)"
   ]
  },
  {
   "cell_type": "code",
   "execution_count": 25,
   "metadata": {},
   "outputs": [
    {
     "output_type": "execute_result",
     "data": {
      "text/plain": [
       "[1, 49, 225, 529, 961, 1521, 2209]"
      ]
     },
     "metadata": {},
     "execution_count": 25
    }
   ],
   "source": [
    "list(SquaresRange(-1, 50, 4)[:30:2])"
   ]
  },
  {
   "cell_type": "code",
   "execution_count": 26,
   "metadata": {},
   "outputs": [
    {
     "output_type": "execute_result",
     "data": {
      "text/plain": [
       "SquaresRange(99, -1, -1)"
      ]
     },
     "metadata": {},
     "execution_count": 26
    }
   ],
   "source": [
    "SquaresRange(100)[::-1]"
   ]
  },
  {
   "cell_type": "code",
   "execution_count": 27,
   "metadata": {},
   "outputs": [
    {
     "output_type": "execute_result",
     "data": {
      "text/plain": [
       "True"
      ]
     },
     "metadata": {},
     "execution_count": 27
    }
   ],
   "source": [
    "16 in SquaresRange(-10, 1, 3)"
   ]
  },
  {
   "source": [
    "Hay que tener en cuenta que, a diferencia de un iterador, este rango no se\n",
    "_\"agota\"_ por lo que se puede usar repetidas veces sin ningún problema.\n",
    "\n",
    "Siguiendo más allá, podemos generalizar esta secuencia para se usar cualquier\n",
    "función. Creamos la siguiente _clase abstracta_:"
   ],
   "cell_type": "markdown",
   "metadata": {}
  },
  {
   "cell_type": "code",
   "execution_count": 28,
   "metadata": {},
   "outputs": [],
   "source": [
    "from abc import abstractmethod\n",
    "from collections.abc import Sequence\n",
    "from typing import Type, Union\n",
    "\n",
    "\n",
    "class GenericRange(Sequence):\n",
    "    def __init__(self, start=0, stop=None, step=1) -> None:\n",
    "        if stop is None:\n",
    "            start, stop = 0, start\n",
    "        self._range = range(start, stop, step)\n",
    "\n",
    "    @abstractmethod\n",
    "    def getitem(self, pos: int) -> int:\n",
    "        \"\"\"\n",
    "        Método abstracto.\n",
    "          Función para calcular un elemento a partir de la posición\n",
    "        \"\"\"\n",
    "        return pos\n",
    "\n",
    "    @classmethod\n",
    "    def from_range(cls: Type[\"GenericRange\"], rng: range) -> \"GenericRange\":\n",
    "        \"\"\"\n",
    "        Constructor de un GenericRange a partir de un rango\n",
    "        \"\"\"\n",
    "        instance = cls()\n",
    "        instance._range = rng\n",
    "        return instance\n",
    "\n",
    "    def __len__(self) -> int:\n",
    "        return len(self._range)\n",
    "\n",
    "    def __getitem__(self, idx: Union[int, slice]) -> Union[int, \"GenericRange\"]:\n",
    "        i = self._range[idx]\n",
    "        return self.getitem(i) if isinstance(i, int) else self.from_range(i)\n",
    "\n",
    "    def __repr__(self) -> str:\n",
    "        classname = self.__class__.__name__\n",
    "        r = self._range\n",
    "        return f\"{classname}({r.start}, {r.stop}, {r.step})\""
   ]
  },
  {
   "source": [
    "Con esta clase abstracta creamos dos clases concretas, definiendo el método\n",
    "abstracto `.getitem()` con la función genérica:"
   ],
   "cell_type": "markdown",
   "metadata": {}
  },
  {
   "cell_type": "code",
   "execution_count": 29,
   "metadata": {},
   "outputs": [],
   "source": [
    "class SquaresRange(GenericRange):\n",
    "    def getitem(self, i):\n",
    "        return i ** 2\n",
    "\n",
    "class CubicsRange(GenericRange):\n",
    "    def getitem(self, i):\n",
    "        return i ** 3"
   ]
  },
  {
   "source": [
    "Que podemos emplear de este modo:"
   ],
   "cell_type": "markdown",
   "metadata": {}
  },
  {
   "cell_type": "code",
   "execution_count": 30,
   "metadata": {},
   "outputs": [
    {
     "output_type": "stream",
     "name": "stdout",
     "text": [
      "100\n49\n16\n1\n"
     ]
    }
   ],
   "source": [
    "for i in SquaresRange(-10, 1, 3):\n",
    "    print(i)"
   ]
  },
  {
   "cell_type": "code",
   "execution_count": 31,
   "metadata": {},
   "outputs": [
    {
     "output_type": "stream",
     "name": "stdout",
     "text": [
      "-1000\n-343\n-64\n-1\n"
     ]
    }
   ],
   "source": [
    "for i in CubicsRange(-10, 1, 3):\n",
    "    print(i)"
   ]
  },
  {
   "cell_type": "code",
   "execution_count": 32,
   "metadata": {},
   "outputs": [
    {
     "output_type": "execute_result",
     "data": {
      "text/plain": [
       "[-1, 343, 3375, 12167, 29791, 59319, 103823]"
      ]
     },
     "metadata": {},
     "execution_count": 32
    }
   ],
   "source": [
    "list(CubicsRange(-1, 50, 4)[:30:2])"
   ]
  },
  {
   "cell_type": "code",
   "execution_count": 33,
   "metadata": {},
   "outputs": [
    {
     "output_type": "execute_result",
     "data": {
      "text/plain": [
       "SquaresRange(99, -1, -1)"
      ]
     },
     "metadata": {},
     "execution_count": 33
    }
   ],
   "source": [
    "SquaresRange(100)[::-1]"
   ]
  },
  {
   "cell_type": "code",
   "execution_count": 34,
   "metadata": {},
   "outputs": [
    {
     "output_type": "execute_result",
     "data": {
      "text/plain": [
       "9"
      ]
     },
     "metadata": {},
     "execution_count": 34
    }
   ],
   "source": [
    "SquaresRange(100).index(81)"
   ]
  },
  {
   "source": [
    "## Resumen\n",
    "\n",
    "La _Evaluación Perezosa_ realiza únicamente aquellos cálculos que son necesarios\n",
    "para obtener el resultado final, evitando así malgastar tiempo y recursos en\n",
    "resultados intermedios que no se van a usar.\n",
    "\n",
    "El tipo _Range_ es algo más que una facilidad para realizar iteraciones. A\n",
    "partir de un objeto _range_ se pueden crear nuevos rangos sin necesidad de\n",
    "generar ningún elementos de la secuencia.\n",
    "\n",
    "Si conocemos el modo de obtener cualquier elemento de una secuencia a partir de\n",
    "su posición, entonces podemos crear secuencias para operar con ellas igual que\n",
    "haríamos con un _rango_, sin necesidad de generar sus elementos.\n",
    "\n",
    "En el próximo artículo veremos cómo podemos ir más lejos para crear y trabajar\n",
    "con _secuencias infinitas_ de elementos."
   ],
   "cell_type": "markdown",
   "metadata": {}
  },
  {
   "source": [
    "## Algunas definiciones\n",
    "\n",
    "Puede ser interesante dejar claras algunas definiciones para distinguir entre\n",
    "iteradores e iterables (se pueden ver las definiciones completas en el\n",
    "[glosario][] de python):\n",
    "\n",
    "**Iterable**\n",
    ": cualquier objeto capaz de devolver sus miembros de uno en uno\n",
    "\n",
    "**Iterador**\n",
    ": _iterable_ que representa un flujo de datos, cuyos elementos se\n",
    ": obtienen uno detrás de otro\n",
    "\n",
    "**Secuencia**\n",
    ": _iterable_ con acceso eficiente a sus elementos mediante un índice entero\n",
    "\n",
    "**Generador**\n",
    ": función que devuelve un _iterador_\n",
    "\n",
    "**Expresión generadora**\n",
    ": expresión que devuelve un _iterador_\n",
    "\n",
    "Lo importante a tener en cuenta es que tenemos dos grandes _grupos de\n",
    "iterables_: los _iteradores_ y las _secuencias_.\n",
    "\n",
    "Los elementos de una _secuencia_ son accesibles por su posición, mientras que\n",
    "los elementos de un _iterador_ sólo se pueden acceder en serie. _Iterable_ sería\n",
    "el concepto más general que englobaría ambos términos.\n",
    "\n",
    "En el resto del artículo hablaremos de _\"secuencias\"_ como término matemático,\n",
    "aunque su implementación podría corresponder con cualquier iterable de los\n",
    "mencionados.\n",
    "\n",
    "[glosario]: https://docs.python.org/3.9/glossary.html"
   ],
   "cell_type": "markdown",
   "metadata": {}
  },
  {
   "source": [
    "## Secuencias infinitas\n",
    "\n",
    "En python, para crear secuencias infinitas se suelen usar _generadores_. Por\n",
    "ejemplo, para obtener la secuencia de _Números Naturales_ se podría hacer así:\n"
   ],
   "cell_type": "markdown",
   "metadata": {}
  },
  {
   "cell_type": "code",
   "execution_count": 35,
   "metadata": {},
   "outputs": [],
   "source": [
    "from collections.abc import Iterable\n",
    "\n",
    "def ℕ() -> Iterable[int]:\n",
    "    n = 0\n",
    "    while 1:\n",
    "        yield n\n",
    "        n += 1"
   ]
  },
  {
   "source": [
    "No podemos tratar las secuencias infinitas del mismo modo que con una lista.\n",
    "Necesitamos las funciones del módulo [itertools][] capaces de operar con\n",
    "iteradores para pasar a una lista en el momento que realmente la necesitemos. Al\n",
    "final de la documentación del módulo se incluyen algunas\n",
    "[recetas][itertools-recipes] que dan idea de lo que pueden hacer.\n",
    "\n",
    "Por ejemplo, podríamos redefinir la secuencia de número naturales con\n",
    "`itertools.count`:\n",
    "\n",
    "[itertools]: https://docs.python.org/3.9/library/itertools.html\n",
    "[itertools-recipes]: https://docs.python.org/3.9/library/itertools.html#itertools-recipes\n"
   ],
   "cell_type": "markdown",
   "metadata": {}
  },
  {
   "cell_type": "code",
   "execution_count": 36,
   "metadata": {},
   "outputs": [],
   "source": [
    "from itertools import count\n",
    "\n",
    "ℕ = count(0)"
   ]
  },
  {
   "source": [
    "Para obtener los primeros 100 números naturales"
   ],
   "cell_type": "markdown",
   "metadata": {}
  },
  {
   "cell_type": "code",
   "execution_count": 37,
   "metadata": {},
   "outputs": [
    {
     "output_type": "stream",
     "name": "stdout",
     "text": [
      "[0, 1, 2, 3, 4, 5, 6, 7, 8, 9, 10, 11, 12, 13, 14, 15, 16, 17, 18, 19, 20, 21, 22, 23, 24, 25, 26, 27, 28, 29, 30, 31, 32, 33, 34, 35, 36, 37, 38, 39, 40, 41, 42, 43, 44, 45, 46, 47, 48, 49, 50, 51, 52, 53, 54, 55, 56, 57, 58, 59, 60, 61, 62, 63, 64, 65, 66, 67, 68, 69, 70, 71, 72, 73, 74, 75, 76, 77, 78, 79, 80, 81, 82, 83, 84, 85, 86, 87, 88, 89, 90, 91, 92, 93, 94, 95, 96, 97, 98, 99]\n"
     ]
    }
   ],
   "source": [
    "from itertools import islice\n",
    "\n",
    "print(list(islice(ℕ, 100)))"
   ]
  },
  {
   "source": [
    "Emular la función `enumerate`:"
   ],
   "cell_type": "markdown",
   "metadata": {}
  },
  {
   "cell_type": "code",
   "execution_count": 39,
   "metadata": {},
   "outputs": [],
   "source": [
    "from collections.abc import Iterable, Iterator\n",
    "\n",
    "def enumerate(it: Iterable) -> Iterator:\n",
    "    ℕ = count(0)\n",
    "    return zip(ℕ, it)"
   ]
  },
  {
   "source": [
    "¿Y si quisiéramos obtener la lista de cuadrados en el intérvalo `[100, 200)`.\n",
    "Veamos (NO PROBAR):"
   ],
   "cell_type": "markdown",
   "metadata": {}
  },
  {
   "cell_type": "code",
   "execution_count": null,
   "metadata": {},
   "outputs": [],
   "source": [
    "ℕ = count(0)\n",
    "cuadrados = (n**2 for n in ℕ)\n",
    "res = [x for x in cuadrados if 100<=x<200]"
   ]
  },
  {
   "source": [
    "Si probabos es posible que se quede en un bucle infinito. Necesita comprobar todos los elementos, por lo que se pondrá a calcular todos lo elementos de la sucesión para ver si cumplen la condición.\n",
    "\n",
    "Como sabemos que la sucesión de cuadrados es creciente, podemos pararla en el momento que se salga de límites:\n"
   ],
   "cell_type": "markdown",
   "metadata": {}
  },
  {
   "source": [
    "from itertools import dropwhile, takewhile\n",
    "\n",
    "ℕ = count(0)\n",
    "cuadrados = (n ** 2 for n in ℕ)\n",
    "mayores_100 = dropwhile(lambda x: x < 100, cuadrados)\n",
    "menores_200 = takewhile(lambda x: x <= 200, mayores_100)\n",
    "list(menores_200)"
   ],
   "cell_type": "code",
   "metadata": {},
   "execution_count": 43,
   "outputs": [
    {
     "output_type": "execute_result",
     "data": {
      "text/plain": [
       "[100, 121, 144, 169, 196]"
      ]
     },
     "metadata": {},
     "execution_count": 43
    }
   ]
  },
  {
   "source": [
    "En definitiva, hemos encadenado varias funciones hasta conseguir el iterador que\n",
    "necitábamos. En _programación funcional_, a este encadenado de funciones se\n",
    "denomina como _composición de funciones_ y es bastante utilizado.\n",
    "Lamentablemente, en python no existe este tipo de operaciones."
   ],
   "cell_type": "markdown",
   "metadata": {}
  },
  {
   "source": [
    "## Ejemplo: sucesión de Fibonacci\n",
    "\n",
    "La sucesión de _Fibonacci_ se define de la siguiente manera:\n",
    "\n",
    "$$f_0=1$$\n",
    "$$f_1=1$$\n",
    "$$f_n = f_{n-1} + f_{n-2}$$\n",
    "\n",
    "Operando, podemos obtener la sencuencia:\n",
    "\n",
    "```haskell\n",
    "1\n",
    "1\n",
    "1+1 -> 2\n",
    "1+2 -> 3\n",
    "2+3 -> 5\n",
    "...\n",
    "```"
   ],
   "cell_type": "markdown",
   "metadata": {}
  },
  {
   "source": [
    "La lista de los 20 primeros:\n",
    "\n",
    "```python\n",
    "[1, 1, 2, 3, 5, 8, 13, 21, 34, 55, 89, 144, 233, 377, 610, 987, 1597, 2584, 4181, 6765]\n",
    "```\n",
    "\n",
    "Un modo simple de construir la serie es usar un generador:\n"
   ],
   "cell_type": "markdown",
   "metadata": {}
  },
  {
   "cell_type": "code",
   "execution_count": 44,
   "metadata": {},
   "outputs": [
    {
     "output_type": "stream",
     "name": "stdout",
     "text": [
      "[1, 1, 2, 3, 5, 8, 13, 21, 34, 55, 89, 144, 233, 377, 610, 987, 1597, 2584, 4181, 6765]\n"
     ]
    }
   ],
   "source": [
    "from collections.abc import Iterator\n",
    "from itertools import islice\n",
    "\n",
    "def fib() -> Iterator[int]:\n",
    "    a, b = 1, 1\n",
    "    while True:\n",
    "        yield a\n",
    "        a, b = b, a+b\n",
    "\n",
    "# primeros 20 elementos\n",
    "print(list(islice(fib(), 20)))"
   ]
  },
  {
   "source": [
    "Para obtener un elemento en una posición dada tenemos que _consumir_ el iterador\n",
    "hasta llegar a ella.\n",
    "\n",
    "Por ejemplo, para obtener el elemento de la posición 1000:"
   ],
   "cell_type": "markdown",
   "metadata": {}
  },
  {
   "cell_type": "code",
   "execution_count": 45,
   "metadata": {},
   "outputs": [
    {
     "output_type": "execute_result",
     "data": {
      "text/plain": [
       "70330367711422815821835254877183549770181269836358732742604905087154537118196933579742249494562611733487750449241765991088186363265450223647106012053374121273867339111198139373125598767690091902245245323403501"
      ]
     },
     "metadata": {},
     "execution_count": 45
    }
   ],
   "source": [
    "next(islice(fib(), 1000, None))"
   ]
  },
  {
   "source": [
    "Ha sido necesario calcular todos los elementos anteriores hasta llegar al que\n",
    "deseamos, algo que hay que repetir para cada uno de los elementos que queramos\n",
    "extraer.\n",
    "\n",
    "Afortunadamente, la sucesión de fibonacci tiene elemento genérico que se expresa\n",
    "en función de el _número áureo_ $\\varphi$ y que tiene la siguiente formulación:\n",
    "\n",
    "$$\\varphi ={\\frac {1+{\\sqrt {5}}}{2}}$$\n",
    "\n",
    "Usando el _número áureo_, un elemento de la serie fibonacci se puede calcular\n",
    "con la siguiente fórmula de Édouard Lucas,:\n",
    "\n",
    "$$f_n=\\frac{\\varphi^n-\\left(1-\\varphi\\right)^{n}}{\\sqrt5}$$\n",
    "\n",
    "Que podemos ajustar el redondeo y expresar como:\n",
    "\n",
    "$$f_{n}=\\operatorname {int} \\left({\\frac {\\varphi ^{n}}{\\sqrt {5}}}+{\\frac {1}{2}}\\right)$$\n",
    "\n",
    "Así pues, podemos echar mano de la secuencia `GenericRange` que vimos en el\n",
    "artículo anterior para definir una secuencia para fibonacci:"
   ],
   "cell_type": "markdown",
   "metadata": {}
  },
  {
   "cell_type": "code",
   "execution_count": 46,
   "metadata": {},
   "outputs": [],
   "source": [
    "class FibRange(GenericRange):\n",
    "    def getitem(self, n):\n",
    "        sqrt5 = 5**(1/2)\n",
    "        φ = (1 + sqrt5) / 2\n",
    "        return int(φ**n/sqrt5 + 1/2)"
   ]
  },
  {
   "cell_type": "code",
   "execution_count": 47,
   "metadata": {},
   "outputs": [
    {
     "output_type": "execute_result",
     "data": {
      "text/plain": [
       "[354224848179263111168,\n",
       " 573147844013818970112,\n",
       " 927372692193082081280,\n",
       " 1500520536206901248000,\n",
       " 2427893228399983329280,\n",
       " 3928413764606884839424,\n",
       " 6356306993006868692992,\n",
       " 10284720757613753532416,\n",
       " 16641027750620622225408,\n",
       " 26925748508234379952128]"
      ]
     },
     "metadata": {},
     "execution_count": 47
    }
   ],
   "source": [
    "list(FibRange(100,110))"
   ]
  },
  {
   "source": [
    "Lamentablemente, aunque al final se obtenga un número entero, para hacer el\n",
    "cálculo hemos recurrido al cálculo numérico de coma flotante, lo que produce\n",
    "desbordamiento cuando trabajamos con números grandes. Tenemos que buscar otros\n",
    "métodos para mantenernos en el dominio de los número enteros. Pero lo dejaremos\n",
    "ya para el próximo artículo, donde veremos las _memoizaciones_ o el modo de\n",
    "guardar los resultados de un función para evitar repetir el mismo cálculo cuando\n",
    "se vuelva a necesitar."
   ],
   "cell_type": "markdown",
   "metadata": {}
  },
  {
   "source": [
    "## Resumen\n",
    "\n",
    "Las secuencias numéricas se pueden expresar en forma de _iterables_, de las que\n",
    "tenemos dos tipos: `iteradores` y `secuencias`.\n",
    "\n",
    "Normalmente en python, para trabajar con secuencias infinitas se usan\n",
    "iteradores. Para poder manejar estos iteradores se usan las funciones del módulo\n",
    "`itertools` que podemos combinar para obtener como resultado un iterable  que ya\n",
    "podemos manejar mejor.\n",
    "\n",
    "Si la secuencia tiene definido un elemento genérico, entonces podemos utilizar\n",
    "los rangos que ya habíamos visto anteriormente para crear la secuencia infinita."
   ],
   "cell_type": "markdown",
   "metadata": {}
  }
 ]
}